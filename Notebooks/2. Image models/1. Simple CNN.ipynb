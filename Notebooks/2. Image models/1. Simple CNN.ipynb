{
 "cells": [
  {
   "cell_type": "markdown",
   "metadata": {},
   "source": [
    "Simple CNN created here, without pretrain."
   ]
  },
  {
   "cell_type": "code",
   "execution_count": 1,
   "metadata": {},
   "outputs": [],
   "source": [
    "METADATA_COL2DESC = {\n",
    "    \"isic_id\": \"Unique identifier for each image case.\",\n",
    "    \"target\": \"Binary class label (0 = benign, 1 = malignant).\",\n",
    "    \"patient_id\": \"Unique identifier for each patient.\",\n",
    "    \"age_approx\": \"Approximate age of the patient at time of imaging.\",\n",
    "    \"sex\": \"Sex of the patient (male or female).\",\n",
    "    \"anatom_site_general\": \"General location of the lesion on the patient's body.\",\n",
    "    \"clin_size_long_diam_mm\": \"Maximum diameter of the lesion (mm).\",\n",
    "    \"image_type\": \"Type of image captured, as defined in the ISIC Archive.\",\n",
    "    \"tbp_tile_type\": \"Lighting modality of the 3D Total Body Photography (TBP) source image.\",\n",
    "    \"tbp_lv_A\": \"Color channel A (green-red axis in LAB space) inside the lesion.\",\n",
    "    \"tbp_lv_Aext\": \"Color channel A outside the lesion.\",\n",
    "    \"tbp_lv_B\": \"Color channel B (blue-yellow axis in LAB space) inside the lesion.\",\n",
    "    \"tbp_lv_Bext\": \"Color channel B outside the lesion.\",\n",
    "    \"tbp_lv_C\": \"Chroma value inside the lesion.\",\n",
    "    \"tbp_lv_Cext\": \"Chroma value outside the lesion.\",\n",
    "    \"tbp_lv_H\": \"Hue value inside the lesion (LAB color space).\",\n",
    "    \"tbp_lv_Hext\": \"Hue value outside the lesion.\",\n",
    "    \"tbp_lv_L\": \"Luminance inside the lesion (LAB color space).\",\n",
    "    \"tbp_lv_Lext\": \"Luminance outside the lesion.\",\n",
    "    \"tbp_lv_areaMM2\": \"Area of the lesion in mm².\",\n",
    "    \"tbp_lv_area_perim_ratio\": \"Ratio of the lesion's perimeter to its area (border jaggedness).\",\n",
    "    \"tbp_lv_color_std_mean\": \"Mean color irregularity within the lesion.\",\n",
    "    \"tbp_lv_deltaA\": \"Average contrast in color channel A between inside and outside.\",\n",
    "    \"tbp_lv_deltaB\": \"Average contrast in color channel B between inside and outside.\",\n",
    "    \"tbp_lv_deltaL\": \"Average contrast in luminance between inside and outside.\",\n",
    "    \"tbp_lv_deltaLB\": \"Combined contrast between the lesion and surrounding skin.\",\n",
    "    \"tbp_lv_deltaLBnorm\": \"Normalized contrast (LAB color space).\",\n",
    "    \"tbp_lv_eccentricity\": \"Eccentricity of the lesion (how elongated it is).\",\n",
    "    \"tbp_lv_location\": \"Detailed anatomical location (e.g., Upper Arm).\",\n",
    "    \"tbp_lv_location_simple\": \"Simplified anatomical location (e.g., Arm).\",\n",
    "    \"tbp_lv_minorAxisMM\": \"Smallest diameter of the lesion in mm.\",\n",
    "    \"tbp_lv_nevi_confidence\": \"Confidence score (0-100) for the lesion being a nevus.\",\n",
    "    \"tbp_lv_norm_border\": \"Normalized border irregularity (0-10 scale).\",\n",
    "    \"tbp_lv_norm_color\": \"Normalized color variation (0-10 scale).\",\n",
    "    \"tbp_lv_perimeterMM\": \"Perimeter of the lesion in mm.\",\n",
    "    \"tbp_lv_radial_color_std_max\": \"Color asymmetry within the lesion, measured radially.\",\n",
    "    \"tbp_lv_stdL\": \"Std. deviation of luminance inside the lesion.\",\n",
    "    \"tbp_lv_stdLExt\": \"Std. deviation of luminance outside the lesion.\",\n",
    "    \"tbp_lv_symm_2axis\": \"Asymmetry about a second axis of symmetry.\",\n",
    "    \"tbp_lv_symm_2axis_angle\": \"Angle of that second axis of symmetry.\",\n",
    "    \"tbp_lv_x\": \"X-coordinate in the 3D TBP model.\",\n",
    "    \"tbp_lv_y\": \"Y-coordinate in the 3D TBP model.\",\n",
    "    \"tbp_lv_z\": \"Z-coordinate in the 3D TBP model.\",\n",
    "    \"attribution\": \"Image source or institution.\",\n",
    "    \"copyright_license\": \"License information.\",\n",
    "    \"lesion_id\": \"Unique ID for lesions of interest.\",\n",
    "    \"iddx_full\": \"Full diagnosis classification.\",\n",
    "    \"iddx_1\": \"First-level (broad) diagnosis.\",\n",
    "    \"iddx_2\": \"Second-level diagnosis.\",\n",
    "    \"iddx_3\": \"Third-level diagnosis.\",\n",
    "    \"iddx_4\": \"Fourth-level diagnosis.\",\n",
    "    \"iddx_5\": \"Fifth-level diagnosis.\",\n",
    "    \"mel_mitotic_index\": \"Mitotic index of invasive malignant melanomas.\",\n",
    "    \"mel_thick_mm\": \"Thickness of melanoma invasion in mm.\",\n",
    "    \"tbp_lv_dnn_lesion_confidence\": \"Lesion confidence score (0-100) from a DNN classifier.\"\n",
    "}\n",
    "\n",
    "METADATA_COL2NAME = {\n",
    "    \"isic_id\": \"Unique Case Identifier\",\n",
    "    \"target\": \"Binary Lesion Classification\",\n",
    "    \"patient_id\": \"Unique Patient Identifier\",\n",
    "    \"age_approx\": \"Approximate Age\",\n",
    "    \"sex\": \"Sex\",\n",
    "    \"anatom_site_general\": \"General Anatomical Location\",\n",
    "    \"clin_size_long_diam_mm\": \"Clinical Size (Longest Diameter in mm)\",\n",
    "    \"image_type\": \"Image Type\",\n",
    "    \"tbp_tile_type\": \"TBP Tile Type\",\n",
    "    \"tbp_lv_A\": \"Color Channel A (Inside)\",\n",
    "    \"tbp_lv_Aext\": \"Color Channel A (Outside)\",\n",
    "    \"tbp_lv_B\": \"Color Channel B (Inside)\",\n",
    "    \"tbp_lv_Bext\": \"Color Channel B (Outside)\",\n",
    "    \"tbp_lv_C\": \"Chroma (Inside)\",\n",
    "    \"tbp_lv_Cext\": \"Chroma (Outside)\",\n",
    "    \"tbp_lv_H\": \"Hue (Inside)\",\n",
    "    \"tbp_lv_Hext\": \"Hue (Outside)\",\n",
    "    \"tbp_lv_L\": \"Luminance (Inside)\",\n",
    "    \"tbp_lv_Lext\": \"Luminance (Outside)\",\n",
    "    \"tbp_lv_areaMM2\": \"Lesion Area (mm²)\",\n",
    "    \"tbp_lv_area_perim_ratio\": \"Area-to-Perimeter Ratio\",\n",
    "    \"tbp_lv_color_std_mean\": \"Mean Color Irregularity\",\n",
    "    \"tbp_lv_deltaA\": \"Delta A\",\n",
    "    \"tbp_lv_deltaB\": \"Delta B\",\n",
    "    \"tbp_lv_deltaL\": \"Delta L\",\n",
    "    \"tbp_lv_deltaLB\": \"Delta LB\",\n",
    "    \"tbp_lv_deltaLBnorm\": \"Normalized Delta LB\",\n",
    "    \"tbp_lv_eccentricity\": \"Eccentricity\",\n",
    "    \"tbp_lv_location\": \"Detailed Location\",\n",
    "    \"tbp_lv_location_simple\": \"Simplified Location\",\n",
    "    \"tbp_lv_minorAxisMM\": \"Smallest Diameter (mm)\",\n",
    "    \"tbp_lv_nevi_confidence\": \"Nevus Confidence Score\",\n",
    "    \"tbp_lv_norm_border\": \"Normalized Border Irregularity\",\n",
    "    \"tbp_lv_norm_color\": \"Normalized Color Variation\",\n",
    "    \"tbp_lv_perimeterMM\": \"Lesion Perimeter (mm)\",\n",
    "    \"tbp_lv_radial_color_std_max\": \"Radial Color Deviation\",\n",
    "    \"tbp_lv_stdL\": \"Std. Dev. Luminance (Inside)\",\n",
    "    \"tbp_lv_stdLExt\": \"Std. Dev. Luminance (Outside)\",\n",
    "    \"tbp_lv_symm_2axis\": \"Symmetry (Second Axis)\",\n",
    "    \"tbp_lv_symm_2axis_angle\": \"Symmetry Angle (Second Axis)\",\n",
    "    \"tbp_lv_x\": \"X-Coordinate\",\n",
    "    \"tbp_lv_y\": \"Y-Coordinate\",\n",
    "    \"tbp_lv_z\": \"Z-Coordinate\",\n",
    "    \"attribution\": \"Image Source\",\n",
    "    \"copyright_license\": \"Copyright\",\n",
    "    \"lesion_id\": \"Unique Lesion ID\",\n",
    "    \"iddx_full\": \"Full Diagnosis\",\n",
    "    \"iddx_1\": \"Diagnosis Level 1\",\n",
    "    \"iddx_2\": \"Diagnosis Level 2\",\n",
    "    \"iddx_3\": \"Diagnosis Level 3\",\n",
    "    \"iddx_4\": \"Diagnosis Level 4\",\n",
    "    \"iddx_5\": \"Diagnosis Level 5\",\n",
    "    \"mel_mitotic_index\": \"Mitotic Index (Melanoma)\",\n",
    "    \"mel_thick_mm\": \"Melanoma Thickness (mm)\",\n",
    "    \"tbp_lv_dnn_lesion_confidence\": \"Lesion DNN Confidence\"\n",
    "}"
   ]
  },
  {
   "cell_type": "code",
   "execution_count": 2,
   "metadata": {},
   "outputs": [],
   "source": [
    "import os\n",
    "import h5py\n",
    "import cv2\n",
    "import numpy as np\n",
    "import pandas as pd\n",
    "import torch\n",
    "import torch.nn as nn\n",
    "import torch.nn.functional as F\n",
    "from torch.utils.data import Dataset, DataLoader, random_split\n",
    "import torchvision.transforms as T\n",
    "import matplotlib.pyplot as plt\n",
    "\n",
    "from torchvision import models\n",
    "from tqdm.auto import tqdm"
   ]
  },
  {
   "cell_type": "code",
   "execution_count": 3,
   "metadata": {},
   "outputs": [
    {
     "name": "stdout",
     "output_type": "stream",
     "text": [
      "Using device: mps\n"
     ]
    }
   ],
   "source": [
    "# If using GPU\n",
    "device = torch.device(\"mps\" if torch.backends.mps.is_available() else \"cpu\")\n",
    "print(\"Using device:\", device)"
   ]
  },
  {
   "cell_type": "markdown",
   "metadata": {},
   "source": [
    "## Custom Dataset for HDF5"
   ]
  },
  {
   "cell_type": "code",
   "execution_count": 4,
   "metadata": {},
   "outputs": [],
   "source": [
    "class ISIC_HDF5_Dataset(Dataset):\n",
    "    \"\"\"\n",
    "    A PyTorch Dataset that loads images from an HDF5 file given a DataFrame of IDs.\n",
    "    Applies image transforms suitable for ResNet50.\n",
    "    \"\"\"\n",
    "    def __init__(self, df: pd.DataFrame, hdf5_path: str, transform=None, is_labelled: bool = True):\n",
    "        \"\"\"\n",
    "        Args:\n",
    "            df (pd.DataFrame): DataFrame containing 'isic_id' and optionally 'target'.\n",
    "            hdf5_path (str): Path to the HDF5 file containing images.\n",
    "            transform (callable): Optional transforms to be applied on a sample.\n",
    "            is_labelled (bool): Whether the dataset includes labels (for train/val).\n",
    "        \"\"\"\n",
    "        self.df = df.reset_index(drop=True)\n",
    "        self.hdf5_path = hdf5_path\n",
    "        self.transform = transform\n",
    "        self.is_labelled = is_labelled\n",
    "\n",
    "    def __len__(self):\n",
    "        return len(self.df)\n",
    "\n",
    "    def __getitem__(self, idx):\n",
    "        row = self.df.iloc[idx]\n",
    "        isic_id = row[\"isic_id\"]\n",
    "        \n",
    "        # Load image from HDF5\n",
    "        image_rgb = self._load_image_from_hdf5(isic_id)\n",
    "        \n",
    "        # Apply transforms (PIL-style transforms require converting np array to PIL, or we can do tensor transforms)\n",
    "        if self.transform is not None:\n",
    "            # Convert NumPy array (H x W x C) to a PIL Image\n",
    "            import torchvision.transforms.functional as F_v\n",
    "            image_pil = F_v.to_pil_image(image_rgb)\n",
    "            image = self.transform(image_pil)\n",
    "        else:\n",
    "            # By default, convert it to a tensor (C x H x W)\n",
    "            image = torch.from_numpy(image_rgb).permute(2, 0, 1).float()\n",
    "\n",
    "        if self.is_labelled:\n",
    "            label = row[\"target\"]\n",
    "            label = torch.tensor(label).float()\n",
    "            return image, label, isic_id\n",
    "        else:\n",
    "            return image, isic_id\n",
    "\n",
    "    def _load_image_from_hdf5(self, isic_id: str):\n",
    "        \"\"\"\n",
    "        Loads and decodes an image from HDF5 by isic_id.\n",
    "        Returns a NumPy array in RGB format (H x W x 3).\n",
    "        \"\"\"\n",
    "        with h5py.File(self.hdf5_path, 'r') as hf:\n",
    "            encoded_bytes = hf[isic_id][()]  # uint8 array\n",
    "\n",
    "        # If it's bytes (not np.ndarray), convert it\n",
    "        if isinstance(encoded_bytes, bytes):\n",
    "            encoded_bytes = np.frombuffer(encoded_bytes, dtype=np.uint8)\n",
    "        elif isinstance(encoded_bytes, np.ndarray) and encoded_bytes.dtype != np.uint8:\n",
    "            encoded_bytes = encoded_bytes.astype(np.uint8)\n",
    "\n",
    "        # Decode the image bytes with OpenCV (returns BGR)\n",
    "        image_bgr = cv2.imdecode(encoded_bytes, cv2.IMREAD_COLOR)\n",
    "        # Convert to RGB\n",
    "        image_rgb = cv2.cvtColor(image_bgr, cv2.COLOR_BGR2RGB)\n",
    "        return image_rgb"
   ]
  },
  {
   "cell_type": "markdown",
   "metadata": {},
   "source": [
    "## Data Setup"
   ]
  },
  {
   "cell_type": "code",
   "execution_count": 5,
   "metadata": {},
   "outputs": [
    {
     "name": "stdout",
     "output_type": "stream",
     "text": [
      "train_df shape: (400959, 55)\n",
      "test_df shape:  (100, 44)\n"
     ]
    },
    {
     "name": "stderr",
     "output_type": "stream",
     "text": [
      "/var/folders/8g/6pyhwxxx6y147q2dm10zjk1w0000gn/T/ipykernel_79724/2683077871.py:6: DtypeWarning: Columns (51,52) have mixed types. Specify dtype option on import or set low_memory=False.\n",
      "  train_df = pd.read_csv(TRAIN_METADATA_CSV)\n"
     ]
    }
   ],
   "source": [
    "TRAIN_METADATA_CSV = \"/Users/jorgecamposmarti/Documents/Máster/4o Semicuatrimestre/3. ML (Machine Learning)/Project 2/data/new-train-metadata.csv\"\n",
    "TEST_METADATA_CSV  = \"/Users/jorgecamposmarti/Documents/Máster/4o Semicuatrimestre/3. ML (Machine Learning)/Project 2/data/students-test-metadata.csv\"\n",
    "TRAIN_HDF5         = \"/Users/jorgecamposmarti/Documents/Máster/4o Semicuatrimestre/3. ML (Machine Learning)/Project 2/data/train-image.hdf5\"\n",
    "TEST_HDF5          = \"/Users/jorgecamposmarti/Documents/Máster/4o Semicuatrimestre/3. ML (Machine Learning)/Project 2/data/test-image.hdf5\"\n",
    "\n",
    "train_df = pd.read_csv(TRAIN_METADATA_CSV)\n",
    "test_df  = pd.read_csv(TEST_METADATA_CSV)\n",
    "\n",
    "print(f\"train_df shape: {train_df.shape}\")\n",
    "print(f\"test_df shape:  {test_df.shape}\")"
   ]
  },
  {
   "cell_type": "code",
   "execution_count": 6,
   "metadata": {},
   "outputs": [
    {
     "name": "stdout",
     "output_type": "stream",
     "text": [
      "iddx_5\n",
      "mel_mitotic_index\n"
     ]
    }
   ],
   "source": [
    "print(train_df.columns[51])\n",
    "print(train_df.columns[52])"
   ]
  },
  {
   "cell_type": "markdown",
   "metadata": {},
   "source": [
    "Different columns between train and test:"
   ]
  },
  {
   "cell_type": "code",
   "execution_count": 7,
   "metadata": {},
   "outputs": [
    {
     "name": "stdout",
     "output_type": "stream",
     "text": [
      "Columns only in train_df: {'mel_mitotic_index', 'iddx_1', 'iddx_4', 'tbp_lv_dnn_lesion_confidence', 'mel_thick_mm', 'iddx_full', 'lesion_id', 'iddx_2', 'iddx_3', 'iddx_5', 'target'}\n",
      "Columns only in test_df: set()\n"
     ]
    }
   ],
   "source": [
    "train_columns = set(train_df.columns)\n",
    "test_columns = set(test_df.columns)\n",
    "\n",
    "only_in_train = train_columns - test_columns\n",
    "only_in_test  = test_columns - train_columns\n",
    "\n",
    "print(\"Columns only in train_df:\", only_in_train)\n",
    "print(\"Columns only in test_df:\", only_in_test)"
   ]
  },
  {
   "cell_type": "markdown",
   "metadata": {},
   "source": [
    "- \"target\": \"Binary class label (0 = benign, 1 = malignant).\",\n",
    "- \"lesion_id\": \"Unique ID for lesions of interest.\",\n",
    "- \"iddx_full\": \"Full diagnosis classification.\",\n",
    "- \"iddx_1\": \"First-level (broad) diagnosis.\",\n",
    "- \"iddx_2\": \"Second-level diagnosis.\",\n",
    "- \"iddx_3\": \"Third-level diagnosis.\",\n",
    "- \"iddx_4\": \"Fourth-level diagnosis.\",\n",
    "- \"iddx_5\": \"Fifth-level diagnosis.\",\n",
    "- \"mel_mitotic_index\": \"Mitotic index of invasive malignant melanomas.\",\n",
    "- \"mel_thick_mm\": \"Thickness of melanoma invasion in mm.\",\n",
    "- \"tbp_lv_dnn_lesion_confidence\": \"Lesion confidence score (0-100) from a DNN classifier.\""
   ]
  },
  {
   "cell_type": "markdown",
   "metadata": {},
   "source": [
    "Class imbalance: undersample class 0 so it has the same number of samples as class 1:"
   ]
  },
  {
   "cell_type": "code",
   "execution_count": 8,
   "metadata": {},
   "outputs": [
    {
     "name": "stdout",
     "output_type": "stream",
     "text": [
      "target\n",
      "0    400616\n",
      "1       343\n",
      "Name: count, dtype: int64\n"
     ]
    }
   ],
   "source": [
    "class_counts = train_df['target'].value_counts()\n",
    "print(class_counts)"
   ]
  },
  {
   "cell_type": "code",
   "execution_count": 9,
   "metadata": {},
   "outputs": [
    {
     "name": "stdout",
     "output_type": "stream",
     "text": [
      "target\n",
      "0    343\n",
      "1    343\n",
      "Name: count, dtype: int64\n"
     ]
    }
   ],
   "source": [
    "# Separate the two classes\n",
    "class_0_df = train_df[train_df['target'] == 0]\n",
    "class_1_df = train_df[train_df['target'] == 1]\n",
    "\n",
    "# Determine how many samples are in the minority class (class 1)\n",
    "n_class_1 = len(class_1_df)\n",
    "\n",
    "# Randomly undersample class 0\n",
    "class_0_undersampled = class_0_df.sample(n=n_class_1, random_state=42)\n",
    "\n",
    "# Concatenate both to get a balanced dataframe\n",
    "train_df = pd.concat([class_0_undersampled, class_1_df]).sample(frac=1, random_state=42).reset_index(drop=True)\n",
    "\n",
    "# Check result\n",
    "print(train_df['target'].value_counts())"
   ]
  },
  {
   "cell_type": "code",
   "execution_count": 10,
   "metadata": {},
   "outputs": [
    {
     "name": "stdout",
     "output_type": "stream",
     "text": [
      "Train samples: 548, Valid samples: 138\n"
     ]
    }
   ],
   "source": [
    "# Example: split train_df into 80% train / 20% valid\n",
    "train_size = int(0.8 * len(train_df))\n",
    "valid_size = len(train_df) - train_size\n",
    "train_subset, valid_subset = random_split(\n",
    "    train_df, \n",
    "    [train_size, valid_size],\n",
    "    generator=torch.Generator().manual_seed(42)\n",
    ")\n",
    "\n",
    "train_df_sub = train_df.iloc[train_subset.indices].reset_index(drop=True)\n",
    "valid_df_sub = train_df.iloc[valid_subset.indices].reset_index(drop=True)\n",
    "\n",
    "print(f\"Train samples: {len(train_df_sub)}, Valid samples: {len(valid_df_sub)}\")"
   ]
  },
  {
   "cell_type": "code",
   "execution_count": 11,
   "metadata": {},
   "outputs": [
    {
     "name": "stdout",
     "output_type": "stream",
     "text": [
      "Created train/valid/test datasets.\n"
     ]
    }
   ],
   "source": [
    "\"\"\"# Basic transforms for ResNet\n",
    "resnet_transforms = T.Compose([\n",
    "    T.Resize((224,224)),\n",
    "    T.ToTensor(),\n",
    "    T.Normalize(mean=[0.485, 0.456, 0.406],\n",
    "                std=[0.229, 0.224, 0.225]),\n",
    "])\"\"\"\n",
    "\n",
    "resnet_transforms = T.Compose([\n",
    "    T.RandomHorizontalFlip(),       # Random each call\n",
    "    T.RandomRotation(15),           # Random each call\n",
    "    T.Resize((224, 224)),\n",
    "    T.ToTensor(),\n",
    "    T.Normalize(mean=[0.485, 0.456, 0.406],\n",
    "                std=[0.229, 0.224, 0.225])\n",
    "])\n",
    "\n",
    "\n",
    "# Create Datasets\n",
    "train_dataset = ISIC_HDF5_Dataset(\n",
    "    df=train_df_sub, \n",
    "    hdf5_path=TRAIN_HDF5,\n",
    "    transform=resnet_transforms,\n",
    "    is_labelled=True\n",
    ")\n",
    "\n",
    "valid_dataset = ISIC_HDF5_Dataset(\n",
    "    df=valid_df_sub,\n",
    "    hdf5_path=TRAIN_HDF5,\n",
    "    transform=resnet_transforms,\n",
    "    is_labelled=True\n",
    ")\n",
    "\n",
    "test_dataset = ISIC_HDF5_Dataset(\n",
    "    df=test_df,\n",
    "    hdf5_path=TEST_HDF5,\n",
    "    transform=resnet_transforms,\n",
    "    is_labelled=False\n",
    ")\n",
    "\n",
    "print(\"Created train/valid/test datasets.\")"
   ]
  },
  {
   "cell_type": "code",
   "execution_count": 12,
   "metadata": {},
   "outputs": [
    {
     "name": "stdout",
     "output_type": "stream",
     "text": [
      "Train loader: 18 batches\n",
      "Valid loader: 5 batches\n",
      "Test loader:  4 batches\n"
     ]
    }
   ],
   "source": [
    "BATCH_SIZE = 32\n",
    "\n",
    "train_loader = DataLoader(\n",
    "    train_dataset,\n",
    "    batch_size=BATCH_SIZE,\n",
    "    shuffle=True\n",
    ")\n",
    "\n",
    "valid_loader = DataLoader(\n",
    "    valid_dataset,\n",
    "    batch_size=BATCH_SIZE,\n",
    "    shuffle=False\n",
    ")\n",
    "\n",
    "test_loader = DataLoader(\n",
    "    test_dataset,\n",
    "    batch_size=BATCH_SIZE,\n",
    "    shuffle=False\n",
    ")\n",
    "\n",
    "print(f\"Train loader: {len(train_loader)} batches\")\n",
    "print(f\"Valid loader: {len(valid_loader)} batches\")\n",
    "print(f\"Test loader:  {len(test_loader)} batches\")"
   ]
  },
  {
   "cell_type": "markdown",
   "metadata": {},
   "source": [
    "## Model"
   ]
  },
  {
   "cell_type": "code",
   "execution_count": 13,
   "metadata": {},
   "outputs": [],
   "source": [
    "class Lenet1(nn.Module):\n",
    "    def __init__(self, dimx): #Nlabels will be 10 in our case\n",
    "        super().__init__()\n",
    "\n",
    "        # Spatial dimension of the Tensor at the output of the 2nd CNN\n",
    "        self.final_dim = int(((dimx-4)/2-4)/2)  #((32-4)/2-4)/2=5\n",
    "\n",
    "        # convolutional layer (sees [3, 224, 224] image tensor)\n",
    "        self.conv1 = nn.Conv2d(in_channels=3, out_channels=6, \n",
    "                               kernel_size=5, stride=1, padding=0)\n",
    "        \n",
    "        # convolutional layer\n",
    "        self.conv2 = nn.Conv2d(6, 12, 5, padding=0)\n",
    "\n",
    "        self.conv3 = nn.Conv2d(12, 24, 5, padding=0)\n",
    "\n",
    "        self.conv4 = nn.Conv2d(24, 6, 5, padding=0)\n",
    "        \n",
    "        # Max pool layer\n",
    "        self.pool = nn.MaxPool2d(2, 2)\n",
    "\n",
    "        # Linear layers\n",
    "        self.linear1 = nn.Linear(6 * 10**2,120)\n",
    "        \n",
    "        self.linear2 = nn.Linear(120,84)\n",
    "        \n",
    "        self.linear3 = nn.Linear(84,1)\n",
    "    \n",
    "        self.relu = nn.ReLU()\n",
    "\n",
    "        self.sigmoid = nn.Sigmoid()\n",
    "        \n",
    "        \n",
    "        \n",
    "    def forward(self, x):\n",
    "        # Pass the input tensor through the CNN operations\n",
    "        x = self.conv1(x) #YOUR CODE HERE\n",
    "        x = self.relu(x) \n",
    "        x = self.pool(x)\n",
    "        x = self.conv2(x)\n",
    "        x = self.relu(x)\n",
    "        x = self.pool(x)\n",
    "        x = self.conv3(x)\n",
    "        x = self.relu(x)\n",
    "        x = self.pool(x)\n",
    "        x = self.conv4(x)\n",
    "        x = self.relu(x)\n",
    "        x = self.pool(x)\n",
    "        x = x.view(x.size(0), -1)\n",
    "        # Pass the tensor through the Dense Layers\n",
    "        x = self.linear1(x)\n",
    "        x = self.relu(x)\n",
    "        x = self.linear2(x)\n",
    "        x = self.relu(x)\n",
    "        x = self.linear3(x)\n",
    "        x = self.sigmoid(x) \n",
    "        x = x.view(-1)\n",
    "        return x"
   ]
  },
  {
   "cell_type": "code",
   "execution_count": 14,
   "metadata": {},
   "outputs": [],
   "source": [
    "class SmallCNN1(nn.Module):\n",
    "    def __init__(self):\n",
    "        super().__init__()\n",
    "        self.conv_layers = nn.Sequential(\n",
    "            nn.Conv2d(3, 16, kernel_size=3, padding=1),  # [B, 16, 224, 224]\n",
    "            nn.ReLU(),\n",
    "            nn.MaxPool2d(2),  # [B, 16, 112, 112]\n",
    "\n",
    "            nn.Conv2d(16, 32, kernel_size=3, padding=1),  # [B, 32, 112, 112]\n",
    "            nn.ReLU(),\n",
    "            nn.MaxPool2d(2),  # [B, 32, 56, 56]\n",
    "\n",
    "            nn.Conv2d(32, 64, kernel_size=3, padding=1),  # [B, 64, 56, 56]\n",
    "            nn.ReLU(),\n",
    "            nn.MaxPool2d(2),  # [B, 64, 28, 28]\n",
    "        )\n",
    "        self.fc_layers = nn.Sequential(\n",
    "            nn.Flatten(),              # [B, 64*28*28]\n",
    "            nn.Linear(64 * 28 * 28, 128),\n",
    "            nn.ReLU(),\n",
    "            nn.Dropout(0.4),\n",
    "            nn.Linear(128, 1),\n",
    "            nn.Sigmoid()\n",
    "        )\n",
    "        \n",
    "    def forward(self, x):\n",
    "        x = self.conv_layers(x)\n",
    "        x = self.fc_layers(x)\n",
    "        x = x.view(-1)\n",
    "        return x\n"
   ]
  },
  {
   "cell_type": "code",
   "execution_count": 15,
   "metadata": {},
   "outputs": [
    {
     "data": {
      "application/vnd.jupyter.widget-view+json": {
       "model_id": "0d2e870226e94d1d8cced74e1cde610a",
       "version_major": 2,
       "version_minor": 0
      },
      "text/plain": [
       "Epoch 1:   0%|          | 0/18 [00:00<?, ?it/s]"
      ]
     },
     "metadata": {},
     "output_type": "display_data"
    },
    {
     "name": "stdout",
     "output_type": "stream",
     "text": [
      "Epoch 1/50 | Train Loss: 0.6872 | Val Loss: 0.6783\n"
     ]
    },
    {
     "data": {
      "application/vnd.jupyter.widget-view+json": {
       "model_id": "7d88dfa64c9940d8bdbac9c61f6624cc",
       "version_major": 2,
       "version_minor": 0
      },
      "text/plain": [
       "Epoch 2:   0%|          | 0/18 [00:00<?, ?it/s]"
      ]
     },
     "metadata": {},
     "output_type": "display_data"
    },
    {
     "name": "stdout",
     "output_type": "stream",
     "text": [
      "Epoch 2/50 | Train Loss: 0.6475 | Val Loss: 0.6579\n"
     ]
    },
    {
     "data": {
      "application/vnd.jupyter.widget-view+json": {
       "model_id": "aabf7b48ead2478882c6c8585645ae94",
       "version_major": 2,
       "version_minor": 0
      },
      "text/plain": [
       "Epoch 3:   0%|          | 0/18 [00:00<?, ?it/s]"
      ]
     },
     "metadata": {},
     "output_type": "display_data"
    },
    {
     "name": "stdout",
     "output_type": "stream",
     "text": [
      "Epoch 3/50 | Train Loss: 0.6147 | Val Loss: 0.6266\n"
     ]
    },
    {
     "data": {
      "application/vnd.jupyter.widget-view+json": {
       "model_id": "7d64cbf7b7e147da926ba7605a336e31",
       "version_major": 2,
       "version_minor": 0
      },
      "text/plain": [
       "Epoch 4:   0%|          | 0/18 [00:00<?, ?it/s]"
      ]
     },
     "metadata": {},
     "output_type": "display_data"
    },
    {
     "name": "stdout",
     "output_type": "stream",
     "text": [
      "Epoch 4/50 | Train Loss: 0.5671 | Val Loss: 0.6097\n"
     ]
    },
    {
     "data": {
      "application/vnd.jupyter.widget-view+json": {
       "model_id": "2c4f97df3ae64ef2b05e5e8f11a23f6d",
       "version_major": 2,
       "version_minor": 0
      },
      "text/plain": [
       "Epoch 5:   0%|          | 0/18 [00:00<?, ?it/s]"
      ]
     },
     "metadata": {},
     "output_type": "display_data"
    },
    {
     "name": "stdout",
     "output_type": "stream",
     "text": [
      "Epoch 5/50 | Train Loss: 0.5867 | Val Loss: 0.6028\n"
     ]
    },
    {
     "data": {
      "application/vnd.jupyter.widget-view+json": {
       "model_id": "6e3ceff8826e42648b29e37b7b516ddf",
       "version_major": 2,
       "version_minor": 0
      },
      "text/plain": [
       "Epoch 6:   0%|          | 0/18 [00:00<?, ?it/s]"
      ]
     },
     "metadata": {},
     "output_type": "display_data"
    },
    {
     "name": "stdout",
     "output_type": "stream",
     "text": [
      "Epoch 6/50 | Train Loss: 0.5189 | Val Loss: 0.5362\n"
     ]
    },
    {
     "data": {
      "application/vnd.jupyter.widget-view+json": {
       "model_id": "27895783f05744878434f4182291faaa",
       "version_major": 2,
       "version_minor": 0
      },
      "text/plain": [
       "Epoch 7:   0%|          | 0/18 [00:00<?, ?it/s]"
      ]
     },
     "metadata": {},
     "output_type": "display_data"
    },
    {
     "name": "stdout",
     "output_type": "stream",
     "text": [
      "Epoch 7/50 | Train Loss: 0.4930 | Val Loss: 0.5149\n"
     ]
    },
    {
     "data": {
      "application/vnd.jupyter.widget-view+json": {
       "model_id": "7987cedb63c14c3cb64417eaa362e99d",
       "version_major": 2,
       "version_minor": 0
      },
      "text/plain": [
       "Epoch 8:   0%|          | 0/18 [00:00<?, ?it/s]"
      ]
     },
     "metadata": {},
     "output_type": "display_data"
    },
    {
     "name": "stdout",
     "output_type": "stream",
     "text": [
      "Epoch 8/50 | Train Loss: 0.4864 | Val Loss: 0.5159\n"
     ]
    },
    {
     "data": {
      "application/vnd.jupyter.widget-view+json": {
       "model_id": "575a2e992939418790e3162ded138f6b",
       "version_major": 2,
       "version_minor": 0
      },
      "text/plain": [
       "Epoch 9:   0%|          | 0/18 [00:00<?, ?it/s]"
      ]
     },
     "metadata": {},
     "output_type": "display_data"
    },
    {
     "name": "stdout",
     "output_type": "stream",
     "text": [
      "Epoch 9/50 | Train Loss: 0.4770 | Val Loss: 0.4895\n"
     ]
    },
    {
     "data": {
      "application/vnd.jupyter.widget-view+json": {
       "model_id": "89c922b611f547d3ac9be16104e53d0a",
       "version_major": 2,
       "version_minor": 0
      },
      "text/plain": [
       "Epoch 10:   0%|          | 0/18 [00:00<?, ?it/s]"
      ]
     },
     "metadata": {},
     "output_type": "display_data"
    },
    {
     "name": "stdout",
     "output_type": "stream",
     "text": [
      "Epoch 10/50 | Train Loss: 0.4870 | Val Loss: 0.4652\n"
     ]
    },
    {
     "data": {
      "application/vnd.jupyter.widget-view+json": {
       "model_id": "f277c1a132f7477daaba63135ccddccf",
       "version_major": 2,
       "version_minor": 0
      },
      "text/plain": [
       "Epoch 11:   0%|          | 0/18 [00:00<?, ?it/s]"
      ]
     },
     "metadata": {},
     "output_type": "display_data"
    },
    {
     "name": "stdout",
     "output_type": "stream",
     "text": [
      "Epoch 11/50 | Train Loss: 0.4805 | Val Loss: 0.4671\n"
     ]
    },
    {
     "data": {
      "application/vnd.jupyter.widget-view+json": {
       "model_id": "19c1d573a8364fcfb80e081658997636",
       "version_major": 2,
       "version_minor": 0
      },
      "text/plain": [
       "Epoch 12:   0%|          | 0/18 [00:00<?, ?it/s]"
      ]
     },
     "metadata": {},
     "output_type": "display_data"
    },
    {
     "name": "stdout",
     "output_type": "stream",
     "text": [
      "Epoch 12/50 | Train Loss: 0.4600 | Val Loss: 0.4628\n"
     ]
    },
    {
     "data": {
      "application/vnd.jupyter.widget-view+json": {
       "model_id": "aea14d3e448d44ea9592e33eb05a1b02",
       "version_major": 2,
       "version_minor": 0
      },
      "text/plain": [
       "Epoch 13:   0%|          | 0/18 [00:00<?, ?it/s]"
      ]
     },
     "metadata": {},
     "output_type": "display_data"
    },
    {
     "name": "stdout",
     "output_type": "stream",
     "text": [
      "Epoch 13/50 | Train Loss: 0.4845 | Val Loss: 0.4637\n"
     ]
    },
    {
     "data": {
      "application/vnd.jupyter.widget-view+json": {
       "model_id": "681be642af1d4334a806767cada2a7f5",
       "version_major": 2,
       "version_minor": 0
      },
      "text/plain": [
       "Epoch 14:   0%|          | 0/18 [00:00<?, ?it/s]"
      ]
     },
     "metadata": {},
     "output_type": "display_data"
    },
    {
     "name": "stdout",
     "output_type": "stream",
     "text": [
      "Epoch 14/50 | Train Loss: 0.4346 | Val Loss: 0.4665\n"
     ]
    },
    {
     "data": {
      "application/vnd.jupyter.widget-view+json": {
       "model_id": "53087a57abc8413b9fdcf92ba76936d7",
       "version_major": 2,
       "version_minor": 0
      },
      "text/plain": [
       "Epoch 15:   0%|          | 0/18 [00:00<?, ?it/s]"
      ]
     },
     "metadata": {},
     "output_type": "display_data"
    },
    {
     "name": "stdout",
     "output_type": "stream",
     "text": [
      "Epoch 15/50 | Train Loss: 0.4452 | Val Loss: 0.4574\n"
     ]
    },
    {
     "data": {
      "application/vnd.jupyter.widget-view+json": {
       "model_id": "dda69fa2b7fc4a6c8caccadc0df0891b",
       "version_major": 2,
       "version_minor": 0
      },
      "text/plain": [
       "Epoch 16:   0%|          | 0/18 [00:00<?, ?it/s]"
      ]
     },
     "metadata": {},
     "output_type": "display_data"
    },
    {
     "name": "stdout",
     "output_type": "stream",
     "text": [
      "Epoch 16/50 | Train Loss: 0.4253 | Val Loss: 0.4871\n"
     ]
    },
    {
     "data": {
      "application/vnd.jupyter.widget-view+json": {
       "model_id": "9a663c40579c4c1590ed7cf5212661d8",
       "version_major": 2,
       "version_minor": 0
      },
      "text/plain": [
       "Epoch 17:   0%|          | 0/18 [00:00<?, ?it/s]"
      ]
     },
     "metadata": {},
     "output_type": "display_data"
    },
    {
     "name": "stdout",
     "output_type": "stream",
     "text": [
      "Epoch 17/50 | Train Loss: 0.4546 | Val Loss: 0.4635\n"
     ]
    },
    {
     "data": {
      "application/vnd.jupyter.widget-view+json": {
       "model_id": "0193fb8e4ffb457d9e1a697e503c4b61",
       "version_major": 2,
       "version_minor": 0
      },
      "text/plain": [
       "Epoch 18:   0%|          | 0/18 [00:00<?, ?it/s]"
      ]
     },
     "metadata": {},
     "output_type": "display_data"
    },
    {
     "name": "stdout",
     "output_type": "stream",
     "text": [
      "Epoch 18/50 | Train Loss: 0.4153 | Val Loss: 0.4517\n"
     ]
    },
    {
     "data": {
      "application/vnd.jupyter.widget-view+json": {
       "model_id": "04d3d9543b6b4a458968b83060beb151",
       "version_major": 2,
       "version_minor": 0
      },
      "text/plain": [
       "Epoch 19:   0%|          | 0/18 [00:00<?, ?it/s]"
      ]
     },
     "metadata": {},
     "output_type": "display_data"
    },
    {
     "name": "stdout",
     "output_type": "stream",
     "text": [
      "Epoch 19/50 | Train Loss: 0.4382 | Val Loss: 0.4452\n"
     ]
    },
    {
     "data": {
      "application/vnd.jupyter.widget-view+json": {
       "model_id": "554d5bd291b542ab98354cfce1efba45",
       "version_major": 2,
       "version_minor": 0
      },
      "text/plain": [
       "Epoch 20:   0%|          | 0/18 [00:00<?, ?it/s]"
      ]
     },
     "metadata": {},
     "output_type": "display_data"
    },
    {
     "name": "stdout",
     "output_type": "stream",
     "text": [
      "Epoch 20/50 | Train Loss: 0.4454 | Val Loss: 0.4609\n"
     ]
    },
    {
     "data": {
      "application/vnd.jupyter.widget-view+json": {
       "model_id": "5aba7b4dd2e2425693e97cb18cc9b44c",
       "version_major": 2,
       "version_minor": 0
      },
      "text/plain": [
       "Epoch 21:   0%|          | 0/18 [00:00<?, ?it/s]"
      ]
     },
     "metadata": {},
     "output_type": "display_data"
    },
    {
     "name": "stdout",
     "output_type": "stream",
     "text": [
      "Epoch 21/50 | Train Loss: 0.4219 | Val Loss: 0.4588\n"
     ]
    },
    {
     "data": {
      "application/vnd.jupyter.widget-view+json": {
       "model_id": "f970dcf875ef47148020639915c51e60",
       "version_major": 2,
       "version_minor": 0
      },
      "text/plain": [
       "Epoch 22:   0%|          | 0/18 [00:00<?, ?it/s]"
      ]
     },
     "metadata": {},
     "output_type": "display_data"
    },
    {
     "name": "stdout",
     "output_type": "stream",
     "text": [
      "Epoch 22/50 | Train Loss: 0.4266 | Val Loss: 0.4534\n"
     ]
    },
    {
     "data": {
      "application/vnd.jupyter.widget-view+json": {
       "model_id": "6d363d1fb28f4b4494bd979dad5776f2",
       "version_major": 2,
       "version_minor": 0
      },
      "text/plain": [
       "Epoch 23:   0%|          | 0/18 [00:00<?, ?it/s]"
      ]
     },
     "metadata": {},
     "output_type": "display_data"
    },
    {
     "name": "stdout",
     "output_type": "stream",
     "text": [
      "Epoch 23/50 | Train Loss: 0.4167 | Val Loss: 0.4362\n"
     ]
    },
    {
     "data": {
      "application/vnd.jupyter.widget-view+json": {
       "model_id": "927b4bd30e9148f4a238e1564f875384",
       "version_major": 2,
       "version_minor": 0
      },
      "text/plain": [
       "Epoch 24:   0%|          | 0/18 [00:00<?, ?it/s]"
      ]
     },
     "metadata": {},
     "output_type": "display_data"
    },
    {
     "name": "stdout",
     "output_type": "stream",
     "text": [
      "Epoch 24/50 | Train Loss: 0.4018 | Val Loss: 0.4491\n"
     ]
    },
    {
     "data": {
      "application/vnd.jupyter.widget-view+json": {
       "model_id": "b11952ae6e1a4337a435c8bb6af4e899",
       "version_major": 2,
       "version_minor": 0
      },
      "text/plain": [
       "Epoch 25:   0%|          | 0/18 [00:00<?, ?it/s]"
      ]
     },
     "metadata": {},
     "output_type": "display_data"
    },
    {
     "name": "stdout",
     "output_type": "stream",
     "text": [
      "Epoch 25/50 | Train Loss: 0.4034 | Val Loss: 0.4416\n"
     ]
    },
    {
     "data": {
      "application/vnd.jupyter.widget-view+json": {
       "model_id": "cabacc1244f04771b55d245c361a242e",
       "version_major": 2,
       "version_minor": 0
      },
      "text/plain": [
       "Epoch 26:   0%|          | 0/18 [00:00<?, ?it/s]"
      ]
     },
     "metadata": {},
     "output_type": "display_data"
    },
    {
     "name": "stdout",
     "output_type": "stream",
     "text": [
      "Epoch 26/50 | Train Loss: 0.4104 | Val Loss: 0.4572\n"
     ]
    },
    {
     "data": {
      "application/vnd.jupyter.widget-view+json": {
       "model_id": "ec806d5bfd544da29bbd1f84615322a3",
       "version_major": 2,
       "version_minor": 0
      },
      "text/plain": [
       "Epoch 27:   0%|          | 0/18 [00:00<?, ?it/s]"
      ]
     },
     "metadata": {},
     "output_type": "display_data"
    },
    {
     "name": "stdout",
     "output_type": "stream",
     "text": [
      "Epoch 27/50 | Train Loss: 0.4166 | Val Loss: 0.4382\n"
     ]
    },
    {
     "data": {
      "application/vnd.jupyter.widget-view+json": {
       "model_id": "8ff057de09ca4df0afe75e57cb76c4f7",
       "version_major": 2,
       "version_minor": 0
      },
      "text/plain": [
       "Epoch 28:   0%|          | 0/18 [00:00<?, ?it/s]"
      ]
     },
     "metadata": {},
     "output_type": "display_data"
    },
    {
     "name": "stdout",
     "output_type": "stream",
     "text": [
      "Epoch 28/50 | Train Loss: 0.4211 | Val Loss: 0.4500\n"
     ]
    },
    {
     "data": {
      "application/vnd.jupyter.widget-view+json": {
       "model_id": "459c1833889847ff8a7875829381a126",
       "version_major": 2,
       "version_minor": 0
      },
      "text/plain": [
       "Epoch 29:   0%|          | 0/18 [00:00<?, ?it/s]"
      ]
     },
     "metadata": {},
     "output_type": "display_data"
    },
    {
     "name": "stdout",
     "output_type": "stream",
     "text": [
      "Epoch 29/50 | Train Loss: 0.4061 | Val Loss: 0.4238\n"
     ]
    },
    {
     "data": {
      "application/vnd.jupyter.widget-view+json": {
       "model_id": "cea29c8db2d846d597d39c66ee895ab0",
       "version_major": 2,
       "version_minor": 0
      },
      "text/plain": [
       "Epoch 30:   0%|          | 0/18 [00:00<?, ?it/s]"
      ]
     },
     "metadata": {},
     "output_type": "display_data"
    },
    {
     "name": "stdout",
     "output_type": "stream",
     "text": [
      "Epoch 30/50 | Train Loss: 0.3993 | Val Loss: 0.4457\n"
     ]
    },
    {
     "data": {
      "application/vnd.jupyter.widget-view+json": {
       "model_id": "3988771b32d14671a60c5346b5a7e29a",
       "version_major": 2,
       "version_minor": 0
      },
      "text/plain": [
       "Epoch 31:   0%|          | 0/18 [00:00<?, ?it/s]"
      ]
     },
     "metadata": {},
     "output_type": "display_data"
    },
    {
     "name": "stdout",
     "output_type": "stream",
     "text": [
      "Epoch 31/50 | Train Loss: 0.4068 | Val Loss: 0.4376\n"
     ]
    },
    {
     "data": {
      "application/vnd.jupyter.widget-view+json": {
       "model_id": "c235c802e9a74b22af8105e3d1631705",
       "version_major": 2,
       "version_minor": 0
      },
      "text/plain": [
       "Epoch 32:   0%|          | 0/18 [00:00<?, ?it/s]"
      ]
     },
     "metadata": {},
     "output_type": "display_data"
    },
    {
     "name": "stdout",
     "output_type": "stream",
     "text": [
      "Epoch 32/50 | Train Loss: 0.3845 | Val Loss: 0.4362\n"
     ]
    },
    {
     "data": {
      "application/vnd.jupyter.widget-view+json": {
       "model_id": "2ff6bb7da3e343798eff70629f12d16f",
       "version_major": 2,
       "version_minor": 0
      },
      "text/plain": [
       "Epoch 33:   0%|          | 0/18 [00:00<?, ?it/s]"
      ]
     },
     "metadata": {},
     "output_type": "display_data"
    },
    {
     "name": "stdout",
     "output_type": "stream",
     "text": [
      "Epoch 33/50 | Train Loss: 0.4088 | Val Loss: 0.4351\n"
     ]
    },
    {
     "data": {
      "application/vnd.jupyter.widget-view+json": {
       "model_id": "b64d0d1469de42efb167b330773449c7",
       "version_major": 2,
       "version_minor": 0
      },
      "text/plain": [
       "Epoch 34:   0%|          | 0/18 [00:00<?, ?it/s]"
      ]
     },
     "metadata": {},
     "output_type": "display_data"
    },
    {
     "name": "stdout",
     "output_type": "stream",
     "text": [
      "Epoch 34/50 | Train Loss: 0.4022 | Val Loss: 0.4279\n"
     ]
    },
    {
     "data": {
      "application/vnd.jupyter.widget-view+json": {
       "model_id": "dc3068e37ac64246bd09d56bec74fe0f",
       "version_major": 2,
       "version_minor": 0
      },
      "text/plain": [
       "Epoch 35:   0%|          | 0/18 [00:00<?, ?it/s]"
      ]
     },
     "metadata": {},
     "output_type": "display_data"
    },
    {
     "name": "stdout",
     "output_type": "stream",
     "text": [
      "Epoch 35/50 | Train Loss: 0.4095 | Val Loss: 0.4449\n"
     ]
    },
    {
     "data": {
      "application/vnd.jupyter.widget-view+json": {
       "model_id": "497dbe1896a64fed933f93d372dfd6fd",
       "version_major": 2,
       "version_minor": 0
      },
      "text/plain": [
       "Epoch 36:   0%|          | 0/18 [00:00<?, ?it/s]"
      ]
     },
     "metadata": {},
     "output_type": "display_data"
    },
    {
     "name": "stdout",
     "output_type": "stream",
     "text": [
      "Epoch 36/50 | Train Loss: 0.3894 | Val Loss: 0.4210\n"
     ]
    },
    {
     "data": {
      "application/vnd.jupyter.widget-view+json": {
       "model_id": "67ebadcad557471b9e43f345dca4e85b",
       "version_major": 2,
       "version_minor": 0
      },
      "text/plain": [
       "Epoch 37:   0%|          | 0/18 [00:00<?, ?it/s]"
      ]
     },
     "metadata": {},
     "output_type": "display_data"
    },
    {
     "name": "stdout",
     "output_type": "stream",
     "text": [
      "Epoch 37/50 | Train Loss: 0.3839 | Val Loss: 0.4360\n"
     ]
    },
    {
     "data": {
      "application/vnd.jupyter.widget-view+json": {
       "model_id": "120bce2624434242b8317dba817711c7",
       "version_major": 2,
       "version_minor": 0
      },
      "text/plain": [
       "Epoch 38:   0%|          | 0/18 [00:00<?, ?it/s]"
      ]
     },
     "metadata": {},
     "output_type": "display_data"
    },
    {
     "name": "stdout",
     "output_type": "stream",
     "text": [
      "Epoch 38/50 | Train Loss: 0.3855 | Val Loss: 0.4409\n"
     ]
    },
    {
     "data": {
      "application/vnd.jupyter.widget-view+json": {
       "model_id": "d6cbfa07178740a5aa6eb94accecbba3",
       "version_major": 2,
       "version_minor": 0
      },
      "text/plain": [
       "Epoch 39:   0%|          | 0/18 [00:00<?, ?it/s]"
      ]
     },
     "metadata": {},
     "output_type": "display_data"
    },
    {
     "name": "stdout",
     "output_type": "stream",
     "text": [
      "Epoch 39/50 | Train Loss: 0.3946 | Val Loss: 0.4249\n"
     ]
    },
    {
     "data": {
      "application/vnd.jupyter.widget-view+json": {
       "model_id": "8c0ec212051f4e37b1592587dc998a86",
       "version_major": 2,
       "version_minor": 0
      },
      "text/plain": [
       "Epoch 40:   0%|          | 0/18 [00:00<?, ?it/s]"
      ]
     },
     "metadata": {},
     "output_type": "display_data"
    },
    {
     "name": "stdout",
     "output_type": "stream",
     "text": [
      "Epoch 40/50 | Train Loss: 0.3725 | Val Loss: 0.4495\n"
     ]
    },
    {
     "data": {
      "application/vnd.jupyter.widget-view+json": {
       "model_id": "4e5d9f11b4eb4390b0578770d8aeee63",
       "version_major": 2,
       "version_minor": 0
      },
      "text/plain": [
       "Epoch 41:   0%|          | 0/18 [00:00<?, ?it/s]"
      ]
     },
     "metadata": {},
     "output_type": "display_data"
    },
    {
     "name": "stdout",
     "output_type": "stream",
     "text": [
      "Epoch 41/50 | Train Loss: 0.3820 | Val Loss: 0.4142\n"
     ]
    },
    {
     "data": {
      "application/vnd.jupyter.widget-view+json": {
       "model_id": "a8d32d31dd09492a9155146a1545b608",
       "version_major": 2,
       "version_minor": 0
      },
      "text/plain": [
       "Epoch 42:   0%|          | 0/18 [00:00<?, ?it/s]"
      ]
     },
     "metadata": {},
     "output_type": "display_data"
    },
    {
     "name": "stdout",
     "output_type": "stream",
     "text": [
      "Epoch 42/50 | Train Loss: 0.3761 | Val Loss: 0.4220\n"
     ]
    },
    {
     "data": {
      "application/vnd.jupyter.widget-view+json": {
       "model_id": "4d74f1923c7c46f381cf0c993f11ba06",
       "version_major": 2,
       "version_minor": 0
      },
      "text/plain": [
       "Epoch 43:   0%|          | 0/18 [00:00<?, ?it/s]"
      ]
     },
     "metadata": {},
     "output_type": "display_data"
    },
    {
     "name": "stdout",
     "output_type": "stream",
     "text": [
      "Epoch 43/50 | Train Loss: 0.3665 | Val Loss: 0.4351\n"
     ]
    },
    {
     "data": {
      "application/vnd.jupyter.widget-view+json": {
       "model_id": "0134174219384e0dba19858cca9208f8",
       "version_major": 2,
       "version_minor": 0
      },
      "text/plain": [
       "Epoch 44:   0%|          | 0/18 [00:00<?, ?it/s]"
      ]
     },
     "metadata": {},
     "output_type": "display_data"
    },
    {
     "name": "stdout",
     "output_type": "stream",
     "text": [
      "Epoch 44/50 | Train Loss: 0.3870 | Val Loss: 0.4353\n"
     ]
    },
    {
     "data": {
      "application/vnd.jupyter.widget-view+json": {
       "model_id": "5340d884bc0246e396823b497b9f3bb1",
       "version_major": 2,
       "version_minor": 0
      },
      "text/plain": [
       "Epoch 45:   0%|          | 0/18 [00:00<?, ?it/s]"
      ]
     },
     "metadata": {},
     "output_type": "display_data"
    },
    {
     "name": "stdout",
     "output_type": "stream",
     "text": [
      "Epoch 45/50 | Train Loss: 0.3730 | Val Loss: 0.4322\n"
     ]
    },
    {
     "data": {
      "application/vnd.jupyter.widget-view+json": {
       "model_id": "e53b0c0d668249f286ea32b84adcdf70",
       "version_major": 2,
       "version_minor": 0
      },
      "text/plain": [
       "Epoch 46:   0%|          | 0/18 [00:00<?, ?it/s]"
      ]
     },
     "metadata": {},
     "output_type": "display_data"
    },
    {
     "name": "stdout",
     "output_type": "stream",
     "text": [
      "Epoch 46/50 | Train Loss: 0.3933 | Val Loss: 0.4294\n"
     ]
    },
    {
     "data": {
      "application/vnd.jupyter.widget-view+json": {
       "model_id": "605ebe57d907497db416f86f6d34341f",
       "version_major": 2,
       "version_minor": 0
      },
      "text/plain": [
       "Epoch 47:   0%|          | 0/18 [00:00<?, ?it/s]"
      ]
     },
     "metadata": {},
     "output_type": "display_data"
    },
    {
     "name": "stdout",
     "output_type": "stream",
     "text": [
      "Epoch 47/50 | Train Loss: 0.3725 | Val Loss: 0.4533\n"
     ]
    },
    {
     "data": {
      "application/vnd.jupyter.widget-view+json": {
       "model_id": "828b9ed4b3ef4f27a71987230826d75d",
       "version_major": 2,
       "version_minor": 0
      },
      "text/plain": [
       "Epoch 48:   0%|          | 0/18 [00:00<?, ?it/s]"
      ]
     },
     "metadata": {},
     "output_type": "display_data"
    },
    {
     "name": "stdout",
     "output_type": "stream",
     "text": [
      "Epoch 48/50 | Train Loss: 0.3856 | Val Loss: 0.4262\n"
     ]
    },
    {
     "data": {
      "application/vnd.jupyter.widget-view+json": {
       "model_id": "bb4d0d10a7d74beda02bd0417dd7f2a0",
       "version_major": 2,
       "version_minor": 0
      },
      "text/plain": [
       "Epoch 49:   0%|          | 0/18 [00:00<?, ?it/s]"
      ]
     },
     "metadata": {},
     "output_type": "display_data"
    },
    {
     "name": "stdout",
     "output_type": "stream",
     "text": [
      "Epoch 49/50 | Train Loss: 0.3435 | Val Loss: 0.4680\n"
     ]
    },
    {
     "data": {
      "application/vnd.jupyter.widget-view+json": {
       "model_id": "a08ad7e4406a4361b59682fa2b9b0747",
       "version_major": 2,
       "version_minor": 0
      },
      "text/plain": [
       "Epoch 50:   0%|          | 0/18 [00:00<?, ?it/s]"
      ]
     },
     "metadata": {},
     "output_type": "display_data"
    },
    {
     "name": "stdout",
     "output_type": "stream",
     "text": [
      "Epoch 50/50 | Train Loss: 0.3603 | Val Loss: 0.4330\n",
      "Best model val loss: 0.4141822636127472\n"
     ]
    }
   ],
   "source": [
    "import torch.optim as optim\n",
    "from torchvision import models\n",
    "\n",
    "model = SmallCNN1()\n",
    "\n",
    "model = model.to(device)\n",
    "\n",
    "criterion = nn.BCELoss()\n",
    "optimizer = optim.Adam(model.parameters(), lr=1e-4)\n",
    "\n",
    "EPOCHS = 50\n",
    "\n",
    "# Initialize variables to track the best model\n",
    "best_val_loss = float('inf')  # Start with a very large number\n",
    "train_losses = []  # To store training losses\n",
    "val_losses = []    # To store validation losses\n",
    "best_model = None  # Variable to store the best model\n",
    "\n",
    "for epoch in range(1, EPOCHS+1):\n",
    "\n",
    "    # -- TRAINING --\n",
    "    model.train()\n",
    "    running_loss = 0.0\n",
    "    \n",
    "    for images, labels, _ in tqdm(train_loader, desc=f\"Epoch {epoch}\", leave=False):\n",
    "        images, labels = images.to(device), labels.to(device)\n",
    "        \n",
    "        optimizer.zero_grad()\n",
    "        output = model(images)\n",
    "        \n",
    "        loss = criterion(output, labels)\n",
    "        loss.backward()\n",
    "        optimizer.step()\n",
    "        \n",
    "        running_loss += loss.item()\n",
    "    \n",
    "    avg_train_loss = running_loss / len(train_loader)\n",
    "    train_losses.append(avg_train_loss)\n",
    "\n",
    "    \n",
    "    # -- VALIDATING --\n",
    "\n",
    "    model.eval()\n",
    "    val_loss = 0.0\n",
    "    \n",
    "    with torch.no_grad():\n",
    "        for images, labels, _ in valid_loader:\n",
    "            images, labels = images.to(device), labels.to(device)\n",
    "            output = model(images)\n",
    "            loss = criterion(output, labels)\n",
    "            val_loss += loss.item()\n",
    "    \n",
    "    avg_val_loss = val_loss / len(valid_loader)\n",
    "    val_losses.append(avg_val_loss)\n",
    "    \n",
    "    print(f\"Epoch {epoch}/{EPOCHS} | Train Loss: {avg_train_loss:.4f} | Val Loss: {avg_val_loss:.4f}\")\n",
    "\n",
    "    # -- Check if this is the best model so far --\n",
    "    if avg_val_loss < best_val_loss:\n",
    "        #print(f\"Validation loss decreased ({best_val_loss:.4f} -> {avg_val_loss:.4f}). Saving model...\")\n",
    "        best_val_loss = avg_val_loss\n",
    "        best_model = model.state_dict()  # Save the model's state dict in the variable\n",
    "\n",
    "# If you want to load the best model from the variable:\n",
    "model.load_state_dict(best_model)\n",
    "model = model.to(device)\n",
    "print(f\"Best model val loss: {best_val_loss}\")"
   ]
  },
  {
   "cell_type": "code",
   "execution_count": 18,
   "metadata": {},
   "outputs": [
    {
     "data": {
      "image/png": "[encoded data removed]",
      "text/plain": [
       "<Figure size 1000x600 with 1 Axes>"
      ]
     },
     "metadata": {},
     "output_type": "display_data"
    }
   ],
   "source": [
    "plt.figure(figsize=(10, 6))\n",
    "plt.plot(range(1, EPOCHS + 1), train_losses, label='Train Loss', color='blue', marker='o')\n",
    "plt.plot(range(1, EPOCHS + 1), val_losses, label='Validation Loss', color='red', marker='o')\n",
    "plt.xlabel('Epochs')\n",
    "plt.ylabel('Loss')\n",
    "plt.title('Training and Validation Losses Over Epochs')\n",
    "plt.legend()\n",
    "plt.grid(True)\n",
    "plt.show()"
   ]
  },
  {
   "cell_type": "code",
   "execution_count": 17,
   "metadata": {},
   "outputs": [
    {
     "data": {
      "application/vnd.jupyter.widget-view+json": {
       "model_id": "bd5cad0eb91847acbab9b086fccd3756",
       "version_major": 2,
       "version_minor": 0
      },
      "text/plain": [
       "Inference on Test:   0%|          | 0/4 [00:00<?, ?it/s]"
      ]
     },
     "metadata": {},
     "output_type": "display_data"
    },
    {
     "name": "stdout",
     "output_type": "stream",
     "text": [
      "Saved submission with 100 rows to submission_I_scnn.csv\n"
     ]
    },
    {
     "data": {
      "text/html": [
       "<div>\n",
       "<style scoped>\n",
       "    .dataframe tbody tr th:only-of-type {\n",
       "        vertical-align: middle;\n",
       "    }\n",
       "\n",
       "    .dataframe tbody tr th {\n",
       "        vertical-align: top;\n",
       "    }\n",
       "\n",
       "    .dataframe thead th {\n",
       "        text-align: right;\n",
       "    }\n",
       "</style>\n",
       "<table border=\"1\" class=\"dataframe\">\n",
       "  <thead>\n",
       "    <tr style=\"text-align: right;\">\n",
       "      <th></th>\n",
       "      <th>isic_id</th>\n",
       "      <th>target</th>\n",
       "    </tr>\n",
       "  </thead>\n",
       "  <tbody>\n",
       "    <tr>\n",
       "      <th>0</th>\n",
       "      <td>ISIC_0082829</td>\n",
       "      <td>0.723807</td>\n",
       "    </tr>\n",
       "    <tr>\n",
       "      <th>1</th>\n",
       "      <td>ISIC_0114227</td>\n",
       "      <td>0.548628</td>\n",
       "    </tr>\n",
       "    <tr>\n",
       "      <th>2</th>\n",
       "      <td>ISIC_0157465</td>\n",
       "      <td>0.525961</td>\n",
       "    </tr>\n",
       "    <tr>\n",
       "      <th>3</th>\n",
       "      <td>ISIC_0197356</td>\n",
       "      <td>0.505254</td>\n",
       "    </tr>\n",
       "    <tr>\n",
       "      <th>4</th>\n",
       "      <td>ISIC_0275647</td>\n",
       "      <td>0.601736</td>\n",
       "    </tr>\n",
       "    <tr>\n",
       "      <th>5</th>\n",
       "      <td>ISIC_0332355</td>\n",
       "      <td>0.565530</td>\n",
       "    </tr>\n",
       "    <tr>\n",
       "      <th>6</th>\n",
       "      <td>ISIC_0528190</td>\n",
       "      <td>0.730172</td>\n",
       "    </tr>\n",
       "    <tr>\n",
       "      <th>7</th>\n",
       "      <td>ISIC_0576478</td>\n",
       "      <td>0.518059</td>\n",
       "    </tr>\n",
       "    <tr>\n",
       "      <th>8</th>\n",
       "      <td>ISIC_0719839</td>\n",
       "      <td>0.717088</td>\n",
       "    </tr>\n",
       "    <tr>\n",
       "      <th>9</th>\n",
       "      <td>ISIC_0968965</td>\n",
       "      <td>0.612005</td>\n",
       "    </tr>\n",
       "  </tbody>\n",
       "</table>\n",
       "</div>"
      ],
      "text/plain": [
       "        isic_id    target\n",
       "0  ISIC_0082829  0.723807\n",
       "1  ISIC_0114227  0.548628\n",
       "2  ISIC_0157465  0.525961\n",
       "3  ISIC_0197356  0.505254\n",
       "4  ISIC_0275647  0.601736\n",
       "5  ISIC_0332355  0.565530\n",
       "6  ISIC_0528190  0.730172\n",
       "7  ISIC_0576478  0.518059\n",
       "8  ISIC_0719839  0.717088\n",
       "9  ISIC_0968965  0.612005"
      ]
     },
     "metadata": {},
     "output_type": "display_data"
    }
   ],
   "source": [
    "# -----------------------------\n",
    "# 7. Inference on Test Set & Submission\n",
    "# -----------------------------\n",
    "model.eval()\n",
    "predictions = []\n",
    "\n",
    "with torch.no_grad():\n",
    "    for images, isic_ids in tqdm(test_loader, desc=\"Inference on Test\"):\n",
    "        images = images.to(device)\n",
    "        logits = model(images).view(-1)  # shape [batch_size]\n",
    "        probs = torch.sigmoid(logits)    # shape [batch_size], in [0,1]\n",
    "        \n",
    "        probs = probs.cpu().numpy()\n",
    "        \n",
    "        for isic_id, p in zip(isic_ids, probs):\n",
    "            predictions.append({\"isic_id\": isic_id, \"target\": float(p)})\n",
    "\n",
    "submission_df = pd.DataFrame(predictions)\n",
    "submission_df = submission_df.sort_values(by=\"isic_id\").reset_index(drop=True)\n",
    "\n",
    "submission_file = \"submission_I_scnn.csv\"\n",
    "submission_df.to_csv(submission_file, index=False)\n",
    "\n",
    "print(f\"Saved submission with {len(submission_df)} rows to {submission_file}\")\n",
    "display(submission_df.head(10))\n"
   ]
  },
  {
   "cell_type": "markdown",
   "metadata": {},
   "source": [
    "Results are better with a pre-trained model."
   ]
  }
 ],
 "metadata": {
  "kernelspec": {
   "display_name": "pytorch-env",
   "language": "python",
   "name": "python3"
  },
  "language_info": {
   "codemirror_mode": {
    "name": "ipython",
    "version": 3
   },
   "file_extension": ".py",
   "mimetype": "text/x-python",
   "name": "python",
   "nbconvert_exporter": "python",
   "pygments_lexer": "ipython3",
   "version": "3.12.2"
  }
 },
 "nbformat": 4,
 "nbformat_minor": 2
}
