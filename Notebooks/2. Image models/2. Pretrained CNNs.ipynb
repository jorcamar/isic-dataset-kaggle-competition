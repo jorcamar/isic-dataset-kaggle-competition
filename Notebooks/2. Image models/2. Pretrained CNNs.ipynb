{
 "cells": [
  {
   "cell_type": "markdown",
   "metadata": {},
   "source": [
    "# Intro"
   ]
  },
  {
   "cell_type": "code",
   "execution_count": 19,
   "metadata": {},
   "outputs": [],
   "source": [
    "import os\n",
    "import h5py\n",
    "import cv2\n",
    "import numpy as np\n",
    "import pandas as pd\n",
    "import torch\n",
    "import torch.nn as nn\n",
    "import torch.nn.functional as F\n",
    "from torch.utils.data import Dataset, DataLoader, random_split\n",
    "import torchvision.transforms as T\n",
    "import matplotlib.pyplot as plt\n",
    "import torch.optim as optim\n",
    "\n",
    "from sklearn.metrics import roc_auc_score\n",
    "\n",
    "from torchvision import models\n",
    "from tqdm.auto import tqdm"
   ]
  },
  {
   "cell_type": "code",
   "execution_count": 2,
   "metadata": {},
   "outputs": [
    {
     "name": "stdout",
     "output_type": "stream",
     "text": [
      "Using device: mps\n"
     ]
    }
   ],
   "source": [
    "# If using GPU\n",
    "device = torch.device(\"mps\" if torch.backends.mps.is_available() else \"cpu\")\n",
    "print(\"Using device:\", device)"
   ]
  },
  {
   "cell_type": "code",
   "execution_count": 3,
   "metadata": {},
   "outputs": [],
   "source": [
    "METADATA_COL2DESC = {\n",
    "    \"isic_id\": \"Unique identifier for each image case.\",\n",
    "    \"target\": \"Binary class label (0 = benign, 1 = malignant).\",\n",
    "    \"patient_id\": \"Unique identifier for each patient.\",\n",
    "    \"age_approx\": \"Approximate age of the patient at time of imaging.\",\n",
    "    \"sex\": \"Sex of the patient (male or female).\",\n",
    "    \"anatom_site_general\": \"General location of the lesion on the patient's body.\",\n",
    "    \"clin_size_long_diam_mm\": \"Maximum diameter of the lesion (mm).\",\n",
    "    \"image_type\": \"Type of image captured, as defined in the ISIC Archive.\",\n",
    "    \"tbp_tile_type\": \"Lighting modality of the 3D Total Body Photography (TBP) source image.\",\n",
    "    \"tbp_lv_A\": \"Color channel A (green-red axis in LAB space) inside the lesion.\",\n",
    "    \"tbp_lv_Aext\": \"Color channel A outside the lesion.\",\n",
    "    \"tbp_lv_B\": \"Color channel B (blue-yellow axis in LAB space) inside the lesion.\",\n",
    "    \"tbp_lv_Bext\": \"Color channel B outside the lesion.\",\n",
    "    \"tbp_lv_C\": \"Chroma value inside the lesion.\",\n",
    "    \"tbp_lv_Cext\": \"Chroma value outside the lesion.\",\n",
    "    \"tbp_lv_H\": \"Hue value inside the lesion (LAB color space).\",\n",
    "    \"tbp_lv_Hext\": \"Hue value outside the lesion.\",\n",
    "    \"tbp_lv_L\": \"Luminance inside the lesion (LAB color space).\",\n",
    "    \"tbp_lv_Lext\": \"Luminance outside the lesion.\",\n",
    "    \"tbp_lv_areaMM2\": \"Area of the lesion in mm².\",\n",
    "    \"tbp_lv_area_perim_ratio\": \"Ratio of the lesion's perimeter to its area (border jaggedness).\",\n",
    "    \"tbp_lv_color_std_mean\": \"Mean color irregularity within the lesion.\",\n",
    "    \"tbp_lv_deltaA\": \"Average contrast in color channel A between inside and outside.\",\n",
    "    \"tbp_lv_deltaB\": \"Average contrast in color channel B between inside and outside.\",\n",
    "    \"tbp_lv_deltaL\": \"Average contrast in luminance between inside and outside.\",\n",
    "    \"tbp_lv_deltaLB\": \"Combined contrast between the lesion and surrounding skin.\",\n",
    "    \"tbp_lv_deltaLBnorm\": \"Normalized contrast (LAB color space).\",\n",
    "    \"tbp_lv_eccentricity\": \"Eccentricity of the lesion (how elongated it is).\",\n",
    "    \"tbp_lv_location\": \"Detailed anatomical location (e.g., Upper Arm).\",\n",
    "    \"tbp_lv_location_simple\": \"Simplified anatomical location (e.g., Arm).\",\n",
    "    \"tbp_lv_minorAxisMM\": \"Smallest diameter of the lesion in mm.\",\n",
    "    \"tbp_lv_nevi_confidence\": \"Confidence score (0-100) for the lesion being a nevus.\",\n",
    "    \"tbp_lv_norm_border\": \"Normalized border irregularity (0-10 scale).\",\n",
    "    \"tbp_lv_norm_color\": \"Normalized color variation (0-10 scale).\",\n",
    "    \"tbp_lv_perimeterMM\": \"Perimeter of the lesion in mm.\",\n",
    "    \"tbp_lv_radial_color_std_max\": \"Color asymmetry within the lesion, measured radially.\",\n",
    "    \"tbp_lv_stdL\": \"Std. deviation of luminance inside the lesion.\",\n",
    "    \"tbp_lv_stdLExt\": \"Std. deviation of luminance outside the lesion.\",\n",
    "    \"tbp_lv_symm_2axis\": \"Asymmetry about a second axis of symmetry.\",\n",
    "    \"tbp_lv_symm_2axis_angle\": \"Angle of that second axis of symmetry.\",\n",
    "    \"tbp_lv_x\": \"X-coordinate in the 3D TBP model.\",\n",
    "    \"tbp_lv_y\": \"Y-coordinate in the 3D TBP model.\",\n",
    "    \"tbp_lv_z\": \"Z-coordinate in the 3D TBP model.\",\n",
    "    \"attribution\": \"Image source or institution.\",\n",
    "    \"copyright_license\": \"License information.\",\n",
    "    \"lesion_id\": \"Unique ID for lesions of interest.\",\n",
    "    \"iddx_full\": \"Full diagnosis classification.\",\n",
    "    \"iddx_1\": \"First-level (broad) diagnosis.\",\n",
    "    \"iddx_2\": \"Second-level diagnosis.\",\n",
    "    \"iddx_3\": \"Third-level diagnosis.\",\n",
    "    \"iddx_4\": \"Fourth-level diagnosis.\",\n",
    "    \"iddx_5\": \"Fifth-level diagnosis.\",\n",
    "    \"mel_mitotic_index\": \"Mitotic index of invasive malignant melanomas.\",\n",
    "    \"mel_thick_mm\": \"Thickness of melanoma invasion in mm.\",\n",
    "    \"tbp_lv_dnn_lesion_confidence\": \"Lesion confidence score (0-100) from a DNN classifier.\"\n",
    "}\n",
    "\n",
    "METADATA_COL2NAME = {\n",
    "    \"isic_id\": \"Unique Case Identifier\",\n",
    "    \"target\": \"Binary Lesion Classification\",\n",
    "    \"patient_id\": \"Unique Patient Identifier\",\n",
    "    \"age_approx\": \"Approximate Age\",\n",
    "    \"sex\": \"Sex\",\n",
    "    \"anatom_site_general\": \"General Anatomical Location\",\n",
    "    \"clin_size_long_diam_mm\": \"Clinical Size (Longest Diameter in mm)\",\n",
    "    \"image_type\": \"Image Type\",\n",
    "    \"tbp_tile_type\": \"TBP Tile Type\",\n",
    "    \"tbp_lv_A\": \"Color Channel A (Inside)\",\n",
    "    \"tbp_lv_Aext\": \"Color Channel A (Outside)\",\n",
    "    \"tbp_lv_B\": \"Color Channel B (Inside)\",\n",
    "    \"tbp_lv_Bext\": \"Color Channel B (Outside)\",\n",
    "    \"tbp_lv_C\": \"Chroma (Inside)\",\n",
    "    \"tbp_lv_Cext\": \"Chroma (Outside)\",\n",
    "    \"tbp_lv_H\": \"Hue (Inside)\",\n",
    "    \"tbp_lv_Hext\": \"Hue (Outside)\",\n",
    "    \"tbp_lv_L\": \"Luminance (Inside)\",\n",
    "    \"tbp_lv_Lext\": \"Luminance (Outside)\",\n",
    "    \"tbp_lv_areaMM2\": \"Lesion Area (mm²)\",\n",
    "    \"tbp_lv_area_perim_ratio\": \"Area-to-Perimeter Ratio\",\n",
    "    \"tbp_lv_color_std_mean\": \"Mean Color Irregularity\",\n",
    "    \"tbp_lv_deltaA\": \"Delta A\",\n",
    "    \"tbp_lv_deltaB\": \"Delta B\",\n",
    "    \"tbp_lv_deltaL\": \"Delta L\",\n",
    "    \"tbp_lv_deltaLB\": \"Delta LB\",\n",
    "    \"tbp_lv_deltaLBnorm\": \"Normalized Delta LB\",\n",
    "    \"tbp_lv_eccentricity\": \"Eccentricity\",\n",
    "    \"tbp_lv_location\": \"Detailed Location\",\n",
    "    \"tbp_lv_location_simple\": \"Simplified Location\",\n",
    "    \"tbp_lv_minorAxisMM\": \"Smallest Diameter (mm)\",\n",
    "    \"tbp_lv_nevi_confidence\": \"Nevus Confidence Score\",\n",
    "    \"tbp_lv_norm_border\": \"Normalized Border Irregularity\",\n",
    "    \"tbp_lv_norm_color\": \"Normalized Color Variation\",\n",
    "    \"tbp_lv_perimeterMM\": \"Lesion Perimeter (mm)\",\n",
    "    \"tbp_lv_radial_color_std_max\": \"Radial Color Deviation\",\n",
    "    \"tbp_lv_stdL\": \"Std. Dev. Luminance (Inside)\",\n",
    "    \"tbp_lv_stdLExt\": \"Std. Dev. Luminance (Outside)\",\n",
    "    \"tbp_lv_symm_2axis\": \"Symmetry (Second Axis)\",\n",
    "    \"tbp_lv_symm_2axis_angle\": \"Symmetry Angle (Second Axis)\",\n",
    "    \"tbp_lv_x\": \"X-Coordinate\",\n",
    "    \"tbp_lv_y\": \"Y-Coordinate\",\n",
    "    \"tbp_lv_z\": \"Z-Coordinate\",\n",
    "    \"attribution\": \"Image Source\",\n",
    "    \"copyright_license\": \"Copyright\",\n",
    "    \"lesion_id\": \"Unique Lesion ID\",\n",
    "    \"iddx_full\": \"Full Diagnosis\",\n",
    "    \"iddx_1\": \"Diagnosis Level 1\",\n",
    "    \"iddx_2\": \"Diagnosis Level 2\",\n",
    "    \"iddx_3\": \"Diagnosis Level 3\",\n",
    "    \"iddx_4\": \"Diagnosis Level 4\",\n",
    "    \"iddx_5\": \"Diagnosis Level 5\",\n",
    "    \"mel_mitotic_index\": \"Mitotic Index (Melanoma)\",\n",
    "    \"mel_thick_mm\": \"Melanoma Thickness (mm)\",\n",
    "    \"tbp_lv_dnn_lesion_confidence\": \"Lesion DNN Confidence\"\n",
    "}"
   ]
  },
  {
   "cell_type": "markdown",
   "metadata": {},
   "source": [
    "# Custom Dataset for HDF5"
   ]
  },
  {
   "cell_type": "code",
   "execution_count": 4,
   "metadata": {},
   "outputs": [],
   "source": [
    "class ISIC_HDF5_Dataset(Dataset):\n",
    "    \"\"\"\n",
    "    A PyTorch Dataset that loads images from an HDF5 file given a DataFrame of IDs.\n",
    "    Applies image transforms suitable for ResNet50.\n",
    "    \"\"\"\n",
    "    def __init__(self, df: pd.DataFrame, hdf5_path: str, transform=None, is_labelled: bool = True):\n",
    "        \"\"\"\n",
    "        Args:\n",
    "            df (pd.DataFrame): DataFrame containing 'isic_id' and optionally 'target'.\n",
    "            hdf5_path (str): Path to the HDF5 file containing images.\n",
    "            transform (callable): Optional transforms to be applied on a sample.\n",
    "            is_labelled (bool): Whether the dataset includes labels (for train/val).\n",
    "        \"\"\"\n",
    "        self.df = df.reset_index(drop=True)\n",
    "        self.hdf5_path = hdf5_path\n",
    "        self.transform = transform\n",
    "        self.is_labelled = is_labelled\n",
    "\n",
    "    def __len__(self):\n",
    "        return len(self.df)\n",
    "\n",
    "    def __getitem__(self, idx):\n",
    "        row = self.df.iloc[idx]\n",
    "        isic_id = row[\"isic_id\"]\n",
    "        \n",
    "        # Load image from HDF5\n",
    "        image_rgb = self._load_image_from_hdf5(isic_id)\n",
    "        \n",
    "        # Apply transforms (PIL-style transforms require converting np array to PIL, or we can do tensor transforms)\n",
    "        if self.transform is not None:\n",
    "            # Convert NumPy array (H x W x C) to a PIL Image\n",
    "            import torchvision.transforms.functional as F_v\n",
    "            image_pil = F_v.to_pil_image(image_rgb)\n",
    "            image = self.transform(image_pil)\n",
    "        else:\n",
    "            # By default, convert it to a tensor (C x H x W)\n",
    "            image = torch.from_numpy(image_rgb).permute(2, 0, 1).float()\n",
    "\n",
    "        if self.is_labelled:\n",
    "            label = row[\"target\"]\n",
    "            label = torch.tensor(label).float()\n",
    "            return image, label, isic_id\n",
    "        else:\n",
    "            return image, isic_id\n",
    "\n",
    "    def _load_image_from_hdf5(self, isic_id: str):\n",
    "        \"\"\"\n",
    "        Loads and decodes an image from HDF5 by isic_id.\n",
    "        Returns a NumPy array in RGB format (H x W x 3).\n",
    "        \"\"\"\n",
    "        with h5py.File(self.hdf5_path, 'r') as hf:\n",
    "            encoded_bytes = hf[isic_id][()]  # uint8 array\n",
    "\n",
    "        # If it's bytes (not np.ndarray), convert it\n",
    "        if isinstance(encoded_bytes, bytes):\n",
    "            encoded_bytes = np.frombuffer(encoded_bytes, dtype=np.uint8)\n",
    "        elif isinstance(encoded_bytes, np.ndarray) and encoded_bytes.dtype != np.uint8:\n",
    "            encoded_bytes = encoded_bytes.astype(np.uint8)\n",
    "\n",
    "        # Decode the image bytes with OpenCV (returns BGR)\n",
    "        image_bgr = cv2.imdecode(encoded_bytes, cv2.IMREAD_COLOR)\n",
    "        # Convert to RGB\n",
    "        image_rgb = cv2.cvtColor(image_bgr, cv2.COLOR_BGR2RGB)\n",
    "        return image_rgb"
   ]
  },
  {
   "cell_type": "markdown",
   "metadata": {},
   "source": [
    "# Data Setup"
   ]
  },
  {
   "cell_type": "code",
   "execution_count": 5,
   "metadata": {},
   "outputs": [
    {
     "name": "stdout",
     "output_type": "stream",
     "text": [
      "train_df shape: (400959, 55)\n",
      "test_df shape:  (100, 44)\n"
     ]
    },
    {
     "name": "stderr",
     "output_type": "stream",
     "text": [
      "/var/folders/8g/6pyhwxxx6y147q2dm10zjk1w0000gn/T/ipykernel_80333/2683077871.py:6: DtypeWarning: Columns (51,52) have mixed types. Specify dtype option on import or set low_memory=False.\n",
      "  train_df = pd.read_csv(TRAIN_METADATA_CSV)\n"
     ]
    }
   ],
   "source": [
    "TRAIN_METADATA_CSV = \"/Users/jorgecamposmarti/Documents/Máster/4o Semicuatrimestre/3. ML (Machine Learning)/Project 2/data/new-train-metadata.csv\"\n",
    "TEST_METADATA_CSV  = \"/Users/jorgecamposmarti/Documents/Máster/4o Semicuatrimestre/3. ML (Machine Learning)/Project 2/data/students-test-metadata.csv\"\n",
    "TRAIN_HDF5         = \"/Users/jorgecamposmarti/Documents/Máster/4o Semicuatrimestre/3. ML (Machine Learning)/Project 2/data/train-image.hdf5\"\n",
    "TEST_HDF5          = \"/Users/jorgecamposmarti/Documents/Máster/4o Semicuatrimestre/3. ML (Machine Learning)/Project 2/data/test-image.hdf5\"\n",
    "\n",
    "train_df = pd.read_csv(TRAIN_METADATA_CSV)\n",
    "test_df  = pd.read_csv(TEST_METADATA_CSV)\n",
    "\n",
    "print(f\"train_df shape: {train_df.shape}\")\n",
    "print(f\"test_df shape:  {test_df.shape}\")"
   ]
  },
  {
   "cell_type": "code",
   "execution_count": 6,
   "metadata": {},
   "outputs": [
    {
     "name": "stdout",
     "output_type": "stream",
     "text": [
      "iddx_5\n",
      "mel_mitotic_index\n"
     ]
    }
   ],
   "source": [
    "print(train_df.columns[51])\n",
    "print(train_df.columns[52])"
   ]
  },
  {
   "cell_type": "markdown",
   "metadata": {},
   "source": [
    "Different columns between train and test:"
   ]
  },
  {
   "cell_type": "code",
   "execution_count": 7,
   "metadata": {},
   "outputs": [
    {
     "name": "stdout",
     "output_type": "stream",
     "text": [
      "Columns only in train_df: {'tbp_lv_dnn_lesion_confidence', 'iddx_2', 'iddx_full', 'mel_thick_mm', 'iddx_3', 'iddx_1', 'iddx_4', 'target', 'mel_mitotic_index', 'lesion_id', 'iddx_5'}\n",
      "Columns only in test_df: set()\n"
     ]
    }
   ],
   "source": [
    "train_columns = set(train_df.columns)\n",
    "test_columns = set(test_df.columns)\n",
    "\n",
    "only_in_train = train_columns - test_columns\n",
    "only_in_test  = test_columns - train_columns\n",
    "\n",
    "print(\"Columns only in train_df:\", only_in_train)\n",
    "print(\"Columns only in test_df:\", only_in_test)"
   ]
  },
  {
   "cell_type": "markdown",
   "metadata": {},
   "source": [
    "- \"target\": \"Binary class label (0 = benign, 1 = malignant).\",\n",
    "- \"lesion_id\": \"Unique ID for lesions of interest.\",\n",
    "- \"iddx_full\": \"Full diagnosis classification.\",\n",
    "- \"iddx_1\": \"First-level (broad) diagnosis.\",\n",
    "- \"iddx_2\": \"Second-level diagnosis.\",\n",
    "- \"iddx_3\": \"Third-level diagnosis.\",\n",
    "- \"iddx_4\": \"Fourth-level diagnosis.\",\n",
    "- \"iddx_5\": \"Fifth-level diagnosis.\",\n",
    "- \"mel_mitotic_index\": \"Mitotic index of invasive malignant melanomas.\",\n",
    "- \"mel_thick_mm\": \"Thickness of melanoma invasion in mm.\",\n",
    "- \"tbp_lv_dnn_lesion_confidence\": \"Lesion confidence score (0-100) from a DNN classifier.\""
   ]
  },
  {
   "cell_type": "markdown",
   "metadata": {},
   "source": [
    "Class imbalance: undersample class 0 so it has the same number of samples as class 1:"
   ]
  },
  {
   "cell_type": "code",
   "execution_count": 8,
   "metadata": {},
   "outputs": [
    {
     "name": "stdout",
     "output_type": "stream",
     "text": [
      "target\n",
      "0    400616\n",
      "1       343\n",
      "Name: count, dtype: int64\n"
     ]
    }
   ],
   "source": [
    "class_counts = train_df['target'].value_counts()\n",
    "print(class_counts)"
   ]
  },
  {
   "cell_type": "code",
   "execution_count": 9,
   "metadata": {},
   "outputs": [
    {
     "name": "stdout",
     "output_type": "stream",
     "text": [
      "target\n",
      "0    343\n",
      "1    343\n",
      "Name: count, dtype: int64\n"
     ]
    }
   ],
   "source": [
    "# Separate the two classes\n",
    "class_0_df = train_df[train_df['target'] == 0]\n",
    "class_1_df = train_df[train_df['target'] == 1]\n",
    "\n",
    "# Determine how many samples are in the minority class (class 1)\n",
    "n_class_1 = len(class_1_df)\n",
    "\n",
    "# Randomly undersample class 0\n",
    "class_0_undersampled = class_0_df.sample(n=n_class_1, random_state=42)\n",
    "\n",
    "# Concatenate both to get a balanced dataframe\n",
    "train_df = pd.concat([class_0_undersampled, class_1_df]).sample(frac=1, random_state=42).reset_index(drop=True)\n",
    "\n",
    "# Check result\n",
    "print(train_df['target'].value_counts())"
   ]
  },
  {
   "cell_type": "code",
   "execution_count": 10,
   "metadata": {},
   "outputs": [
    {
     "name": "stdout",
     "output_type": "stream",
     "text": [
      "Train samples: 548, Valid samples: 138\n"
     ]
    }
   ],
   "source": [
    "# Example: split train_df into 80% train / 20% valid\n",
    "train_size = int(0.8 * len(train_df))\n",
    "valid_size = len(train_df) - train_size\n",
    "train_subset, valid_subset = random_split(\n",
    "    train_df, \n",
    "    [train_size, valid_size],\n",
    "    generator=torch.Generator().manual_seed(42)\n",
    ")\n",
    "\n",
    "train_df_sub = train_df.iloc[train_subset.indices].reset_index(drop=True)\n",
    "valid_df_sub = train_df.iloc[valid_subset.indices].reset_index(drop=True)\n",
    "\n",
    "print(f\"Train samples: {len(train_df_sub)}, Valid samples: {len(valid_df_sub)}\")"
   ]
  },
  {
   "cell_type": "code",
   "execution_count": 11,
   "metadata": {},
   "outputs": [
    {
     "name": "stdout",
     "output_type": "stream",
     "text": [
      "Created train/valid/test datasets.\n"
     ]
    }
   ],
   "source": [
    "\"\"\"# Basic transforms for ResNet\n",
    "resnet_transforms = T.Compose([\n",
    "    T.Resize((224,224)),\n",
    "    T.ToTensor(),\n",
    "    T.Normalize(mean=[0.485, 0.456, 0.406],\n",
    "                std=[0.229, 0.224, 0.225]),\n",
    "])\"\"\"\n",
    "\n",
    "resnet_transforms = T.Compose([\n",
    "    T.RandomHorizontalFlip(),       # Random each call\n",
    "    T.RandomRotation(15),           # Random each call\n",
    "    T.Resize((224, 224)),\n",
    "    T.ToTensor(),\n",
    "    T.Normalize(mean=[0.485, 0.456, 0.406],\n",
    "                std=[0.229, 0.224, 0.225])\n",
    "])\n",
    "\n",
    "\n",
    "# Create Datasets\n",
    "train_dataset = ISIC_HDF5_Dataset(\n",
    "    df=train_df_sub, \n",
    "    hdf5_path=TRAIN_HDF5,\n",
    "    transform=resnet_transforms,\n",
    "    is_labelled=True\n",
    ")\n",
    "\n",
    "valid_dataset = ISIC_HDF5_Dataset(\n",
    "    df=valid_df_sub,\n",
    "    hdf5_path=TRAIN_HDF5,\n",
    "    transform=resnet_transforms,\n",
    "    is_labelled=True\n",
    ")\n",
    "\n",
    "test_dataset = ISIC_HDF5_Dataset(\n",
    "    df=test_df,\n",
    "    hdf5_path=TEST_HDF5,\n",
    "    transform=resnet_transforms,\n",
    "    is_labelled=False\n",
    ")\n",
    "\n",
    "print(\"Created train/valid/test datasets.\")"
   ]
  },
  {
   "cell_type": "code",
   "execution_count": 12,
   "metadata": {},
   "outputs": [
    {
     "name": "stdout",
     "output_type": "stream",
     "text": [
      "Train loader: 18 batches\n",
      "Valid loader: 5 batches\n",
      "Test loader:  4 batches\n"
     ]
    }
   ],
   "source": [
    "BATCH_SIZE = 32\n",
    "\n",
    "train_loader = DataLoader(\n",
    "    train_dataset,\n",
    "    batch_size=BATCH_SIZE,\n",
    "    shuffle=True\n",
    ")\n",
    "\n",
    "valid_loader = DataLoader(\n",
    "    valid_dataset,\n",
    "    batch_size=BATCH_SIZE,\n",
    "    shuffle=False\n",
    ")\n",
    "\n",
    "test_loader = DataLoader(\n",
    "    test_dataset,\n",
    "    batch_size=BATCH_SIZE,\n",
    "    shuffle=False\n",
    ")\n",
    "\n",
    "print(f\"Train loader: {len(train_loader)} batches\")\n",
    "print(f\"Valid loader: {len(valid_loader)} batches\")\n",
    "print(f\"Test loader:  {len(test_loader)} batches\")"
   ]
  },
  {
   "cell_type": "markdown",
   "metadata": {},
   "source": [
    "# Models"
   ]
  },
  {
   "cell_type": "markdown",
   "metadata": {},
   "source": [
    "## ResNet50"
   ]
  },
  {
   "cell_type": "markdown",
   "metadata": {},
   "source": [
    "### 1. Unfrozen, last FC layer changed - 0.31"
   ]
  },
  {
   "cell_type": "code",
   "execution_count": null,
   "metadata": {},
   "outputs": [],
   "source": [
    "\"\"\"model = models.resnet50(weights='ResNet50_Weights.DEFAULT')\n",
    "\n",
    "# Replace final layer for binary classification\n",
    "model.fc = nn.Linear(in_features=2048, out_features=1)\n",
    "\n",
    "model = model.to(device)\n",
    "\n",
    "criterion = nn.BCEWithLogitsLoss()\n",
    "optimizer = optim.Adam(model.parameters(), lr=1e-4)\n",
    "\n",
    "EPOCHS = 15\n",
    "\n",
    "# Initialize variables to track the best model\n",
    "best_val_loss = float('inf')  # Start with a very large number\n",
    "train_losses = []  # To store training losses\n",
    "val_losses = []    # To store validation losses\n",
    "best_model = None  # Variable to store the best model\n",
    "\n",
    "for epoch in range(1, EPOCHS+1):\n",
    "\n",
    "    # -- TRAINING --\n",
    "    model.train()\n",
    "    running_loss = 0.0\n",
    "    \n",
    "    for images, labels, _ in tqdm(train_loader, desc=f\"Epoch {epoch}\", leave=False):\n",
    "        images, labels = images.to(device), labels.to(device)\n",
    "        \n",
    "        optimizer.zero_grad()\n",
    "        logits = model(images).view(-1)  # [batch_size]\n",
    "        \n",
    "        loss = criterion(logits, labels)\n",
    "        loss.backward()\n",
    "        optimizer.step()\n",
    "        \n",
    "        running_loss += loss.item()\n",
    "    \n",
    "    avg_train_loss = running_loss / len(train_loader)\n",
    "    train_losses.append(avg_train_loss)\n",
    "\n",
    "    \n",
    "    # -- VALIDATING --\n",
    "\n",
    "    model.eval()\n",
    "    val_loss = 0.0\n",
    "    all_logits = []\n",
    "    all_labels = []\n",
    "    \n",
    "    with torch.no_grad():\n",
    "        for images, labels, _ in valid_loader:\n",
    "            images, labels = images.to(device), labels.to(device)\n",
    "            logits = model(images).view(-1)\n",
    "            loss = criterion(logits, labels)\n",
    "            val_loss += loss.item()\n",
    "\n",
    "            all_logits.append(logits.cpu())  # Save logits\n",
    "            all_labels.append(labels.cpu())  # Save true labels\n",
    "\n",
    "    \n",
    "    avg_val_loss = val_loss / len(valid_loader)\n",
    "    val_losses.append(avg_val_loss)\n",
    "\n",
    "    # Concatenate all predictions and labels\n",
    "    all_logits = torch.cat(all_logits)\n",
    "    all_labels = torch.cat(all_labels)\n",
    "\n",
    "    # Convert logits to probabilities using sigmoid\n",
    "    probs = torch.sigmoid(all_logits)\n",
    "\n",
    "    # Compute AUC-ROC\n",
    "    auc = roc_auc_score(all_labels.numpy(), probs.numpy())\n",
    "    \n",
    "    print(f\"Epoch {epoch}/{EPOCHS} | Train Loss: {avg_train_loss:.4f} | Val Loss: {avg_val_loss:.4f} | Val AUC: {auc:.4f}\")\n",
    "\n",
    "    # -- Check if this is the best model so far --\n",
    "    if avg_val_loss < best_val_loss:\n",
    "        #print(f\"Validation loss decreased ({best_val_loss:.4f} -> {avg_val_loss:.4f}). Saving model...\")\n",
    "        best_val_loss = avg_val_loss\n",
    "        best_model = model.state_dict()  # Save the model's state dict in the variable\n",
    "\n",
    "# If you want to load the best model from the variable:\n",
    "model.load_state_dict(best_model)\n",
    "model = model.to(device)\n",
    "print(f\"Best model val loss: {best_val_loss}\")\"\"\""
   ]
  },
  {
   "cell_type": "code",
   "execution_count": 27,
   "metadata": {},
   "outputs": [
    {
     "data": {
      "application/vnd.jupyter.widget-view+json": {
       "model_id": "bf57a92c8a0c44eca90ee34278584a4e",
       "version_major": 2,
       "version_minor": 0
      },
      "text/plain": [
       "Epoch 1:   0%|          | 0/18 [00:00<?, ?it/s]"
      ]
     },
     "metadata": {},
     "output_type": "display_data"
    },
    {
     "name": "stdout",
     "output_type": "stream",
     "text": [
      "Epoch 1/10 | Train Loss: 0.6504 | Val Loss: 0.6323 | Val AUC: 0.7394\n",
      "best until now\n"
     ]
    },
    {
     "data": {
      "application/vnd.jupyter.widget-view+json": {
       "model_id": "a0fd141c144a4c03af5fb076955e087f",
       "version_major": 2,
       "version_minor": 0
      },
      "text/plain": [
       "Epoch 2:   0%|          | 0/18 [00:00<?, ?it/s]"
      ]
     },
     "metadata": {},
     "output_type": "display_data"
    },
    {
     "name": "stdout",
     "output_type": "stream",
     "text": [
      "Epoch 2/10 | Train Loss: 0.5184 | Val Loss: 0.4740 | Val AUC: 0.8576\n",
      "best until now\n"
     ]
    },
    {
     "data": {
      "application/vnd.jupyter.widget-view+json": {
       "model_id": "dd69c46aaa9c4f5a805eaa544a26847e",
       "version_major": 2,
       "version_minor": 0
      },
      "text/plain": [
       "Epoch 3:   0%|          | 0/18 [00:00<?, ?it/s]"
      ]
     },
     "metadata": {},
     "output_type": "display_data"
    },
    {
     "name": "stdout",
     "output_type": "stream",
     "text": [
      "Epoch 3/10 | Train Loss: 0.4041 | Val Loss: 0.4448 | Val AUC: 0.8827\n",
      "best until now\n"
     ]
    },
    {
     "data": {
      "application/vnd.jupyter.widget-view+json": {
       "model_id": "5de2343d6f31499dbc7a51f4e5af9184",
       "version_major": 2,
       "version_minor": 0
      },
      "text/plain": [
       "Epoch 4:   0%|          | 0/18 [00:00<?, ?it/s]"
      ]
     },
     "metadata": {},
     "output_type": "display_data"
    },
    {
     "name": "stdout",
     "output_type": "stream",
     "text": [
      "Epoch 4/10 | Train Loss: 0.2986 | Val Loss: 0.4116 | Val AUC: 0.8867\n",
      "best until now\n"
     ]
    },
    {
     "data": {
      "application/vnd.jupyter.widget-view+json": {
       "model_id": "52fc364cd2bb4651898987ac5f8fb039",
       "version_major": 2,
       "version_minor": 0
      },
      "text/plain": [
       "Epoch 5:   0%|          | 0/18 [00:00<?, ?it/s]"
      ]
     },
     "metadata": {},
     "output_type": "display_data"
    },
    {
     "name": "stdout",
     "output_type": "stream",
     "text": [
      "Epoch 5/10 | Train Loss: 0.2259 | Val Loss: 0.4005 | Val AUC: 0.9010\n",
      "best until now\n"
     ]
    },
    {
     "data": {
      "application/vnd.jupyter.widget-view+json": {
       "model_id": "21c6e5f74441468580ff1a024bdc368d",
       "version_major": 2,
       "version_minor": 0
      },
      "text/plain": [
       "Epoch 6:   0%|          | 0/18 [00:00<?, ?it/s]"
      ]
     },
     "metadata": {},
     "output_type": "display_data"
    },
    {
     "name": "stdout",
     "output_type": "stream",
     "text": [
      "Epoch 6/10 | Train Loss: 0.2499 | Val Loss: 0.3553 | Val AUC: 0.9144\n",
      "best until now\n"
     ]
    },
    {
     "data": {
      "application/vnd.jupyter.widget-view+json": {
       "model_id": "5a1c139e7a1d4d588157c5cd7ce1ddb0",
       "version_major": 2,
       "version_minor": 0
      },
      "text/plain": [
       "Epoch 7:   0%|          | 0/18 [00:00<?, ?it/s]"
      ]
     },
     "metadata": {},
     "output_type": "display_data"
    },
    {
     "name": "stdout",
     "output_type": "stream",
     "text": [
      "Epoch 7/10 | Train Loss: 0.1260 | Val Loss: 0.5127 | Val AUC: 0.8831\n"
     ]
    },
    {
     "data": {
      "application/vnd.jupyter.widget-view+json": {
       "model_id": "910b0627d86c4889af4d00c8abdc9ce2",
       "version_major": 2,
       "version_minor": 0
      },
      "text/plain": [
       "Epoch 8:   0%|          | 0/18 [00:00<?, ?it/s]"
      ]
     },
     "metadata": {},
     "output_type": "display_data"
    },
    {
     "name": "stdout",
     "output_type": "stream",
     "text": [
      "Epoch 8/10 | Train Loss: 0.1864 | Val Loss: 0.4121 | Val AUC: 0.9023\n"
     ]
    },
    {
     "data": {
      "application/vnd.jupyter.widget-view+json": {
       "model_id": "7f5bb657632d42a388066ce4d8b9aaf3",
       "version_major": 2,
       "version_minor": 0
      },
      "text/plain": [
       "Epoch 9:   0%|          | 0/18 [00:00<?, ?it/s]"
      ]
     },
     "metadata": {},
     "output_type": "display_data"
    },
    {
     "name": "stdout",
     "output_type": "stream",
     "text": [
      "Epoch 9/10 | Train Loss: 0.1465 | Val Loss: 0.4469 | Val AUC: 0.8850\n"
     ]
    },
    {
     "data": {
      "application/vnd.jupyter.widget-view+json": {
       "model_id": "342e93bfc9964ea2a62352ef0f9e7251",
       "version_major": 2,
       "version_minor": 0
      },
      "text/plain": [
       "Epoch 10:   0%|          | 0/18 [00:00<?, ?it/s]"
      ]
     },
     "metadata": {},
     "output_type": "display_data"
    },
    {
     "name": "stdout",
     "output_type": "stream",
     "text": [
      "Epoch 10/10 | Train Loss: 0.1334 | Val Loss: 0.5385 | Val AUC: 0.8838\n",
      "Best model val ROC AUC: 0.914413455397062\n"
     ]
    }
   ],
   "source": [
    "model = models.resnet50(weights='ResNet50_Weights.DEFAULT')\n",
    "\n",
    "# Replace final layer for binary classification\n",
    "model.fc = nn.Linear(in_features=2048, out_features=1)\n",
    "\n",
    "model = model.to(device)\n",
    "\n",
    "criterion = nn.BCEWithLogitsLoss()\n",
    "optimizer = optim.Adam(model.parameters(), lr=1e-4)\n",
    "\n",
    "EPOCHS = 10\n",
    "\n",
    "# Initialize variables to track the best model\n",
    "best_auc = 0\n",
    "train_losses = []  # To store training losses\n",
    "val_losses = []    # To store validation losses\n",
    "best_model = None  # Variable to store the best model\n",
    "\n",
    "for epoch in range(1, EPOCHS+1):\n",
    "\n",
    "    # -- TRAINING --\n",
    "    model.train()\n",
    "    running_loss = 0.0\n",
    "    \n",
    "    for images, labels, _ in tqdm(train_loader, desc=f\"Epoch {epoch}\", leave=False):\n",
    "        images, labels = images.to(device), labels.to(device)\n",
    "        \n",
    "        optimizer.zero_grad()\n",
    "        logits = model(images).view(-1)  # [batch_size]\n",
    "        \n",
    "        loss = criterion(logits, labels)\n",
    "        loss.backward()\n",
    "        optimizer.step()\n",
    "        \n",
    "        running_loss += loss.item()\n",
    "    \n",
    "    avg_train_loss = running_loss / len(train_loader)\n",
    "    train_losses.append(avg_train_loss)\n",
    "\n",
    "    \n",
    "    # -- VALIDATING --\n",
    "\n",
    "    model.eval()\n",
    "    val_loss = 0.0\n",
    "    all_logits = []\n",
    "    all_labels = []\n",
    "    \n",
    "    with torch.no_grad():\n",
    "        for images, labels, _ in valid_loader:\n",
    "            images, labels = images.to(device), labels.to(device)\n",
    "            logits = model(images).view(-1)\n",
    "            loss = criterion(logits, labels)\n",
    "            val_loss += loss.item()\n",
    "\n",
    "            all_logits.append(logits.cpu())  # Save logits\n",
    "            all_labels.append(labels.cpu())  # Save true labels\n",
    "\n",
    "    \n",
    "    avg_val_loss = val_loss / len(valid_loader)\n",
    "    val_losses.append(avg_val_loss)\n",
    "\n",
    "    # Concatenate all predictions and labels\n",
    "    all_logits = torch.cat(all_logits)\n",
    "    all_labels = torch.cat(all_labels)\n",
    "\n",
    "    # Convert logits to probabilities using sigmoid\n",
    "    probs = torch.sigmoid(all_logits)\n",
    "\n",
    "    # Compute AUC-ROC\n",
    "    auc = roc_auc_score(all_labels.numpy(), probs.numpy())\n",
    "    \n",
    "    print(f\"Epoch {epoch}/{EPOCHS} | Train Loss: {avg_train_loss:.4f} | Val Loss: {avg_val_loss:.4f} | Val AUC: {auc:.4f}\")\n",
    "\n",
    "    # -- Check if this is the best model so far --\n",
    "    if auc > best_auc:\n",
    "        print('best until now')\n",
    "        best_auc = auc\n",
    "        best_model = model.state_dict()  # Save the model's state dict in the variable\n",
    "\n",
    "# If you want to load the best model from the variable:\n",
    "model.load_state_dict(best_model)\n",
    "model = model.to(device)\n",
    "print(f\"Best model val ROC AUC: {best_auc}\")"
   ]
  },
  {
   "cell_type": "code",
   "execution_count": 23,
   "metadata": {},
   "outputs": [
    {
     "data": {
      "image/png": "[encoded data removed]",
      "text/plain": [
       "<Figure size 1000x600 with 1 Axes>"
      ]
     },
     "metadata": {},
     "output_type": "display_data"
    }
   ],
   "source": [
    "plt.figure(figsize=(10, 6))\n",
    "plt.plot(range(1, EPOCHS + 1), train_losses, label='Train Loss', color='blue', marker='o')\n",
    "plt.plot(range(1, EPOCHS + 1), val_losses, label='Validation Loss', color='red', marker='o')\n",
    "plt.xlabel('Epochs')\n",
    "plt.ylabel('Loss')\n",
    "plt.title('Training and Validation Losses Over Epochs')\n",
    "plt.legend()\n",
    "plt.grid(True)\n",
    "plt.show()"
   ]
  },
  {
   "cell_type": "code",
   "execution_count": 28,
   "metadata": {},
   "outputs": [
    {
     "data": {
      "application/vnd.jupyter.widget-view+json": {
       "model_id": "9038f1e2a64b4a8a8906f4b1f22b311e",
       "version_major": 2,
       "version_minor": 0
      },
      "text/plain": [
       "Inference on Test:   0%|          | 0/4 [00:00<?, ?it/s]"
      ]
     },
     "metadata": {},
     "output_type": "display_data"
    },
    {
     "name": "stdout",
     "output_type": "stream",
     "text": [
      "Saved submission with 100 rows to submission_I_RN50_2.csv\n"
     ]
    },
    {
     "data": {
      "text/html": [
       "<div>\n",
       "<style scoped>\n",
       "    .dataframe tbody tr th:only-of-type {\n",
       "        vertical-align: middle;\n",
       "    }\n",
       "\n",
       "    .dataframe tbody tr th {\n",
       "        vertical-align: top;\n",
       "    }\n",
       "\n",
       "    .dataframe thead th {\n",
       "        text-align: right;\n",
       "    }\n",
       "</style>\n",
       "<table border=\"1\" class=\"dataframe\">\n",
       "  <thead>\n",
       "    <tr style=\"text-align: right;\">\n",
       "      <th></th>\n",
       "      <th>isic_id</th>\n",
       "      <th>target</th>\n",
       "    </tr>\n",
       "  </thead>\n",
       "  <tbody>\n",
       "    <tr>\n",
       "      <th>0</th>\n",
       "      <td>ISIC_0082829</td>\n",
       "      <td>0.999009</td>\n",
       "    </tr>\n",
       "    <tr>\n",
       "      <th>1</th>\n",
       "      <td>ISIC_0114227</td>\n",
       "      <td>0.015555</td>\n",
       "    </tr>\n",
       "    <tr>\n",
       "      <th>2</th>\n",
       "      <td>ISIC_0157465</td>\n",
       "      <td>0.068935</td>\n",
       "    </tr>\n",
       "    <tr>\n",
       "      <th>3</th>\n",
       "      <td>ISIC_0197356</td>\n",
       "      <td>0.085714</td>\n",
       "    </tr>\n",
       "    <tr>\n",
       "      <th>4</th>\n",
       "      <td>ISIC_0275647</td>\n",
       "      <td>0.006463</td>\n",
       "    </tr>\n",
       "    <tr>\n",
       "      <th>5</th>\n",
       "      <td>ISIC_0332355</td>\n",
       "      <td>0.597073</td>\n",
       "    </tr>\n",
       "    <tr>\n",
       "      <th>6</th>\n",
       "      <td>ISIC_0528190</td>\n",
       "      <td>0.983189</td>\n",
       "    </tr>\n",
       "    <tr>\n",
       "      <th>7</th>\n",
       "      <td>ISIC_0576478</td>\n",
       "      <td>0.005685</td>\n",
       "    </tr>\n",
       "    <tr>\n",
       "      <th>8</th>\n",
       "      <td>ISIC_0719839</td>\n",
       "      <td>0.797924</td>\n",
       "    </tr>\n",
       "    <tr>\n",
       "      <th>9</th>\n",
       "      <td>ISIC_0968965</td>\n",
       "      <td>0.167483</td>\n",
       "    </tr>\n",
       "  </tbody>\n",
       "</table>\n",
       "</div>"
      ],
      "text/plain": [
       "        isic_id    target\n",
       "0  ISIC_0082829  0.999009\n",
       "1  ISIC_0114227  0.015555\n",
       "2  ISIC_0157465  0.068935\n",
       "3  ISIC_0197356  0.085714\n",
       "4  ISIC_0275647  0.006463\n",
       "5  ISIC_0332355  0.597073\n",
       "6  ISIC_0528190  0.983189\n",
       "7  ISIC_0576478  0.005685\n",
       "8  ISIC_0719839  0.797924\n",
       "9  ISIC_0968965  0.167483"
      ]
     },
     "metadata": {},
     "output_type": "display_data"
    }
   ],
   "source": [
    "model.eval()\n",
    "predictions = []\n",
    "\n",
    "with torch.no_grad():\n",
    "    for images, isic_ids in tqdm(test_loader, desc=\"Inference on Test\"):\n",
    "        images = images.to(device)\n",
    "        logits = model(images).view(-1)  # shape [batch_size]\n",
    "        probs = torch.sigmoid(logits)    # shape [batch_size], in [0,1]\n",
    "        \n",
    "        probs = probs.cpu().numpy()\n",
    "        \n",
    "        for isic_id, p in zip(isic_ids, probs):\n",
    "            predictions.append({\"isic_id\": isic_id, \"target\": float(p)})\n",
    "\n",
    "submission_df = pd.DataFrame(predictions)\n",
    "submission_df = submission_df.sort_values(by=\"isic_id\").reset_index(drop=True)\n",
    "\n",
    "submission_file = \"submission_I_RN50_2.csv\"\n",
    "submission_df.to_csv(submission_file, index=False)\n",
    "\n",
    "print(f\"Saved submission with {len(submission_df)} rows to {submission_file}\")\n",
    "display(submission_df.head(10))"
   ]
  },
  {
   "cell_type": "markdown",
   "metadata": {},
   "source": [
    "### 2. Frozen parameters, train only clasifier - 0.61"
   ]
  },
  {
   "cell_type": "code",
   "execution_count": null,
   "metadata": {},
   "outputs": [
    {
     "data": {
      "application/vnd.jupyter.widget-view+json": {
       "model_id": "c568edbe70e442399576540892961bb9",
       "version_major": 2,
       "version_minor": 0
      },
      "text/plain": [
       "Epoch 1:   0%|          | 0/18 [00:00<?, ?it/s]"
      ]
     },
     "metadata": {},
     "output_type": "display_data"
    },
    {
     "name": "stdout",
     "output_type": "stream",
     "text": [
      "Epoch 1/20 | Train Loss: 0.6942 | Val Loss: 0.6918\n"
     ]
    },
    {
     "data": {
      "application/vnd.jupyter.widget-view+json": {
       "model_id": "7740bf70bce2480183868cf5e0d3ed30",
       "version_major": 2,
       "version_minor": 0
      },
      "text/plain": [
       "Epoch 2:   0%|          | 0/18 [00:00<?, ?it/s]"
      ]
     },
     "metadata": {},
     "output_type": "display_data"
    },
    {
     "name": "stdout",
     "output_type": "stream",
     "text": [
      "Epoch 2/20 | Train Loss: 0.6822 | Val Loss: 0.6874\n"
     ]
    },
    {
     "data": {
      "application/vnd.jupyter.widget-view+json": {
       "model_id": "21bd9efd8b14465fbf26f443a9df3dd0",
       "version_major": 2,
       "version_minor": 0
      },
      "text/plain": [
       "Epoch 3:   0%|          | 0/18 [00:00<?, ?it/s]"
      ]
     },
     "metadata": {},
     "output_type": "display_data"
    },
    {
     "name": "stdout",
     "output_type": "stream",
     "text": [
      "Epoch 3/20 | Train Loss: 0.6752 | Val Loss: 0.6798\n"
     ]
    },
    {
     "data": {
      "application/vnd.jupyter.widget-view+json": {
       "model_id": "3f5375fde58841cea250aa945abbe668",
       "version_major": 2,
       "version_minor": 0
      },
      "text/plain": [
       "Epoch 4:   0%|          | 0/18 [00:00<?, ?it/s]"
      ]
     },
     "metadata": {},
     "output_type": "display_data"
    },
    {
     "name": "stdout",
     "output_type": "stream",
     "text": [
      "Epoch 4/20 | Train Loss: 0.6687 | Val Loss: 0.6715\n"
     ]
    },
    {
     "data": {
      "application/vnd.jupyter.widget-view+json": {
       "model_id": "25f09fd11eeb4f389432871e69fc3ea2",
       "version_major": 2,
       "version_minor": 0
      },
      "text/plain": [
       "Epoch 5:   0%|          | 0/18 [00:00<?, ?it/s]"
      ]
     },
     "metadata": {},
     "output_type": "display_data"
    },
    {
     "name": "stdout",
     "output_type": "stream",
     "text": [
      "Epoch 5/20 | Train Loss: 0.6636 | Val Loss: 0.6696\n"
     ]
    },
    {
     "data": {
      "application/vnd.jupyter.widget-view+json": {
       "model_id": "2a8882a1ca3545819171451162c557be",
       "version_major": 2,
       "version_minor": 0
      },
      "text/plain": [
       "Epoch 6:   0%|          | 0/18 [00:00<?, ?it/s]"
      ]
     },
     "metadata": {},
     "output_type": "display_data"
    },
    {
     "name": "stdout",
     "output_type": "stream",
     "text": [
      "Epoch 6/20 | Train Loss: 0.6571 | Val Loss: 0.6567\n"
     ]
    },
    {
     "data": {
      "application/vnd.jupyter.widget-view+json": {
       "model_id": "5ab644c69e834168b0001d49a582d946",
       "version_major": 2,
       "version_minor": 0
      },
      "text/plain": [
       "Epoch 7:   0%|          | 0/18 [00:00<?, ?it/s]"
      ]
     },
     "metadata": {},
     "output_type": "display_data"
    },
    {
     "name": "stdout",
     "output_type": "stream",
     "text": [
      "Epoch 7/20 | Train Loss: 0.6503 | Val Loss: 0.6532\n"
     ]
    },
    {
     "data": {
      "application/vnd.jupyter.widget-view+json": {
       "model_id": "2e33b686bdce480ba59a69833520a796",
       "version_major": 2,
       "version_minor": 0
      },
      "text/plain": [
       "Epoch 8:   0%|          | 0/18 [00:00<?, ?it/s]"
      ]
     },
     "metadata": {},
     "output_type": "display_data"
    },
    {
     "name": "stdout",
     "output_type": "stream",
     "text": [
      "Epoch 8/20 | Train Loss: 0.6430 | Val Loss: 0.6535\n"
     ]
    },
    {
     "data": {
      "application/vnd.jupyter.widget-view+json": {
       "model_id": "a358473d2e4544398be0e62e9ecc00bf",
       "version_major": 2,
       "version_minor": 0
      },
      "text/plain": [
       "Epoch 9:   0%|          | 0/18 [00:00<?, ?it/s]"
      ]
     },
     "metadata": {},
     "output_type": "display_data"
    },
    {
     "name": "stdout",
     "output_type": "stream",
     "text": [
      "Epoch 9/20 | Train Loss: 0.6474 | Val Loss: 0.6522\n"
     ]
    },
    {
     "data": {
      "application/vnd.jupyter.widget-view+json": {
       "model_id": "2446f9b0579e4273a8dda4d1aa213d26",
       "version_major": 2,
       "version_minor": 0
      },
      "text/plain": [
       "Epoch 10:   0%|          | 0/18 [00:00<?, ?it/s]"
      ]
     },
     "metadata": {},
     "output_type": "display_data"
    },
    {
     "name": "stdout",
     "output_type": "stream",
     "text": [
      "Epoch 10/20 | Train Loss: 0.6404 | Val Loss: 0.6383\n"
     ]
    },
    {
     "data": {
      "application/vnd.jupyter.widget-view+json": {
       "model_id": "93c3960c04904a29b32e5dd22bbb5cfa",
       "version_major": 2,
       "version_minor": 0
      },
      "text/plain": [
       "Epoch 11:   0%|          | 0/18 [00:00<?, ?it/s]"
      ]
     },
     "metadata": {},
     "output_type": "display_data"
    },
    {
     "name": "stdout",
     "output_type": "stream",
     "text": [
      "Epoch 11/20 | Train Loss: 0.6350 | Val Loss: 0.6513\n"
     ]
    },
    {
     "data": {
      "application/vnd.jupyter.widget-view+json": {
       "model_id": "89d90de98b0b45dd8084026a0e1d1f0a",
       "version_major": 2,
       "version_minor": 0
      },
      "text/plain": [
       "Epoch 12:   0%|          | 0/18 [00:00<?, ?it/s]"
      ]
     },
     "metadata": {},
     "output_type": "display_data"
    },
    {
     "name": "stdout",
     "output_type": "stream",
     "text": [
      "Epoch 12/20 | Train Loss: 0.6306 | Val Loss: 0.6333\n"
     ]
    },
    {
     "data": {
      "application/vnd.jupyter.widget-view+json": {
       "model_id": "39fa82ea497648c3a5e77562895ee70e",
       "version_major": 2,
       "version_minor": 0
      },
      "text/plain": [
       "Epoch 13:   0%|          | 0/18 [00:00<?, ?it/s]"
      ]
     },
     "metadata": {},
     "output_type": "display_data"
    },
    {
     "name": "stdout",
     "output_type": "stream",
     "text": [
      "Epoch 13/20 | Train Loss: 0.6251 | Val Loss: 0.6374\n"
     ]
    },
    {
     "data": {
      "application/vnd.jupyter.widget-view+json": {
       "model_id": "c1c5e32263b94aabaec5a8ea302d79b4",
       "version_major": 2,
       "version_minor": 0
      },
      "text/plain": [
       "Epoch 14:   0%|          | 0/18 [00:00<?, ?it/s]"
      ]
     },
     "metadata": {},
     "output_type": "display_data"
    },
    {
     "name": "stdout",
     "output_type": "stream",
     "text": [
      "Epoch 14/20 | Train Loss: 0.6236 | Val Loss: 0.6373\n"
     ]
    },
    {
     "data": {
      "application/vnd.jupyter.widget-view+json": {
       "model_id": "78f3ae109a4744818b121bb551c159ec",
       "version_major": 2,
       "version_minor": 0
      },
      "text/plain": [
       "Epoch 15:   0%|          | 0/18 [00:00<?, ?it/s]"
      ]
     },
     "metadata": {},
     "output_type": "display_data"
    },
    {
     "name": "stdout",
     "output_type": "stream",
     "text": [
      "Epoch 15/20 | Train Loss: 0.6169 | Val Loss: 0.6287\n"
     ]
    },
    {
     "data": {
      "application/vnd.jupyter.widget-view+json": {
       "model_id": "bb006e197e8d40b5a0c015c0697fb516",
       "version_major": 2,
       "version_minor": 0
      },
      "text/plain": [
       "Epoch 16:   0%|          | 0/18 [00:00<?, ?it/s]"
      ]
     },
     "metadata": {},
     "output_type": "display_data"
    },
    {
     "name": "stdout",
     "output_type": "stream",
     "text": [
      "Epoch 16/20 | Train Loss: 0.6187 | Val Loss: 0.6447\n"
     ]
    },
    {
     "data": {
      "application/vnd.jupyter.widget-view+json": {
       "model_id": "c6ce191fb64144788d666742336da1e1",
       "version_major": 2,
       "version_minor": 0
      },
      "text/plain": [
       "Epoch 17:   0%|          | 0/18 [00:00<?, ?it/s]"
      ]
     },
     "metadata": {},
     "output_type": "display_data"
    },
    {
     "name": "stdout",
     "output_type": "stream",
     "text": [
      "Epoch 17/20 | Train Loss: 0.5987 | Val Loss: 0.6256\n"
     ]
    },
    {
     "data": {
      "application/vnd.jupyter.widget-view+json": {
       "model_id": "aac1cfad33894c17a7fc451eaebcfa92",
       "version_major": 2,
       "version_minor": 0
      },
      "text/plain": [
       "Epoch 18:   0%|          | 0/18 [00:00<?, ?it/s]"
      ]
     },
     "metadata": {},
     "output_type": "display_data"
    },
    {
     "name": "stdout",
     "output_type": "stream",
     "text": [
      "Epoch 18/20 | Train Loss: 0.6039 | Val Loss: 0.6164\n"
     ]
    },
    {
     "data": {
      "application/vnd.jupyter.widget-view+json": {
       "model_id": "ca15a850fcab4487a82840bbe0e75773",
       "version_major": 2,
       "version_minor": 0
      },
      "text/plain": [
       "Epoch 19:   0%|          | 0/18 [00:00<?, ?it/s]"
      ]
     },
     "metadata": {},
     "output_type": "display_data"
    },
    {
     "name": "stdout",
     "output_type": "stream",
     "text": [
      "Epoch 19/20 | Train Loss: 0.5963 | Val Loss: 0.6342\n"
     ]
    },
    {
     "data": {
      "application/vnd.jupyter.widget-view+json": {
       "model_id": "7a877e4c1c0f4c81a50852ea98dff56b",
       "version_major": 2,
       "version_minor": 0
      },
      "text/plain": [
       "Epoch 20:   0%|          | 0/18 [00:00<?, ?it/s]"
      ]
     },
     "metadata": {},
     "output_type": "display_data"
    },
    {
     "name": "stdout",
     "output_type": "stream",
     "text": [
      "Epoch 20/20 | Train Loss: 0.6008 | Val Loss: 0.6222\n",
      "Best model val loss: 0.6163760900497437\n"
     ]
    }
   ],
   "source": [
    "model = models.resnet50(weights='ResNet50_Weights.DEFAULT')\n",
    "\n",
    "# Freeze all layers\n",
    "for param in model.parameters():\n",
    "    param.requires_grad = False\n",
    "\n",
    "# Replace final layer for binary classification\n",
    "model.fc = nn.Linear(in_features=2048, out_features=1)\n",
    "\n",
    "model = model.to(device)\n",
    "\n",
    "criterion = nn.BCEWithLogitsLoss()\n",
    "optimizer = optim.Adam(model.fc.parameters(), lr=1e-4)\n",
    "\n",
    "EPOCHS = 20\n",
    "\n",
    "# Initialize variables to track the best model\n",
    "best_val_loss = float('inf')  # Start with a very large number\n",
    "train_losses = []  # To store training losses\n",
    "val_losses = []    # To store validation losses\n",
    "best_model = None  # Variable to store the best model\n",
    "\n",
    "for epoch in range(1, EPOCHS+1):\n",
    "\n",
    "    # -- TRAINING --\n",
    "    model.train()\n",
    "    running_loss = 0.0\n",
    "    \n",
    "    for images, labels, _ in tqdm(train_loader, desc=f\"Epoch {epoch}\", leave=False):\n",
    "        images, labels = images.to(device), labels.to(device)\n",
    "        \n",
    "        optimizer.zero_grad()\n",
    "        logits = model(images).view(-1)  # [batch_size]\n",
    "        \n",
    "        loss = criterion(logits, labels)\n",
    "        loss.backward()\n",
    "        optimizer.step()\n",
    "        \n",
    "        running_loss += loss.item()\n",
    "    \n",
    "    avg_train_loss = running_loss / len(train_loader)\n",
    "    train_losses.append(avg_train_loss)\n",
    "\n",
    "    \n",
    "    # -- VALIDATING --\n",
    "\n",
    "    model.eval()\n",
    "    val_loss = 0.0\n",
    "    \n",
    "    with torch.no_grad():\n",
    "        for images, labels, _ in valid_loader:\n",
    "            images, labels = images.to(device), labels.to(device)\n",
    "            logits = model(images).view(-1)\n",
    "            loss = criterion(logits, labels)\n",
    "            val_loss += loss.item()\n",
    "    \n",
    "    avg_val_loss = val_loss / len(valid_loader)\n",
    "    val_losses.append(avg_val_loss)\n",
    "    \n",
    "    print(f\"Epoch {epoch}/{EPOCHS} | Train Loss: {avg_train_loss:.4f} | Val Loss: {avg_val_loss:.4f}\")\n",
    "\n",
    "    # -- Check if this is the best model so far --\n",
    "    if avg_val_loss < best_val_loss:\n",
    "        #print(f\"Validation loss decreased ({best_val_loss:.4f} -> {avg_val_loss:.4f}). Saving model...\")\n",
    "        best_val_loss = avg_val_loss\n",
    "        best_model = model.state_dict()  # Save the model's state dict in the variable\n",
    "\n",
    "# If you want to load the best model from the variable:\n",
    "model.load_state_dict(best_model)\n",
    "model = model.to(device)\n",
    "print(f\"Best model val loss: {best_val_loss}\")"
   ]
  },
  {
   "cell_type": "code",
   "execution_count": null,
   "metadata": {},
   "outputs": [
    {
     "data": {
      "image/png": "[encoded data removed]",
      "text/plain": [
       "<Figure size 1000x600 with 1 Axes>"
      ]
     },
     "metadata": {},
     "output_type": "display_data"
    }
   ],
   "source": [
    "plt.figure(figsize=(10, 6))\n",
    "plt.plot(range(1, EPOCHS + 1), train_losses, label='Train Loss', color='blue', marker='o')\n",
    "plt.plot(range(1, EPOCHS + 1), val_losses, label='Validation Loss', color='red', marker='o')\n",
    "plt.xlabel('Epochs')\n",
    "plt.ylabel('Loss')\n",
    "plt.title('Training and Validation Losses Over Epochs')\n",
    "plt.legend()\n",
    "plt.grid(True)\n",
    "plt.show()"
   ]
  },
  {
   "cell_type": "code",
   "execution_count": null,
   "metadata": {},
   "outputs": [
    {
     "data": {
      "application/vnd.jupyter.widget-view+json": {
       "model_id": "103a2fe3142b4dbd9f72812d5ad265eb",
       "version_major": 2,
       "version_minor": 0
      },
      "text/plain": [
       "Inference on Test:   0%|          | 0/4 [00:00<?, ?it/s]"
      ]
     },
     "metadata": {},
     "output_type": "display_data"
    },
    {
     "name": "stdout",
     "output_type": "stream",
     "text": [
      "Saved submission with 100 rows to submission_I_RN50_2.csv\n"
     ]
    },
    {
     "data": {
      "text/html": [
       "<div>\n",
       "<style scoped>\n",
       "    .dataframe tbody tr th:only-of-type {\n",
       "        vertical-align: middle;\n",
       "    }\n",
       "\n",
       "    .dataframe tbody tr th {\n",
       "        vertical-align: top;\n",
       "    }\n",
       "\n",
       "    .dataframe thead th {\n",
       "        text-align: right;\n",
       "    }\n",
       "</style>\n",
       "<table border=\"1\" class=\"dataframe\">\n",
       "  <thead>\n",
       "    <tr style=\"text-align: right;\">\n",
       "      <th></th>\n",
       "      <th>isic_id</th>\n",
       "      <th>target</th>\n",
       "    </tr>\n",
       "  </thead>\n",
       "  <tbody>\n",
       "    <tr>\n",
       "      <th>0</th>\n",
       "      <td>ISIC_0082829</td>\n",
       "      <td>0.564406</td>\n",
       "    </tr>\n",
       "    <tr>\n",
       "      <th>1</th>\n",
       "      <td>ISIC_0114227</td>\n",
       "      <td>0.375898</td>\n",
       "    </tr>\n",
       "    <tr>\n",
       "      <th>2</th>\n",
       "      <td>ISIC_0157465</td>\n",
       "      <td>0.537676</td>\n",
       "    </tr>\n",
       "    <tr>\n",
       "      <th>3</th>\n",
       "      <td>ISIC_0197356</td>\n",
       "      <td>0.264451</td>\n",
       "    </tr>\n",
       "    <tr>\n",
       "      <th>4</th>\n",
       "      <td>ISIC_0275647</td>\n",
       "      <td>0.408815</td>\n",
       "    </tr>\n",
       "    <tr>\n",
       "      <th>5</th>\n",
       "      <td>ISIC_0332355</td>\n",
       "      <td>0.276267</td>\n",
       "    </tr>\n",
       "    <tr>\n",
       "      <th>6</th>\n",
       "      <td>ISIC_0528190</td>\n",
       "      <td>0.533461</td>\n",
       "    </tr>\n",
       "    <tr>\n",
       "      <th>7</th>\n",
       "      <td>ISIC_0576478</td>\n",
       "      <td>0.349786</td>\n",
       "    </tr>\n",
       "    <tr>\n",
       "      <th>8</th>\n",
       "      <td>ISIC_0719839</td>\n",
       "      <td>0.486631</td>\n",
       "    </tr>\n",
       "    <tr>\n",
       "      <th>9</th>\n",
       "      <td>ISIC_0968965</td>\n",
       "      <td>0.542402</td>\n",
       "    </tr>\n",
       "  </tbody>\n",
       "</table>\n",
       "</div>"
      ],
      "text/plain": [
       "        isic_id    target\n",
       "0  ISIC_0082829  0.564406\n",
       "1  ISIC_0114227  0.375898\n",
       "2  ISIC_0157465  0.537676\n",
       "3  ISIC_0197356  0.264451\n",
       "4  ISIC_0275647  0.408815\n",
       "5  ISIC_0332355  0.276267\n",
       "6  ISIC_0528190  0.533461\n",
       "7  ISIC_0576478  0.349786\n",
       "8  ISIC_0719839  0.486631\n",
       "9  ISIC_0968965  0.542402"
      ]
     },
     "metadata": {},
     "output_type": "display_data"
    }
   ],
   "source": [
    "model.eval()\n",
    "predictions = []\n",
    "\n",
    "with torch.no_grad():\n",
    "    for images, isic_ids in tqdm(test_loader, desc=\"Inference on Test\"):\n",
    "        images = images.to(device)\n",
    "        logits = model(images).view(-1)  # shape [batch_size]\n",
    "        probs = torch.sigmoid(logits)    # shape [batch_size], in [0,1]\n",
    "        \n",
    "        probs = probs.cpu().numpy()\n",
    "        \n",
    "        for isic_id, p in zip(isic_ids, probs):\n",
    "            predictions.append({\"isic_id\": isic_id, \"target\": float(p)})\n",
    "\n",
    "submission_df = pd.DataFrame(predictions)\n",
    "submission_df = submission_df.sort_values(by=\"isic_id\").reset_index(drop=True)\n",
    "\n",
    "submission_file = \"submission_I_RN50_2.csv\"\n",
    "submission_df.to_csv(submission_file, index=False)\n",
    "\n",
    "print(f\"Saved submission with {len(submission_df)} rows to {submission_file}\")\n",
    "display(submission_df.head(10))"
   ]
  },
  {
   "cell_type": "markdown",
   "metadata": {},
   "source": [
    "### 3. Unfrozen last layer - 0.36"
   ]
  },
  {
   "cell_type": "code",
   "execution_count": null,
   "metadata": {},
   "outputs": [
    {
     "data": {
      "application/vnd.jupyter.widget-view+json": {
       "model_id": "caf316b569f5423ebd78032296713780",
       "version_major": 2,
       "version_minor": 0
      },
      "text/plain": [
       "Epoch 1:   0%|          | 0/18 [00:00<?, ?it/s]"
      ]
     },
     "metadata": {},
     "output_type": "display_data"
    },
    {
     "name": "stdout",
     "output_type": "stream",
     "text": [
      "Epoch 1/20 | Train Loss: 0.6602 | Val Loss: 0.6331\n"
     ]
    },
    {
     "data": {
      "application/vnd.jupyter.widget-view+json": {
       "model_id": "f4f66565b2424830b6a41b8c738f2741",
       "version_major": 2,
       "version_minor": 0
      },
      "text/plain": [
       "Epoch 2:   0%|          | 0/18 [00:00<?, ?it/s]"
      ]
     },
     "metadata": {},
     "output_type": "display_data"
    },
    {
     "name": "stdout",
     "output_type": "stream",
     "text": [
      "Epoch 2/20 | Train Loss: 0.5782 | Val Loss: 0.5215\n"
     ]
    },
    {
     "data": {
      "application/vnd.jupyter.widget-view+json": {
       "model_id": "dbde41dc452e434183b7ab7ccdd9cbfc",
       "version_major": 2,
       "version_minor": 0
      },
      "text/plain": [
       "Epoch 3:   0%|          | 0/18 [00:00<?, ?it/s]"
      ]
     },
     "metadata": {},
     "output_type": "display_data"
    },
    {
     "name": "stdout",
     "output_type": "stream",
     "text": [
      "Epoch 3/20 | Train Loss: 0.4563 | Val Loss: 0.4869\n"
     ]
    },
    {
     "data": {
      "application/vnd.jupyter.widget-view+json": {
       "model_id": "bb8d14d1ab9440aea7b5e4486d8ebb90",
       "version_major": 2,
       "version_minor": 0
      },
      "text/plain": [
       "Epoch 4:   0%|          | 0/18 [00:00<?, ?it/s]"
      ]
     },
     "metadata": {},
     "output_type": "display_data"
    },
    {
     "name": "stdout",
     "output_type": "stream",
     "text": [
      "Epoch 4/20 | Train Loss: 0.3930 | Val Loss: 0.4340\n"
     ]
    },
    {
     "data": {
      "application/vnd.jupyter.widget-view+json": {
       "model_id": "94d568eb866b4dc585c67bb646c14156",
       "version_major": 2,
       "version_minor": 0
      },
      "text/plain": [
       "Epoch 5:   0%|          | 0/18 [00:00<?, ?it/s]"
      ]
     },
     "metadata": {},
     "output_type": "display_data"
    },
    {
     "name": "stdout",
     "output_type": "stream",
     "text": [
      "Epoch 5/20 | Train Loss: 0.3209 | Val Loss: 0.4251\n"
     ]
    },
    {
     "data": {
      "application/vnd.jupyter.widget-view+json": {
       "model_id": "812adc2961c6475c8c64c77888078c99",
       "version_major": 2,
       "version_minor": 0
      },
      "text/plain": [
       "Epoch 6:   0%|          | 0/18 [00:00<?, ?it/s]"
      ]
     },
     "metadata": {},
     "output_type": "display_data"
    },
    {
     "name": "stdout",
     "output_type": "stream",
     "text": [
      "Epoch 6/20 | Train Loss: 0.3391 | Val Loss: 0.4111\n"
     ]
    },
    {
     "data": {
      "application/vnd.jupyter.widget-view+json": {
       "model_id": "48c82ccd80ad4db3abd98ee0bbed9655",
       "version_major": 2,
       "version_minor": 0
      },
      "text/plain": [
       "Epoch 7:   0%|          | 0/18 [00:00<?, ?it/s]"
      ]
     },
     "metadata": {},
     "output_type": "display_data"
    },
    {
     "name": "stdout",
     "output_type": "stream",
     "text": [
      "Epoch 7/20 | Train Loss: 0.2730 | Val Loss: 0.3639\n"
     ]
    },
    {
     "data": {
      "application/vnd.jupyter.widget-view+json": {
       "model_id": "6a8c7257ead5470aba3671bb29597dad",
       "version_major": 2,
       "version_minor": 0
      },
      "text/plain": [
       "Epoch 8:   0%|          | 0/18 [00:00<?, ?it/s]"
      ]
     },
     "metadata": {},
     "output_type": "display_data"
    },
    {
     "name": "stdout",
     "output_type": "stream",
     "text": [
      "Epoch 8/20 | Train Loss: 0.2485 | Val Loss: 0.4994\n"
     ]
    },
    {
     "data": {
      "application/vnd.jupyter.widget-view+json": {
       "model_id": "16fa7d71de544ade8a9c92fdc59b8cb8",
       "version_major": 2,
       "version_minor": 0
      },
      "text/plain": [
       "Epoch 9:   0%|          | 0/18 [00:00<?, ?it/s]"
      ]
     },
     "metadata": {},
     "output_type": "display_data"
    },
    {
     "name": "stdout",
     "output_type": "stream",
     "text": [
      "Epoch 9/20 | Train Loss: 0.2572 | Val Loss: 0.4178\n"
     ]
    },
    {
     "data": {
      "application/vnd.jupyter.widget-view+json": {
       "model_id": "472a30ebb77f437a85d315dd7b3457ec",
       "version_major": 2,
       "version_minor": 0
      },
      "text/plain": [
       "Epoch 10:   0%|          | 0/18 [00:00<?, ?it/s]"
      ]
     },
     "metadata": {},
     "output_type": "display_data"
    },
    {
     "name": "stdout",
     "output_type": "stream",
     "text": [
      "Epoch 10/20 | Train Loss: 0.2204 | Val Loss: 0.3833\n"
     ]
    },
    {
     "data": {
      "application/vnd.jupyter.widget-view+json": {
       "model_id": "eb344d5b10b84e83934be706500bbb15",
       "version_major": 2,
       "version_minor": 0
      },
      "text/plain": [
       "Epoch 11:   0%|          | 0/18 [00:00<?, ?it/s]"
      ]
     },
     "metadata": {},
     "output_type": "display_data"
    },
    {
     "name": "stdout",
     "output_type": "stream",
     "text": [
      "Epoch 11/20 | Train Loss: 0.2383 | Val Loss: 0.4961\n"
     ]
    },
    {
     "data": {
      "application/vnd.jupyter.widget-view+json": {
       "model_id": "10660a909f014ff7a5a03ec5924098e0",
       "version_major": 2,
       "version_minor": 0
      },
      "text/plain": [
       "Epoch 12:   0%|          | 0/18 [00:00<?, ?it/s]"
      ]
     },
     "metadata": {},
     "output_type": "display_data"
    },
    {
     "name": "stdout",
     "output_type": "stream",
     "text": [
      "Epoch 12/20 | Train Loss: 0.2237 | Val Loss: 0.4898\n"
     ]
    },
    {
     "data": {
      "application/vnd.jupyter.widget-view+json": {
       "model_id": "8abe125ddeda49e6a02eef470d0f528a",
       "version_major": 2,
       "version_minor": 0
      },
      "text/plain": [
       "Epoch 13:   0%|          | 0/18 [00:00<?, ?it/s]"
      ]
     },
     "metadata": {},
     "output_type": "display_data"
    },
    {
     "name": "stdout",
     "output_type": "stream",
     "text": [
      "Epoch 13/20 | Train Loss: 0.1766 | Val Loss: 0.4771\n"
     ]
    },
    {
     "data": {
      "application/vnd.jupyter.widget-view+json": {
       "model_id": "e19924599dba48beb2a76996759e8370",
       "version_major": 2,
       "version_minor": 0
      },
      "text/plain": [
       "Epoch 14:   0%|          | 0/18 [00:00<?, ?it/s]"
      ]
     },
     "metadata": {},
     "output_type": "display_data"
    },
    {
     "name": "stdout",
     "output_type": "stream",
     "text": [
      "Epoch 14/20 | Train Loss: 0.1521 | Val Loss: 0.5197\n"
     ]
    },
    {
     "data": {
      "application/vnd.jupyter.widget-view+json": {
       "model_id": "d2b77ce0fcdc46868efe2641e15cb943",
       "version_major": 2,
       "version_minor": 0
      },
      "text/plain": [
       "Epoch 15:   0%|          | 0/18 [00:00<?, ?it/s]"
      ]
     },
     "metadata": {},
     "output_type": "display_data"
    },
    {
     "name": "stdout",
     "output_type": "stream",
     "text": [
      "Epoch 15/20 | Train Loss: 0.1668 | Val Loss: 0.5447\n"
     ]
    },
    {
     "data": {
      "application/vnd.jupyter.widget-view+json": {
       "model_id": "c3a64c2a81fe44cab2ca333d6b5938db",
       "version_major": 2,
       "version_minor": 0
      },
      "text/plain": [
       "Epoch 16:   0%|          | 0/18 [00:00<?, ?it/s]"
      ]
     },
     "metadata": {},
     "output_type": "display_data"
    },
    {
     "name": "stdout",
     "output_type": "stream",
     "text": [
      "Epoch 16/20 | Train Loss: 0.1146 | Val Loss: 0.4694\n"
     ]
    },
    {
     "data": {
      "application/vnd.jupyter.widget-view+json": {
       "model_id": "521c571e264b44f394a38fd20ea4769a",
       "version_major": 2,
       "version_minor": 0
      },
      "text/plain": [
       "Epoch 17:   0%|          | 0/18 [00:00<?, ?it/s]"
      ]
     },
     "metadata": {},
     "output_type": "display_data"
    },
    {
     "name": "stdout",
     "output_type": "stream",
     "text": [
      "Epoch 17/20 | Train Loss: 0.0970 | Val Loss: 0.4147\n"
     ]
    },
    {
     "data": {
      "application/vnd.jupyter.widget-view+json": {
       "model_id": "cde5019e43274837a5dc2e0159b26ae8",
       "version_major": 2,
       "version_minor": 0
      },
      "text/plain": [
       "Epoch 18:   0%|          | 0/18 [00:00<?, ?it/s]"
      ]
     },
     "metadata": {},
     "output_type": "display_data"
    },
    {
     "name": "stdout",
     "output_type": "stream",
     "text": [
      "Epoch 18/20 | Train Loss: 0.1105 | Val Loss: 0.4975\n"
     ]
    },
    {
     "data": {
      "application/vnd.jupyter.widget-view+json": {
       "model_id": "2dae1f30670b40458d2ee51324058905",
       "version_major": 2,
       "version_minor": 0
      },
      "text/plain": [
       "Epoch 19:   0%|          | 0/18 [00:00<?, ?it/s]"
      ]
     },
     "metadata": {},
     "output_type": "display_data"
    },
    {
     "name": "stdout",
     "output_type": "stream",
     "text": [
      "Epoch 19/20 | Train Loss: 0.0938 | Val Loss: 0.5075\n"
     ]
    },
    {
     "data": {
      "application/vnd.jupyter.widget-view+json": {
       "model_id": "4f9cd805bb8442a291b87a762eb71459",
       "version_major": 2,
       "version_minor": 0
      },
      "text/plain": [
       "Epoch 20:   0%|          | 0/18 [00:00<?, ?it/s]"
      ]
     },
     "metadata": {},
     "output_type": "display_data"
    },
    {
     "name": "stdout",
     "output_type": "stream",
     "text": [
      "Epoch 20/20 | Train Loss: 0.0705 | Val Loss: 0.5921\n",
      "Best model val loss: 0.3638677507638931\n"
     ]
    }
   ],
   "source": [
    "model = models.resnet50(weights='ResNet50_Weights.DEFAULT')\n",
    "\n",
    "# Freeze all layers\n",
    "for param in model.parameters():\n",
    "    param.requires_grad = False\n",
    "\n",
    "# Replace final layer for binary classification\n",
    "model.fc = nn.Linear(in_features=2048, out_features=1)\n",
    "\n",
    "# Unfreeze last few layers (e.g., layer4 and fc)\n",
    "for name, param in model.named_parameters():\n",
    "    if \"layer4\" in name or \"fc\" in name:\n",
    "        param.requires_grad = True\n",
    "\n",
    "model = model.to(device)\n",
    "\n",
    "criterion = nn.BCEWithLogitsLoss()\n",
    "optimizer = optim.Adam(filter(lambda p: p.requires_grad, model.parameters()), lr=1e-4)\n",
    "\n",
    "EPOCHS = 20\n",
    "\n",
    "# Initialize variables to track the best model\n",
    "best_val_loss = float('inf')  # Start with a very large number\n",
    "train_losses = []  # To store training losses\n",
    "val_losses = []    # To store validation losses\n",
    "best_model = None  # Variable to store the best model\n",
    "\n",
    "for epoch in range(1, EPOCHS+1):\n",
    "\n",
    "    # -- TRAINING --\n",
    "    model.train()\n",
    "    running_loss = 0.0\n",
    "    \n",
    "    for images, labels, _ in tqdm(train_loader, desc=f\"Epoch {epoch}\", leave=False):\n",
    "        images, labels = images.to(device), labels.to(device)\n",
    "        \n",
    "        optimizer.zero_grad()\n",
    "        logits = model(images).view(-1)  # [batch_size]\n",
    "        \n",
    "        loss = criterion(logits, labels)\n",
    "        loss.backward()\n",
    "        optimizer.step()\n",
    "        \n",
    "        running_loss += loss.item()\n",
    "    \n",
    "    avg_train_loss = running_loss / len(train_loader)\n",
    "    train_losses.append(avg_train_loss)\n",
    "\n",
    "    \n",
    "    # -- VALIDATING --\n",
    "\n",
    "    model.eval()\n",
    "    val_loss = 0.0\n",
    "    \n",
    "    with torch.no_grad():\n",
    "        for images, labels, _ in valid_loader:\n",
    "            images, labels = images.to(device), labels.to(device)\n",
    "            logits = model(images).view(-1)\n",
    "            loss = criterion(logits, labels)\n",
    "            val_loss += loss.item()\n",
    "    \n",
    "    avg_val_loss = val_loss / len(valid_loader)\n",
    "    val_losses.append(avg_val_loss)\n",
    "    \n",
    "    print(f\"Epoch {epoch}/{EPOCHS} | Train Loss: {avg_train_loss:.4f} | Val Loss: {avg_val_loss:.4f}\")\n",
    "\n",
    "    # -- Check if this is the best model so far --\n",
    "    if avg_val_loss < best_val_loss:\n",
    "        #print(f\"Validation loss decreased ({best_val_loss:.4f} -> {avg_val_loss:.4f}). Saving model...\")\n",
    "        best_val_loss = avg_val_loss\n",
    "        best_model = model.state_dict()  # Save the model's state dict in the variable\n",
    "\n",
    "# If you want to load the best model from the variable:\n",
    "model.load_state_dict(best_model)\n",
    "model = model.to(device)\n",
    "print(f\"Best model val loss: {best_val_loss}\")"
   ]
  },
  {
   "cell_type": "code",
   "execution_count": null,
   "metadata": {},
   "outputs": [
    {
     "data": {
      "image/png": "[encoded data removed]",
      "text/plain": [
       "<Figure size 1000x600 with 1 Axes>"
      ]
     },
     "metadata": {},
     "output_type": "display_data"
    }
   ],
   "source": [
    "plt.figure(figsize=(10, 6))\n",
    "plt.plot(range(1, EPOCHS + 1), train_losses, label='Train Loss', color='blue', marker='o')\n",
    "plt.plot(range(1, EPOCHS + 1), val_losses, label='Validation Loss', color='red', marker='o')\n",
    "plt.xlabel('Epochs')\n",
    "plt.ylabel('Loss')\n",
    "plt.title('Training and Validation Losses Over Epochs')\n",
    "plt.legend()\n",
    "plt.grid(True)\n",
    "plt.show()"
   ]
  },
  {
   "cell_type": "code",
   "execution_count": null,
   "metadata": {},
   "outputs": [
    {
     "data": {
      "application/vnd.jupyter.widget-view+json": {
       "model_id": "3d1dc94eacbc4c669d68ac5b96610960",
       "version_major": 2,
       "version_minor": 0
      },
      "text/plain": [
       "Inference on Test:   0%|          | 0/4 [00:00<?, ?it/s]"
      ]
     },
     "metadata": {},
     "output_type": "display_data"
    },
    {
     "name": "stdout",
     "output_type": "stream",
     "text": [
      "Saved submission with 100 rows to submission_I_RN50_3.csv\n"
     ]
    },
    {
     "data": {
      "text/html": [
       "<div>\n",
       "<style scoped>\n",
       "    .dataframe tbody tr th:only-of-type {\n",
       "        vertical-align: middle;\n",
       "    }\n",
       "\n",
       "    .dataframe tbody tr th {\n",
       "        vertical-align: top;\n",
       "    }\n",
       "\n",
       "    .dataframe thead th {\n",
       "        text-align: right;\n",
       "    }\n",
       "</style>\n",
       "<table border=\"1\" class=\"dataframe\">\n",
       "  <thead>\n",
       "    <tr style=\"text-align: right;\">\n",
       "      <th></th>\n",
       "      <th>isic_id</th>\n",
       "      <th>target</th>\n",
       "    </tr>\n",
       "  </thead>\n",
       "  <tbody>\n",
       "    <tr>\n",
       "      <th>0</th>\n",
       "      <td>ISIC_0082829</td>\n",
       "      <td>0.982227</td>\n",
       "    </tr>\n",
       "    <tr>\n",
       "      <th>1</th>\n",
       "      <td>ISIC_0114227</td>\n",
       "      <td>0.019251</td>\n",
       "    </tr>\n",
       "    <tr>\n",
       "      <th>2</th>\n",
       "      <td>ISIC_0157465</td>\n",
       "      <td>0.016352</td>\n",
       "    </tr>\n",
       "    <tr>\n",
       "      <th>3</th>\n",
       "      <td>ISIC_0197356</td>\n",
       "      <td>0.056832</td>\n",
       "    </tr>\n",
       "    <tr>\n",
       "      <th>4</th>\n",
       "      <td>ISIC_0275647</td>\n",
       "      <td>0.164382</td>\n",
       "    </tr>\n",
       "    <tr>\n",
       "      <th>5</th>\n",
       "      <td>ISIC_0332355</td>\n",
       "      <td>0.019712</td>\n",
       "    </tr>\n",
       "    <tr>\n",
       "      <th>6</th>\n",
       "      <td>ISIC_0528190</td>\n",
       "      <td>0.997646</td>\n",
       "    </tr>\n",
       "    <tr>\n",
       "      <th>7</th>\n",
       "      <td>ISIC_0576478</td>\n",
       "      <td>0.001200</td>\n",
       "    </tr>\n",
       "    <tr>\n",
       "      <th>8</th>\n",
       "      <td>ISIC_0719839</td>\n",
       "      <td>0.999435</td>\n",
       "    </tr>\n",
       "    <tr>\n",
       "      <th>9</th>\n",
       "      <td>ISIC_0968965</td>\n",
       "      <td>0.776945</td>\n",
       "    </tr>\n",
       "  </tbody>\n",
       "</table>\n",
       "</div>"
      ],
      "text/plain": [
       "        isic_id    target\n",
       "0  ISIC_0082829  0.982227\n",
       "1  ISIC_0114227  0.019251\n",
       "2  ISIC_0157465  0.016352\n",
       "3  ISIC_0197356  0.056832\n",
       "4  ISIC_0275647  0.164382\n",
       "5  ISIC_0332355  0.019712\n",
       "6  ISIC_0528190  0.997646\n",
       "7  ISIC_0576478  0.001200\n",
       "8  ISIC_0719839  0.999435\n",
       "9  ISIC_0968965  0.776945"
      ]
     },
     "metadata": {},
     "output_type": "display_data"
    }
   ],
   "source": [
    "model.eval()\n",
    "predictions = []\n",
    "\n",
    "with torch.no_grad():\n",
    "    for images, isic_ids in tqdm(test_loader, desc=\"Inference on Test\"):\n",
    "        images = images.to(device)\n",
    "        logits = model(images).view(-1)  # shape [batch_size]\n",
    "        probs = torch.sigmoid(logits)    # shape [batch_size], in [0,1]\n",
    "        \n",
    "        probs = probs.cpu().numpy()\n",
    "        \n",
    "        for isic_id, p in zip(isic_ids, probs):\n",
    "            predictions.append({\"isic_id\": isic_id, \"target\": float(p)})\n",
    "\n",
    "submission_df = pd.DataFrame(predictions)\n",
    "submission_df = submission_df.sort_values(by=\"isic_id\").reset_index(drop=True)\n",
    "\n",
    "submission_file = \"submission_I_RN50_3.csv\"\n",
    "submission_df.to_csv(submission_file, index=False)\n",
    "\n",
    "print(f\"Saved submission with {len(submission_df)} rows to {submission_file}\")\n",
    "display(submission_df.head(10))"
   ]
  },
  {
   "cell_type": "markdown",
   "metadata": {},
   "source": [
    "## EfficientNet"
   ]
  },
  {
   "cell_type": "code",
   "execution_count": null,
   "metadata": {},
   "outputs": [
    {
     "name": "stderr",
     "output_type": "stream",
     "text": [
      "Downloading: \"https://download.pytorch.org/models/efficientnet_b7_lukemelas-c5b4e57e.pth\" to /Users/jorgecamposmarti/.cache/torch/hub/checkpoints/efficientnet_b7_lukemelas-c5b4e57e.pth\n",
      "100%|██████████| 255M/255M [00:15<00:00, 17.0MB/s] \n"
     ]
    },
    {
     "data": {
      "application/vnd.jupyter.widget-view+json": {
       "model_id": "000aaf75161e4b0dad3a53c547e018d9",
       "version_major": 2,
       "version_minor": 0
      },
      "text/plain": [
       "Epoch 1:   0%|          | 0/18 [00:00<?, ?it/s]"
      ]
     },
     "metadata": {},
     "output_type": "display_data"
    }
   ],
   "source": [
    "model = models.efficientnet_b7(weights=\"EfficientNet_B7_Weights.DEFAULT\")\n",
    "\n",
    "# Replace final layer for binary classification\n",
    "model.classifier[1] = nn.Linear(model.classifier[1].in_features, 1)\n",
    "\n",
    "model = model.to(device)\n",
    "\n",
    "criterion = nn.BCEWithLogitsLoss()\n",
    "optimizer = optim.Adam(model.parameters(), lr=1e-4)\n",
    "\n",
    "EPOCHS = 20\n",
    "\n",
    "# Initialize variables to track the best model\n",
    "best_val_loss = float('inf')  # Start with a very large number\n",
    "train_losses = []  # To store training losses\n",
    "val_losses = []    # To store validation losses\n",
    "best_model = None  # Variable to store the best model\n",
    "\n",
    "for epoch in range(1, EPOCHS+1):\n",
    "\n",
    "    # -- TRAINING --\n",
    "    model.train()\n",
    "    running_loss = 0.0\n",
    "    \n",
    "    for images, labels, _ in tqdm(train_loader, desc=f\"Epoch {epoch}\", leave=False):\n",
    "        images, labels = images.to(device), labels.to(device)\n",
    "        \n",
    "        optimizer.zero_grad()\n",
    "        logits = model(images).view(-1)  # [batch_size]\n",
    "        \n",
    "        loss = criterion(logits, labels)\n",
    "        loss.backward()\n",
    "        optimizer.step()\n",
    "        \n",
    "        running_loss += loss.item()\n",
    "    \n",
    "    avg_train_loss = running_loss / len(train_loader)\n",
    "    train_losses.append(avg_train_loss)\n",
    "\n",
    "    \n",
    "    # -- VALIDATING --\n",
    "\n",
    "    model.eval()\n",
    "    val_loss = 0.0\n",
    "    \n",
    "    with torch.no_grad():\n",
    "        for images, labels, _ in valid_loader:\n",
    "            images, labels = images.to(device), labels.to(device)\n",
    "            logits = model(images).view(-1)\n",
    "            loss = criterion(logits, labels)\n",
    "            val_loss += loss.item()\n",
    "    \n",
    "    avg_val_loss = val_loss / len(valid_loader)\n",
    "    val_losses.append(avg_val_loss)\n",
    "    \n",
    "    print(f\"Epoch {epoch}/{EPOCHS} | Train Loss: {avg_train_loss:.4f} | Val Loss: {avg_val_loss:.4f}\")\n",
    "\n",
    "    # -- Check if this is the best model so far --\n",
    "    if avg_val_loss < best_val_loss:\n",
    "        #print(f\"Validation loss decreased ({best_val_loss:.4f} -> {avg_val_loss:.4f}). Saving model...\")\n",
    "        best_val_loss = avg_val_loss\n",
    "        best_model = model.state_dict()  # Save the model's state dict in the variable\n",
    "\n",
    "# If you want to load the best model from the variable:\n",
    "model.load_state_dict(best_model)\n",
    "model = model.to(device)\n",
    "print(f\"Best model val loss: {best_val_loss}\")"
   ]
  },
  {
   "cell_type": "code",
   "execution_count": null,
   "metadata": {},
   "outputs": [
    {
     "data": {
      "image/png": "[encoded data removed]",
      "text/plain": [
       "<Figure size 1000x600 with 1 Axes>"
      ]
     },
     "metadata": {},
     "output_type": "display_data"
    }
   ],
   "source": [
    "plt.figure(figsize=(10, 6))\n",
    "plt.plot(range(1, EPOCHS + 1), train_losses, label='Train Loss', color='blue', marker='o')\n",
    "plt.plot(range(1, EPOCHS + 1), val_losses, label='Validation Loss', color='red', marker='o')\n",
    "plt.xlabel('Epochs')\n",
    "plt.ylabel('Loss')\n",
    "plt.title('Training and Validation Losses Over Epochs')\n",
    "plt.legend()\n",
    "plt.grid(True)\n",
    "plt.show()"
   ]
  },
  {
   "cell_type": "code",
   "execution_count": null,
   "metadata": {},
   "outputs": [
    {
     "data": {
      "application/vnd.jupyter.widget-view+json": {
       "model_id": "a4a9cc84f61c437884e8b349509a1d45",
       "version_major": 2,
       "version_minor": 0
      },
      "text/plain": [
       "Inference on Test:   0%|          | 0/4 [00:00<?, ?it/s]"
      ]
     },
     "metadata": {},
     "output_type": "display_data"
    },
    {
     "name": "stdout",
     "output_type": "stream",
     "text": [
      "Saved submission with 100 rows to submission_I_RN50_1.csv\n"
     ]
    },
    {
     "data": {
      "text/html": [
       "<div>\n",
       "<style scoped>\n",
       "    .dataframe tbody tr th:only-of-type {\n",
       "        vertical-align: middle;\n",
       "    }\n",
       "\n",
       "    .dataframe tbody tr th {\n",
       "        vertical-align: top;\n",
       "    }\n",
       "\n",
       "    .dataframe thead th {\n",
       "        text-align: right;\n",
       "    }\n",
       "</style>\n",
       "<table border=\"1\" class=\"dataframe\">\n",
       "  <thead>\n",
       "    <tr style=\"text-align: right;\">\n",
       "      <th></th>\n",
       "      <th>isic_id</th>\n",
       "      <th>target</th>\n",
       "    </tr>\n",
       "  </thead>\n",
       "  <tbody>\n",
       "    <tr>\n",
       "      <th>0</th>\n",
       "      <td>ISIC_0082829</td>\n",
       "      <td>0.998039</td>\n",
       "    </tr>\n",
       "    <tr>\n",
       "      <th>1</th>\n",
       "      <td>ISIC_0114227</td>\n",
       "      <td>0.152868</td>\n",
       "    </tr>\n",
       "    <tr>\n",
       "      <th>2</th>\n",
       "      <td>ISIC_0157465</td>\n",
       "      <td>0.033230</td>\n",
       "    </tr>\n",
       "    <tr>\n",
       "      <th>3</th>\n",
       "      <td>ISIC_0197356</td>\n",
       "      <td>0.545594</td>\n",
       "    </tr>\n",
       "    <tr>\n",
       "      <th>4</th>\n",
       "      <td>ISIC_0275647</td>\n",
       "      <td>0.070164</td>\n",
       "    </tr>\n",
       "    <tr>\n",
       "      <th>5</th>\n",
       "      <td>ISIC_0332355</td>\n",
       "      <td>0.804810</td>\n",
       "    </tr>\n",
       "    <tr>\n",
       "      <th>6</th>\n",
       "      <td>ISIC_0528190</td>\n",
       "      <td>0.958261</td>\n",
       "    </tr>\n",
       "    <tr>\n",
       "      <th>7</th>\n",
       "      <td>ISIC_0576478</td>\n",
       "      <td>0.006062</td>\n",
       "    </tr>\n",
       "    <tr>\n",
       "      <th>8</th>\n",
       "      <td>ISIC_0719839</td>\n",
       "      <td>0.985423</td>\n",
       "    </tr>\n",
       "    <tr>\n",
       "      <th>9</th>\n",
       "      <td>ISIC_0968965</td>\n",
       "      <td>0.537542</td>\n",
       "    </tr>\n",
       "  </tbody>\n",
       "</table>\n",
       "</div>"
      ],
      "text/plain": [
       "        isic_id    target\n",
       "0  ISIC_0082829  0.998039\n",
       "1  ISIC_0114227  0.152868\n",
       "2  ISIC_0157465  0.033230\n",
       "3  ISIC_0197356  0.545594\n",
       "4  ISIC_0275647  0.070164\n",
       "5  ISIC_0332355  0.804810\n",
       "6  ISIC_0528190  0.958261\n",
       "7  ISIC_0576478  0.006062\n",
       "8  ISIC_0719839  0.985423\n",
       "9  ISIC_0968965  0.537542"
      ]
     },
     "metadata": {},
     "output_type": "display_data"
    }
   ],
   "source": [
    "model.eval()\n",
    "predictions = []\n",
    "\n",
    "with torch.no_grad():\n",
    "    for images, isic_ids in tqdm(test_loader, desc=\"Inference on Test\"):\n",
    "        images = images.to(device)\n",
    "        logits = model(images).view(-1)  # shape [batch_size]\n",
    "        probs = torch.sigmoid(logits)    # shape [batch_size], in [0,1]\n",
    "        \n",
    "        probs = probs.cpu().numpy()\n",
    "        \n",
    "        for isic_id, p in zip(isic_ids, probs):\n",
    "            predictions.append({\"isic_id\": isic_id, \"target\": float(p)})\n",
    "\n",
    "submission_df = pd.DataFrame(predictions)\n",
    "submission_df = submission_df.sort_values(by=\"isic_id\").reset_index(drop=True)\n",
    "\n",
    "submission_file = \"submission_I_ENB7_1.csv\"\n",
    "submission_df.to_csv(submission_file, index=False)\n",
    "\n",
    "print(f\"Saved submission with {len(submission_df)} rows to {submission_file}\")\n",
    "display(submission_df.head(10))"
   ]
  },
  {
   "cell_type": "markdown",
   "metadata": {},
   "source": [
    "## DenseNet"
   ]
  },
  {
   "cell_type": "code",
   "execution_count": null,
   "metadata": {},
   "outputs": [
    {
     "data": {
      "application/vnd.jupyter.widget-view+json": {
       "model_id": "4bdfd5c215814e70b38a43053ae889f3",
       "version_major": 2,
       "version_minor": 0
      },
      "text/plain": [
       "Epoch 1:   0%|          | 0/18 [00:00<?, ?it/s]"
      ]
     },
     "metadata": {},
     "output_type": "display_data"
    },
    {
     "name": "stdout",
     "output_type": "stream",
     "text": [
      "Epoch 1/20 | Train Loss: 0.6613 | Val Loss: 0.6337\n"
     ]
    },
    {
     "data": {
      "application/vnd.jupyter.widget-view+json": {
       "model_id": "c9c2a05df687468bb9b9f9e14838d125",
       "version_major": 2,
       "version_minor": 0
      },
      "text/plain": [
       "Epoch 2:   0%|          | 0/18 [00:00<?, ?it/s]"
      ]
     },
     "metadata": {},
     "output_type": "display_data"
    },
    {
     "name": "stdout",
     "output_type": "stream",
     "text": [
      "Epoch 2/20 | Train Loss: 0.5241 | Val Loss: 0.5265\n"
     ]
    },
    {
     "data": {
      "application/vnd.jupyter.widget-view+json": {
       "model_id": "6182da5e95fe4e0bae3a02c6f1f79e9c",
       "version_major": 2,
       "version_minor": 0
      },
      "text/plain": [
       "Epoch 3:   0%|          | 0/18 [00:00<?, ?it/s]"
      ]
     },
     "metadata": {},
     "output_type": "display_data"
    },
    {
     "name": "stdout",
     "output_type": "stream",
     "text": [
      "Epoch 3/20 | Train Loss: 0.3963 | Val Loss: 0.3971\n"
     ]
    },
    {
     "data": {
      "application/vnd.jupyter.widget-view+json": {
       "model_id": "20689a08d95d48aeac54e27a67591123",
       "version_major": 2,
       "version_minor": 0
      },
      "text/plain": [
       "Epoch 4:   0%|          | 0/18 [00:00<?, ?it/s]"
      ]
     },
     "metadata": {},
     "output_type": "display_data"
    },
    {
     "name": "stdout",
     "output_type": "stream",
     "text": [
      "Epoch 4/20 | Train Loss: 0.3007 | Val Loss: 0.4023\n"
     ]
    },
    {
     "data": {
      "application/vnd.jupyter.widget-view+json": {
       "model_id": "831da813614b4300ab08563ebe8ce899",
       "version_major": 2,
       "version_minor": 0
      },
      "text/plain": [
       "Epoch 5:   0%|          | 0/18 [00:00<?, ?it/s]"
      ]
     },
     "metadata": {},
     "output_type": "display_data"
    },
    {
     "name": "stdout",
     "output_type": "stream",
     "text": [
      "Epoch 5/20 | Train Loss: 0.2321 | Val Loss: 0.4947\n"
     ]
    },
    {
     "data": {
      "application/vnd.jupyter.widget-view+json": {
       "model_id": "3286b3db6e7a4f5bade30848b214395f",
       "version_major": 2,
       "version_minor": 0
      },
      "text/plain": [
       "Epoch 6:   0%|          | 0/18 [00:00<?, ?it/s]"
      ]
     },
     "metadata": {},
     "output_type": "display_data"
    },
    {
     "name": "stdout",
     "output_type": "stream",
     "text": [
      "Epoch 6/20 | Train Loss: 0.2001 | Val Loss: 0.3623\n"
     ]
    },
    {
     "data": {
      "application/vnd.jupyter.widget-view+json": {
       "model_id": "52094f3048724a4e974d87b818429d5e",
       "version_major": 2,
       "version_minor": 0
      },
      "text/plain": [
       "Epoch 7:   0%|          | 0/18 [00:00<?, ?it/s]"
      ]
     },
     "metadata": {},
     "output_type": "display_data"
    },
    {
     "name": "stdout",
     "output_type": "stream",
     "text": [
      "Epoch 7/20 | Train Loss: 0.2030 | Val Loss: 0.3634\n"
     ]
    },
    {
     "data": {
      "application/vnd.jupyter.widget-view+json": {
       "model_id": "e0afd75542644630a52cb6e78234b778",
       "version_major": 2,
       "version_minor": 0
      },
      "text/plain": [
       "Epoch 8:   0%|          | 0/18 [00:00<?, ?it/s]"
      ]
     },
     "metadata": {},
     "output_type": "display_data"
    },
    {
     "name": "stdout",
     "output_type": "stream",
     "text": [
      "Epoch 8/20 | Train Loss: 0.1208 | Val Loss: 0.5263\n"
     ]
    },
    {
     "data": {
      "application/vnd.jupyter.widget-view+json": {
       "model_id": "9c779ab5736941b28308569fe914ed07",
       "version_major": 2,
       "version_minor": 0
      },
      "text/plain": [
       "Epoch 9:   0%|          | 0/18 [00:00<?, ?it/s]"
      ]
     },
     "metadata": {},
     "output_type": "display_data"
    },
    {
     "name": "stdout",
     "output_type": "stream",
     "text": [
      "Epoch 9/20 | Train Loss: 0.1071 | Val Loss: 0.3843\n"
     ]
    },
    {
     "data": {
      "application/vnd.jupyter.widget-view+json": {
       "model_id": "94696fcb471c45b4993d64a4cc99f03e",
       "version_major": 2,
       "version_minor": 0
      },
      "text/plain": [
       "Epoch 10:   0%|          | 0/18 [00:00<?, ?it/s]"
      ]
     },
     "metadata": {},
     "output_type": "display_data"
    },
    {
     "name": "stdout",
     "output_type": "stream",
     "text": [
      "Epoch 10/20 | Train Loss: 0.1094 | Val Loss: 0.4756\n"
     ]
    },
    {
     "data": {
      "application/vnd.jupyter.widget-view+json": {
       "model_id": "afd311a6ea3b46d180947bb9cdd82a85",
       "version_major": 2,
       "version_minor": 0
      },
      "text/plain": [
       "Epoch 11:   0%|          | 0/18 [00:00<?, ?it/s]"
      ]
     },
     "metadata": {},
     "output_type": "display_data"
    },
    {
     "name": "stdout",
     "output_type": "stream",
     "text": [
      "Epoch 11/20 | Train Loss: 0.0752 | Val Loss: 0.4467\n"
     ]
    },
    {
     "data": {
      "application/vnd.jupyter.widget-view+json": {
       "model_id": "a2d6603f033145d3aa4afac56cfea828",
       "version_major": 2,
       "version_minor": 0
      },
      "text/plain": [
       "Epoch 12:   0%|          | 0/18 [00:00<?, ?it/s]"
      ]
     },
     "metadata": {},
     "output_type": "display_data"
    },
    {
     "name": "stdout",
     "output_type": "stream",
     "text": [
      "Epoch 12/20 | Train Loss: 0.1610 | Val Loss: 0.5650\n"
     ]
    },
    {
     "data": {
      "application/vnd.jupyter.widget-view+json": {
       "model_id": "7e5002f78199471fb49e49109de8c0a0",
       "version_major": 2,
       "version_minor": 0
      },
      "text/plain": [
       "Epoch 13:   0%|          | 0/18 [00:00<?, ?it/s]"
      ]
     },
     "metadata": {},
     "output_type": "display_data"
    },
    {
     "name": "stdout",
     "output_type": "stream",
     "text": [
      "Epoch 13/20 | Train Loss: 0.0774 | Val Loss: 0.3125\n"
     ]
    },
    {
     "data": {
      "application/vnd.jupyter.widget-view+json": {
       "model_id": "67c95ca7414748de9b67b3cd72785dca",
       "version_major": 2,
       "version_minor": 0
      },
      "text/plain": [
       "Epoch 14:   0%|          | 0/18 [00:00<?, ?it/s]"
      ]
     },
     "metadata": {},
     "output_type": "display_data"
    },
    {
     "name": "stdout",
     "output_type": "stream",
     "text": [
      "Epoch 14/20 | Train Loss: 0.0946 | Val Loss: 0.3538\n"
     ]
    },
    {
     "data": {
      "application/vnd.jupyter.widget-view+json": {
       "model_id": "7e086e5f8f7f4bb8bf6212912fbbf907",
       "version_major": 2,
       "version_minor": 0
      },
      "text/plain": [
       "Epoch 15:   0%|          | 0/18 [00:00<?, ?it/s]"
      ]
     },
     "metadata": {},
     "output_type": "display_data"
    },
    {
     "name": "stdout",
     "output_type": "stream",
     "text": [
      "Epoch 15/20 | Train Loss: 0.0644 | Val Loss: 0.5314\n"
     ]
    },
    {
     "data": {
      "application/vnd.jupyter.widget-view+json": {
       "model_id": "36cd45a2294f45c49f09d81202b22612",
       "version_major": 2,
       "version_minor": 0
      },
      "text/plain": [
       "Epoch 16:   0%|          | 0/18 [00:00<?, ?it/s]"
      ]
     },
     "metadata": {},
     "output_type": "display_data"
    },
    {
     "name": "stdout",
     "output_type": "stream",
     "text": [
      "Epoch 16/20 | Train Loss: 0.0727 | Val Loss: 0.3886\n"
     ]
    },
    {
     "data": {
      "application/vnd.jupyter.widget-view+json": {
       "model_id": "18a0018368bd4d32985fa6d8d2063528",
       "version_major": 2,
       "version_minor": 0
      },
      "text/plain": [
       "Epoch 17:   0%|          | 0/18 [00:00<?, ?it/s]"
      ]
     },
     "metadata": {},
     "output_type": "display_data"
    },
    {
     "name": "stdout",
     "output_type": "stream",
     "text": [
      "Epoch 17/20 | Train Loss: 0.1379 | Val Loss: 0.4813\n"
     ]
    },
    {
     "data": {
      "application/vnd.jupyter.widget-view+json": {
       "model_id": "4d1ab12bfdd14829b570e74b9de12e87",
       "version_major": 2,
       "version_minor": 0
      },
      "text/plain": [
       "Epoch 18:   0%|          | 0/18 [00:00<?, ?it/s]"
      ]
     },
     "metadata": {},
     "output_type": "display_data"
    },
    {
     "name": "stdout",
     "output_type": "stream",
     "text": [
      "Epoch 18/20 | Train Loss: 0.1300 | Val Loss: 0.4833\n"
     ]
    },
    {
     "data": {
      "application/vnd.jupyter.widget-view+json": {
       "model_id": "95ad3b1ed3af4947bc5901dac427944e",
       "version_major": 2,
       "version_minor": 0
      },
      "text/plain": [
       "Epoch 19:   0%|          | 0/18 [00:00<?, ?it/s]"
      ]
     },
     "metadata": {},
     "output_type": "display_data"
    },
    {
     "name": "stdout",
     "output_type": "stream",
     "text": [
      "Epoch 19/20 | Train Loss: 0.0750 | Val Loss: 0.4520\n"
     ]
    },
    {
     "data": {
      "application/vnd.jupyter.widget-view+json": {
       "model_id": "698d280c06a14e648d27ae70bc09801c",
       "version_major": 2,
       "version_minor": 0
      },
      "text/plain": [
       "Epoch 20:   0%|          | 0/18 [00:00<?, ?it/s]"
      ]
     },
     "metadata": {},
     "output_type": "display_data"
    },
    {
     "name": "stdout",
     "output_type": "stream",
     "text": [
      "Epoch 20/20 | Train Loss: 0.0548 | Val Loss: 0.4414\n",
      "Best model val loss: 0.3124964743852615\n"
     ]
    }
   ],
   "source": [
    "model = models.densenet121(weights=\"DenseNet121_Weights.DEFAULT\")\n",
    "\n",
    "# Replace final layer for binary classification\n",
    "model.classifier = nn.Linear(model.classifier.in_features, 1)\n",
    "\n",
    "model = model.to(device)\n",
    "\n",
    "criterion = nn.BCEWithLogitsLoss()\n",
    "optimizer = optim.Adam(model.parameters(), lr=1e-4)\n",
    "\n",
    "EPOCHS = 20\n",
    "\n",
    "# Initialize variables to track the best model\n",
    "best_val_loss = float('inf')  # Start with a very large number\n",
    "train_losses = []  # To store training losses\n",
    "val_losses = []    # To store validation losses\n",
    "best_model = None  # Variable to store the best model\n",
    "\n",
    "for epoch in range(1, EPOCHS+1):\n",
    "\n",
    "    # -- TRAINING --\n",
    "    model.train()\n",
    "    running_loss = 0.0\n",
    "    \n",
    "    for images, labels, _ in tqdm(train_loader, desc=f\"Epoch {epoch}\", leave=False):\n",
    "        images, labels = images.to(device), labels.to(device)\n",
    "        \n",
    "        optimizer.zero_grad()\n",
    "        logits = model(images).view(-1)  # [batch_size]\n",
    "        \n",
    "        loss = criterion(logits, labels)\n",
    "        loss.backward()\n",
    "        optimizer.step()\n",
    "        \n",
    "        running_loss += loss.item()\n",
    "    \n",
    "    avg_train_loss = running_loss / len(train_loader)\n",
    "    train_losses.append(avg_train_loss)\n",
    "\n",
    "    \n",
    "    # -- VALIDATING --\n",
    "\n",
    "    model.eval()\n",
    "    val_loss = 0.0\n",
    "    \n",
    "    with torch.no_grad():\n",
    "        for images, labels, _ in valid_loader:\n",
    "            images, labels = images.to(device), labels.to(device)\n",
    "            logits = model(images).view(-1)\n",
    "            loss = criterion(logits, labels)\n",
    "            val_loss += loss.item()\n",
    "    \n",
    "    avg_val_loss = val_loss / len(valid_loader)\n",
    "    val_losses.append(avg_val_loss)\n",
    "    \n",
    "    print(f\"Epoch {epoch}/{EPOCHS} | Train Loss: {avg_train_loss:.4f} | Val Loss: {avg_val_loss:.4f}\")\n",
    "\n",
    "    # -- Check if this is the best model so far --\n",
    "    if avg_val_loss < best_val_loss:\n",
    "        #print(f\"Validation loss decreased ({best_val_loss:.4f} -> {avg_val_loss:.4f}). Saving model...\")\n",
    "        best_val_loss = avg_val_loss\n",
    "        best_model = model.state_dict()  # Save the model's state dict in the variable\n",
    "\n",
    "# If you want to load the best model from the variable:\n",
    "model.load_state_dict(best_model)\n",
    "model = model.to(device)\n",
    "print(f\"Best model val loss: {best_val_loss}\")"
   ]
  },
  {
   "cell_type": "code",
   "execution_count": null,
   "metadata": {},
   "outputs": [
    {
     "data": {
      "image/png": "[encoded data removed]",
      "text/plain": [
       "<Figure size 1000x600 with 1 Axes>"
      ]
     },
     "metadata": {},
     "output_type": "display_data"
    }
   ],
   "source": [
    "plt.figure(figsize=(10, 6))\n",
    "plt.plot(range(1, EPOCHS + 1), train_losses, label='Train Loss', color='blue', marker='o')\n",
    "plt.plot(range(1, EPOCHS + 1), val_losses, label='Validation Loss', color='red', marker='o')\n",
    "plt.xlabel('Epochs')\n",
    "plt.ylabel('Loss')\n",
    "plt.title('Training and Validation Losses Over Epochs')\n",
    "plt.legend()\n",
    "plt.grid(True)\n",
    "plt.show()"
   ]
  },
  {
   "cell_type": "code",
   "execution_count": null,
   "metadata": {},
   "outputs": [
    {
     "data": {
      "application/vnd.jupyter.widget-view+json": {
       "model_id": "a4a9cc84f61c437884e8b349509a1d45",
       "version_major": 2,
       "version_minor": 0
      },
      "text/plain": [
       "Inference on Test:   0%|          | 0/4 [00:00<?, ?it/s]"
      ]
     },
     "metadata": {},
     "output_type": "display_data"
    },
    {
     "name": "stdout",
     "output_type": "stream",
     "text": [
      "Saved submission with 100 rows to submission_I_RN50_1.csv\n"
     ]
    },
    {
     "data": {
      "text/html": [
       "<div>\n",
       "<style scoped>\n",
       "    .dataframe tbody tr th:only-of-type {\n",
       "        vertical-align: middle;\n",
       "    }\n",
       "\n",
       "    .dataframe tbody tr th {\n",
       "        vertical-align: top;\n",
       "    }\n",
       "\n",
       "    .dataframe thead th {\n",
       "        text-align: right;\n",
       "    }\n",
       "</style>\n",
       "<table border=\"1\" class=\"dataframe\">\n",
       "  <thead>\n",
       "    <tr style=\"text-align: right;\">\n",
       "      <th></th>\n",
       "      <th>isic_id</th>\n",
       "      <th>target</th>\n",
       "    </tr>\n",
       "  </thead>\n",
       "  <tbody>\n",
       "    <tr>\n",
       "      <th>0</th>\n",
       "      <td>ISIC_0082829</td>\n",
       "      <td>0.998039</td>\n",
       "    </tr>\n",
       "    <tr>\n",
       "      <th>1</th>\n",
       "      <td>ISIC_0114227</td>\n",
       "      <td>0.152868</td>\n",
       "    </tr>\n",
       "    <tr>\n",
       "      <th>2</th>\n",
       "      <td>ISIC_0157465</td>\n",
       "      <td>0.033230</td>\n",
       "    </tr>\n",
       "    <tr>\n",
       "      <th>3</th>\n",
       "      <td>ISIC_0197356</td>\n",
       "      <td>0.545594</td>\n",
       "    </tr>\n",
       "    <tr>\n",
       "      <th>4</th>\n",
       "      <td>ISIC_0275647</td>\n",
       "      <td>0.070164</td>\n",
       "    </tr>\n",
       "    <tr>\n",
       "      <th>5</th>\n",
       "      <td>ISIC_0332355</td>\n",
       "      <td>0.804810</td>\n",
       "    </tr>\n",
       "    <tr>\n",
       "      <th>6</th>\n",
       "      <td>ISIC_0528190</td>\n",
       "      <td>0.958261</td>\n",
       "    </tr>\n",
       "    <tr>\n",
       "      <th>7</th>\n",
       "      <td>ISIC_0576478</td>\n",
       "      <td>0.006062</td>\n",
       "    </tr>\n",
       "    <tr>\n",
       "      <th>8</th>\n",
       "      <td>ISIC_0719839</td>\n",
       "      <td>0.985423</td>\n",
       "    </tr>\n",
       "    <tr>\n",
       "      <th>9</th>\n",
       "      <td>ISIC_0968965</td>\n",
       "      <td>0.537542</td>\n",
       "    </tr>\n",
       "  </tbody>\n",
       "</table>\n",
       "</div>"
      ],
      "text/plain": [
       "        isic_id    target\n",
       "0  ISIC_0082829  0.998039\n",
       "1  ISIC_0114227  0.152868\n",
       "2  ISIC_0157465  0.033230\n",
       "3  ISIC_0197356  0.545594\n",
       "4  ISIC_0275647  0.070164\n",
       "5  ISIC_0332355  0.804810\n",
       "6  ISIC_0528190  0.958261\n",
       "7  ISIC_0576478  0.006062\n",
       "8  ISIC_0719839  0.985423\n",
       "9  ISIC_0968965  0.537542"
      ]
     },
     "metadata": {},
     "output_type": "display_data"
    }
   ],
   "source": [
    "model.eval()\n",
    "predictions = []\n",
    "\n",
    "with torch.no_grad():\n",
    "    for images, isic_ids in tqdm(test_loader, desc=\"Inference on Test\"):\n",
    "        images = images.to(device)\n",
    "        logits = model(images).view(-1)  # shape [batch_size]\n",
    "        probs = torch.sigmoid(logits)    # shape [batch_size], in [0,1]\n",
    "        \n",
    "        probs = probs.cpu().numpy()\n",
    "        \n",
    "        for isic_id, p in zip(isic_ids, probs):\n",
    "            predictions.append({\"isic_id\": isic_id, \"target\": float(p)})\n",
    "\n",
    "submission_df = pd.DataFrame(predictions)\n",
    "submission_df = submission_df.sort_values(by=\"isic_id\").reset_index(drop=True)\n",
    "\n",
    "submission_file = \"submission_I_DN121_1.csv\"\n",
    "submission_df.to_csv(submission_file, index=False)\n",
    "\n",
    "print(f\"Saved submission with {len(submission_df)} rows to {submission_file}\")\n",
    "display(submission_df.head(10))"
   ]
  },
  {
   "cell_type": "markdown",
   "metadata": {},
   "source": [
    "## VGG16"
   ]
  },
  {
   "cell_type": "code",
   "execution_count": 31,
   "metadata": {},
   "outputs": [
    {
     "data": {
      "application/vnd.jupyter.widget-view+json": {
       "model_id": "897ae26c0a364d4fb0bdb65c2c186337",
       "version_major": 2,
       "version_minor": 0
      },
      "text/plain": [
       "Epoch 1:   0%|          | 0/18 [00:00<?, ?it/s]"
      ]
     },
     "metadata": {},
     "output_type": "display_data"
    },
    {
     "name": "stdout",
     "output_type": "stream",
     "text": [
      "Epoch 1/15 | Train Loss: 0.7083 | Val Loss: 0.6713 | Val AUC: 0.6721\n",
      "best until now\n"
     ]
    },
    {
     "data": {
      "application/vnd.jupyter.widget-view+json": {
       "model_id": "7eff8592b6cd4a62b4de437e0c46bfe7",
       "version_major": 2,
       "version_minor": 0
      },
      "text/plain": [
       "Epoch 2:   0%|          | 0/18 [00:00<?, ?it/s]"
      ]
     },
     "metadata": {},
     "output_type": "display_data"
    },
    {
     "name": "stdout",
     "output_type": "stream",
     "text": [
      "Epoch 2/15 | Train Loss: 0.6029 | Val Loss: 0.4836 | Val AUC: 0.8422\n",
      "best until now\n"
     ]
    },
    {
     "data": {
      "application/vnd.jupyter.widget-view+json": {
       "model_id": "fcbf0894b93740de99c53cdda9f7e969",
       "version_major": 2,
       "version_minor": 0
      },
      "text/plain": [
       "Epoch 3:   0%|          | 0/18 [00:00<?, ?it/s]"
      ]
     },
     "metadata": {},
     "output_type": "display_data"
    },
    {
     "name": "stdout",
     "output_type": "stream",
     "text": [
      "Epoch 3/15 | Train Loss: 0.6628 | Val Loss: 0.6233 | Val AUC: 0.8314\n"
     ]
    },
    {
     "data": {
      "application/vnd.jupyter.widget-view+json": {
       "model_id": "16fb736ac9814513bec3238859498001",
       "version_major": 2,
       "version_minor": 0
      },
      "text/plain": [
       "Epoch 4:   0%|          | 0/18 [00:00<?, ?it/s]"
      ]
     },
     "metadata": {},
     "output_type": "display_data"
    },
    {
     "name": "stdout",
     "output_type": "stream",
     "text": [
      "Epoch 4/15 | Train Loss: 0.4971 | Val Loss: 0.6182 | Val AUC: 0.8618\n",
      "best until now\n"
     ]
    },
    {
     "data": {
      "application/vnd.jupyter.widget-view+json": {
       "model_id": "85076c645f914cfabece821e54b913fe",
       "version_major": 2,
       "version_minor": 0
      },
      "text/plain": [
       "Epoch 5:   0%|          | 0/18 [00:00<?, ?it/s]"
      ]
     },
     "metadata": {},
     "output_type": "display_data"
    },
    {
     "name": "stdout",
     "output_type": "stream",
     "text": [
      "Epoch 5/15 | Train Loss: 0.4887 | Val Loss: 0.4376 | Val AUC: 0.8840\n",
      "best until now\n"
     ]
    },
    {
     "data": {
      "application/vnd.jupyter.widget-view+json": {
       "model_id": "6bc4ed75eda94bc0a0ed616c37da67bb",
       "version_major": 2,
       "version_minor": 0
      },
      "text/plain": [
       "Epoch 6:   0%|          | 0/18 [00:00<?, ?it/s]"
      ]
     },
     "metadata": {},
     "output_type": "display_data"
    },
    {
     "name": "stdout",
     "output_type": "stream",
     "text": [
      "Epoch 6/15 | Train Loss: 0.4572 | Val Loss: 0.3975 | Val AUC: 0.8840\n"
     ]
    },
    {
     "data": {
      "application/vnd.jupyter.widget-view+json": {
       "model_id": "61a506f36eec4fd09bd26fa5791a7146",
       "version_major": 2,
       "version_minor": 0
      },
      "text/plain": [
       "Epoch 7:   0%|          | 0/18 [00:00<?, ?it/s]"
      ]
     },
     "metadata": {},
     "output_type": "display_data"
    },
    {
     "name": "stdout",
     "output_type": "stream",
     "text": [
      "Epoch 7/15 | Train Loss: 0.5001 | Val Loss: 0.4469 | Val AUC: 0.8559\n"
     ]
    },
    {
     "data": {
      "application/vnd.jupyter.widget-view+json": {
       "model_id": "fb884759fde64148b87909bb481435eb",
       "version_major": 2,
       "version_minor": 0
      },
      "text/plain": [
       "Epoch 8:   0%|          | 0/18 [00:00<?, ?it/s]"
      ]
     },
     "metadata": {},
     "output_type": "display_data"
    },
    {
     "name": "stdout",
     "output_type": "stream",
     "text": [
      "Epoch 8/15 | Train Loss: 0.4102 | Val Loss: 0.4222 | Val AUC: 0.8750\n"
     ]
    },
    {
     "data": {
      "application/vnd.jupyter.widget-view+json": {
       "model_id": "740bb224106f4f56912e39219f6394fa",
       "version_major": 2,
       "version_minor": 0
      },
      "text/plain": [
       "Epoch 9:   0%|          | 0/18 [00:00<?, ?it/s]"
      ]
     },
     "metadata": {},
     "output_type": "display_data"
    },
    {
     "name": "stdout",
     "output_type": "stream",
     "text": [
      "Epoch 9/15 | Train Loss: 0.3807 | Val Loss: 0.4166 | Val AUC: 0.8755\n"
     ]
    },
    {
     "data": {
      "application/vnd.jupyter.widget-view+json": {
       "model_id": "8671de43398c4b26910c222cc597511f",
       "version_major": 2,
       "version_minor": 0
      },
      "text/plain": [
       "Epoch 10:   0%|          | 0/18 [00:00<?, ?it/s]"
      ]
     },
     "metadata": {},
     "output_type": "display_data"
    },
    {
     "name": "stdout",
     "output_type": "stream",
     "text": [
      "Epoch 10/15 | Train Loss: 0.3709 | Val Loss: 0.5137 | Val AUC: 0.9027\n",
      "best until now\n"
     ]
    },
    {
     "data": {
      "application/vnd.jupyter.widget-view+json": {
       "model_id": "aa1dbd99d7d84d9e8f4e0855359d5ab5",
       "version_major": 2,
       "version_minor": 0
      },
      "text/plain": [
       "Epoch 11:   0%|          | 0/18 [00:00<?, ?it/s]"
      ]
     },
     "metadata": {},
     "output_type": "display_data"
    },
    {
     "name": "stdout",
     "output_type": "stream",
     "text": [
      "Epoch 11/15 | Train Loss: 0.3732 | Val Loss: 0.4923 | Val AUC: 0.8810\n"
     ]
    },
    {
     "data": {
      "application/vnd.jupyter.widget-view+json": {
       "model_id": "e2abafb9cb764d77bf6f24f9eba13e57",
       "version_major": 2,
       "version_minor": 0
      },
      "text/plain": [
       "Epoch 12:   0%|          | 0/18 [00:00<?, ?it/s]"
      ]
     },
     "metadata": {},
     "output_type": "display_data"
    },
    {
     "name": "stdout",
     "output_type": "stream",
     "text": [
      "Epoch 12/15 | Train Loss: 0.3102 | Val Loss: 0.4708 | Val AUC: 0.8893\n"
     ]
    },
    {
     "data": {
      "application/vnd.jupyter.widget-view+json": {
       "model_id": "1f4687b0762947a58056af2ea9f1acb2",
       "version_major": 2,
       "version_minor": 0
      },
      "text/plain": [
       "Epoch 13:   0%|          | 0/18 [00:00<?, ?it/s]"
      ]
     },
     "metadata": {},
     "output_type": "display_data"
    },
    {
     "name": "stdout",
     "output_type": "stream",
     "text": [
      "Epoch 13/15 | Train Loss: 0.2747 | Val Loss: 0.4366 | Val AUC: 0.8972\n"
     ]
    },
    {
     "data": {
      "application/vnd.jupyter.widget-view+json": {
       "model_id": "deee7a88c1a54bcfa39e7b157a3d65e1",
       "version_major": 2,
       "version_minor": 0
      },
      "text/plain": [
       "Epoch 14:   0%|          | 0/18 [00:00<?, ?it/s]"
      ]
     },
     "metadata": {},
     "output_type": "display_data"
    },
    {
     "name": "stdout",
     "output_type": "stream",
     "text": [
      "Epoch 14/15 | Train Loss: 0.3125 | Val Loss: 0.3549 | Val AUC: 0.9199\n",
      "best until now\n"
     ]
    },
    {
     "data": {
      "application/vnd.jupyter.widget-view+json": {
       "model_id": "8eec0e1c2c3f48a0a855c98d12b2bc12",
       "version_major": 2,
       "version_minor": 0
      },
      "text/plain": [
       "Epoch 15:   0%|          | 0/18 [00:00<?, ?it/s]"
      ]
     },
     "metadata": {},
     "output_type": "display_data"
    },
    {
     "name": "stdout",
     "output_type": "stream",
     "text": [
      "Epoch 15/15 | Train Loss: 0.2529 | Val Loss: 0.5442 | Val AUC: 0.8910\n",
      "Best model val ROC AUC: 0.9199489035554608\n"
     ]
    }
   ],
   "source": [
    "model = models.vgg16(weights='VGG16_Weights.DEFAULT')\n",
    "\n",
    "# Replace final layer for binary classification\n",
    "model.classifier[6] = nn.Linear(in_features=4096, out_features=1)\n",
    "\n",
    "model = model.to(device)\n",
    "\n",
    "criterion = nn.BCEWithLogitsLoss()\n",
    "optimizer = optim.Adam(model.parameters(), lr=1e-4)\n",
    "\n",
    "EPOCHS = 15\n",
    "\n",
    "# Initialize variables to track the best model\n",
    "best_auc = 0\n",
    "train_losses = []  # To store training losses\n",
    "val_losses = []    # To store validation losses\n",
    "best_model = None  # Variable to store the best model\n",
    "\n",
    "for epoch in range(1, EPOCHS+1):\n",
    "\n",
    "    # -- TRAINING --\n",
    "    model.train()\n",
    "    running_loss = 0.0\n",
    "    \n",
    "    for images, labels, _ in tqdm(train_loader, desc=f\"Epoch {epoch}\", leave=False):\n",
    "        images, labels = images.to(device), labels.to(device)\n",
    "        \n",
    "        optimizer.zero_grad()\n",
    "        logits = model(images).view(-1)  # [batch_size]\n",
    "        \n",
    "        loss = criterion(logits, labels)\n",
    "        loss.backward()\n",
    "        optimizer.step()\n",
    "        \n",
    "        running_loss += loss.item()\n",
    "    \n",
    "    avg_train_loss = running_loss / len(train_loader)\n",
    "    train_losses.append(avg_train_loss)\n",
    "\n",
    "    \n",
    "    # -- VALIDATING --\n",
    "\n",
    "    model.eval()\n",
    "    val_loss = 0.0\n",
    "    all_logits = []\n",
    "    all_labels = []\n",
    "    \n",
    "    with torch.no_grad():\n",
    "        for images, labels, _ in valid_loader:\n",
    "            images, labels = images.to(device), labels.to(device)\n",
    "            logits = model(images).view(-1)\n",
    "            loss = criterion(logits, labels)\n",
    "            val_loss += loss.item()\n",
    "\n",
    "            all_logits.append(logits.cpu())  # Save logits\n",
    "            all_labels.append(labels.cpu())  # Save true labels\n",
    "\n",
    "    \n",
    "    avg_val_loss = val_loss / len(valid_loader)\n",
    "    val_losses.append(avg_val_loss)\n",
    "\n",
    "    # Concatenate all predictions and labels\n",
    "    all_logits = torch.cat(all_logits)\n",
    "    all_labels = torch.cat(all_labels)\n",
    "\n",
    "    # Convert logits to probabilities using sigmoid\n",
    "    probs = torch.sigmoid(all_logits)\n",
    "\n",
    "    # Compute AUC-ROC\n",
    "    auc = roc_auc_score(all_labels.numpy(), probs.numpy())\n",
    "    \n",
    "    print(f\"Epoch {epoch}/{EPOCHS} | Train Loss: {avg_train_loss:.4f} | Val Loss: {avg_val_loss:.4f} | Val AUC: {auc:.4f}\")\n",
    "\n",
    "    # -- Check if this is the best model so far --\n",
    "    if auc > best_auc:\n",
    "        print('best until now')\n",
    "        best_auc = auc\n",
    "        best_model = model.state_dict()  # Save the model's state dict in the variable\n",
    "\n",
    "# If you want to load the best model from the variable:\n",
    "model.load_state_dict(best_model)\n",
    "model = model.to(device)\n",
    "print(f\"Best model val ROC AUC: {best_auc}\")"
   ]
  },
  {
   "cell_type": "code",
   "execution_count": null,
   "metadata": {},
   "outputs": [
    {
     "data": {
      "image/png": "[encoded data removed]",
      "text/plain": [
       "<Figure size 1000x600 with 1 Axes>"
      ]
     },
     "metadata": {},
     "output_type": "display_data"
    }
   ],
   "source": [
    "plt.figure(figsize=(10, 6))\n",
    "plt.plot(range(1, EPOCHS + 1), train_losses, label='Train Loss', color='blue', marker='o')\n",
    "plt.plot(range(1, EPOCHS + 1), val_losses, label='Validation Loss', color='red', marker='o')\n",
    "plt.xlabel('Epochs')\n",
    "plt.ylabel('Loss')\n",
    "plt.title('Training and Validation Losses Over Epochs')\n",
    "plt.legend()\n",
    "plt.grid(True)\n",
    "plt.show()"
   ]
  },
  {
   "cell_type": "code",
   "execution_count": 32,
   "metadata": {},
   "outputs": [
    {
     "data": {
      "application/vnd.jupyter.widget-view+json": {
       "model_id": "6faa85b283204921af50b6883ea8bb2d",
       "version_major": 2,
       "version_minor": 0
      },
      "text/plain": [
       "Inference on Test:   0%|          | 0/4 [00:00<?, ?it/s]"
      ]
     },
     "metadata": {},
     "output_type": "display_data"
    },
    {
     "name": "stdout",
     "output_type": "stream",
     "text": [
      "Saved submission with 100 rows to submission_I_VGG16_2.csv\n"
     ]
    },
    {
     "data": {
      "text/html": [
       "<div>\n",
       "<style scoped>\n",
       "    .dataframe tbody tr th:only-of-type {\n",
       "        vertical-align: middle;\n",
       "    }\n",
       "\n",
       "    .dataframe tbody tr th {\n",
       "        vertical-align: top;\n",
       "    }\n",
       "\n",
       "    .dataframe thead th {\n",
       "        text-align: right;\n",
       "    }\n",
       "</style>\n",
       "<table border=\"1\" class=\"dataframe\">\n",
       "  <thead>\n",
       "    <tr style=\"text-align: right;\">\n",
       "      <th></th>\n",
       "      <th>isic_id</th>\n",
       "      <th>target</th>\n",
       "    </tr>\n",
       "  </thead>\n",
       "  <tbody>\n",
       "    <tr>\n",
       "      <th>0</th>\n",
       "      <td>ISIC_0082829</td>\n",
       "      <td>0.921942</td>\n",
       "    </tr>\n",
       "    <tr>\n",
       "      <th>1</th>\n",
       "      <td>ISIC_0114227</td>\n",
       "      <td>0.592358</td>\n",
       "    </tr>\n",
       "    <tr>\n",
       "      <th>2</th>\n",
       "      <td>ISIC_0157465</td>\n",
       "      <td>0.023342</td>\n",
       "    </tr>\n",
       "    <tr>\n",
       "      <th>3</th>\n",
       "      <td>ISIC_0197356</td>\n",
       "      <td>0.282645</td>\n",
       "    </tr>\n",
       "    <tr>\n",
       "      <th>4</th>\n",
       "      <td>ISIC_0275647</td>\n",
       "      <td>0.007523</td>\n",
       "    </tr>\n",
       "    <tr>\n",
       "      <th>5</th>\n",
       "      <td>ISIC_0332355</td>\n",
       "      <td>0.641593</td>\n",
       "    </tr>\n",
       "    <tr>\n",
       "      <th>6</th>\n",
       "      <td>ISIC_0528190</td>\n",
       "      <td>0.988225</td>\n",
       "    </tr>\n",
       "    <tr>\n",
       "      <th>7</th>\n",
       "      <td>ISIC_0576478</td>\n",
       "      <td>0.031253</td>\n",
       "    </tr>\n",
       "    <tr>\n",
       "      <th>8</th>\n",
       "      <td>ISIC_0719839</td>\n",
       "      <td>0.770008</td>\n",
       "    </tr>\n",
       "    <tr>\n",
       "      <th>9</th>\n",
       "      <td>ISIC_0968965</td>\n",
       "      <td>0.836909</td>\n",
       "    </tr>\n",
       "  </tbody>\n",
       "</table>\n",
       "</div>"
      ],
      "text/plain": [
       "        isic_id    target\n",
       "0  ISIC_0082829  0.921942\n",
       "1  ISIC_0114227  0.592358\n",
       "2  ISIC_0157465  0.023342\n",
       "3  ISIC_0197356  0.282645\n",
       "4  ISIC_0275647  0.007523\n",
       "5  ISIC_0332355  0.641593\n",
       "6  ISIC_0528190  0.988225\n",
       "7  ISIC_0576478  0.031253\n",
       "8  ISIC_0719839  0.770008\n",
       "9  ISIC_0968965  0.836909"
      ]
     },
     "metadata": {},
     "output_type": "display_data"
    }
   ],
   "source": [
    "model.eval()\n",
    "predictions = []\n",
    "\n",
    "with torch.no_grad():\n",
    "    for images, isic_ids in tqdm(test_loader, desc=\"Inference on Test\"):\n",
    "        images = images.to(device)\n",
    "        logits = model(images).view(-1)  # shape [batch_size]\n",
    "        probs = torch.sigmoid(logits)    # shape [batch_size], in [0,1]\n",
    "        \n",
    "        probs = probs.cpu().numpy()\n",
    "        \n",
    "        for isic_id, p in zip(isic_ids, probs):\n",
    "            predictions.append({\"isic_id\": isic_id, \"target\": float(p)})\n",
    "\n",
    "submission_df = pd.DataFrame(predictions)\n",
    "submission_df = submission_df.sort_values(by=\"isic_id\").reset_index(drop=True)\n",
    "\n",
    "submission_file = \"submission_I_VGG16_2.csv\"\n",
    "submission_df.to_csv(submission_file, index=False)\n",
    "\n",
    "print(f\"Saved submission with {len(submission_df)} rows to {submission_file}\")\n",
    "display(submission_df.head(10))"
   ]
  }
 ],
 "metadata": {
  "kernelspec": {
   "display_name": "pytorch-env",
   "language": "python",
   "name": "python3"
  },
  "language_info": {
   "codemirror_mode": {
    "name": "ipython",
    "version": 3
   },
   "file_extension": ".py",
   "mimetype": "text/x-python",
   "name": "python",
   "nbconvert_exporter": "python",
   "pygments_lexer": "ipython3",
   "version": "3.12.2"
  }
 },
 "nbformat": 4,
 "nbformat_minor": 2
}
