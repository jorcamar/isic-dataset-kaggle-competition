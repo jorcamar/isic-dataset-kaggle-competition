{
 "cells": [
  {
   "cell_type": "code",
   "execution_count": 309,
   "metadata": {},
   "outputs": [],
   "source": [
    "METADATA_COL2DESC = {\n",
    "    \"isic_id\": \"Unique identifier for each image case.\",\n",
    "    \"target\": \"Binary class label (0 = benign, 1 = malignant).\",\n",
    "    \"patient_id\": \"Unique identifier for each patient.\",\n",
    "    \"age_approx\": \"Approximate age of the patient at time of imaging.\",\n",
    "    \"sex\": \"Sex of the patient (male or female).\",\n",
    "    \"anatom_site_general\": \"General location of the lesion on the patient's body.\",\n",
    "    \"clin_size_long_diam_mm\": \"Maximum diameter of the lesion (mm).\",\n",
    "    \"image_type\": \"Type of image captured, as defined in the ISIC Archive.\",\n",
    "    \"tbp_tile_type\": \"Lighting modality of the 3D Total Body Photography (TBP) source image.\",\n",
    "    \"tbp_lv_A\": \"Color channel A (green-red axis in LAB space) inside the lesion.\",\n",
    "    \"tbp_lv_Aext\": \"Color channel A outside the lesion.\",\n",
    "    \"tbp_lv_B\": \"Color channel B (blue-yellow axis in LAB space) inside the lesion.\",\n",
    "    \"tbp_lv_Bext\": \"Color channel B outside the lesion.\",\n",
    "    \"tbp_lv_C\": \"Chroma value inside the lesion.\",\n",
    "    \"tbp_lv_Cext\": \"Chroma value outside the lesion.\",\n",
    "    \"tbp_lv_H\": \"Hue value inside the lesion (LAB color space).\",\n",
    "    \"tbp_lv_Hext\": \"Hue value outside the lesion.\",\n",
    "    \"tbp_lv_L\": \"Luminance inside the lesion (LAB color space).\",\n",
    "    \"tbp_lv_Lext\": \"Luminance outside the lesion.\",\n",
    "    \"tbp_lv_areaMM2\": \"Area of the lesion in mm².\",\n",
    "    \"tbp_lv_area_perim_ratio\": \"Ratio of the lesion's perimeter to its area (border jaggedness).\",\n",
    "    \"tbp_lv_color_std_mean\": \"Mean color irregularity within the lesion.\",\n",
    "    \"tbp_lv_deltaA\": \"Average contrast in color channel A between inside and outside.\",\n",
    "    \"tbp_lv_deltaB\": \"Average contrast in color channel B between inside and outside.\",\n",
    "    \"tbp_lv_deltaL\": \"Average contrast in luminance between inside and outside.\",\n",
    "    \"tbp_lv_deltaLB\": \"Combined contrast between the lesion and surrounding skin.\",\n",
    "    \"tbp_lv_deltaLBnorm\": \"Normalized contrast (LAB color space).\",\n",
    "    \"tbp_lv_eccentricity\": \"Eccentricity of the lesion (how elongated it is).\",\n",
    "    \"tbp_lv_location\": \"Detailed anatomical location (e.g., Upper Arm).\",\n",
    "    \"tbp_lv_location_simple\": \"Simplified anatomical location (e.g., Arm).\",\n",
    "    \"tbp_lv_minorAxisMM\": \"Smallest diameter of the lesion in mm.\",\n",
    "    \"tbp_lv_nevi_confidence\": \"Confidence score (0-100) for the lesion being a nevus.\",\n",
    "    \"tbp_lv_norm_border\": \"Normalized border irregularity (0-10 scale).\",\n",
    "    \"tbp_lv_norm_color\": \"Normalized color variation (0-10 scale).\",\n",
    "    \"tbp_lv_perimeterMM\": \"Perimeter of the lesion in mm.\",\n",
    "    \"tbp_lv_radial_color_std_max\": \"Color asymmetry within the lesion, measured radially.\",\n",
    "    \"tbp_lv_stdL\": \"Std. deviation of luminance inside the lesion.\",\n",
    "    \"tbp_lv_stdLExt\": \"Std. deviation of luminance outside the lesion.\",\n",
    "    \"tbp_lv_symm_2axis\": \"Asymmetry about a second axis of symmetry.\",\n",
    "    \"tbp_lv_symm_2axis_angle\": \"Angle of that second axis of symmetry.\",\n",
    "    \"tbp_lv_x\": \"X-coordinate in the 3D TBP model.\",\n",
    "    \"tbp_lv_y\": \"Y-coordinate in the 3D TBP model.\",\n",
    "    \"tbp_lv_z\": \"Z-coordinate in the 3D TBP model.\",\n",
    "    \"attribution\": \"Image source or institution.\",\n",
    "    \"copyright_license\": \"License information.\",\n",
    "    \"lesion_id\": \"Unique ID for lesions of interest.\",\n",
    "    \"iddx_full\": \"Full diagnosis classification.\",\n",
    "    \"iddx_1\": \"First-level (broad) diagnosis.\",\n",
    "    \"iddx_2\": \"Second-level diagnosis.\",\n",
    "    \"iddx_3\": \"Third-level diagnosis.\",\n",
    "    \"iddx_4\": \"Fourth-level diagnosis.\",\n",
    "    \"iddx_5\": \"Fifth-level diagnosis.\",\n",
    "    \"mel_mitotic_index\": \"Mitotic index of invasive malignant melanomas.\",\n",
    "    \"mel_thick_mm\": \"Thickness of melanoma invasion in mm.\",\n",
    "    \"tbp_lv_dnn_lesion_confidence\": \"Lesion confidence score (0-100) from a DNN classifier.\"\n",
    "}\n",
    "\n",
    "METADATA_COL2NAME = {\n",
    "    \"isic_id\": \"Unique Case Identifier\",\n",
    "    \"target\": \"Binary Lesion Classification\",\n",
    "    \"patient_id\": \"Unique Patient Identifier\",\n",
    "    \"age_approx\": \"Approximate Age\",\n",
    "    \"sex\": \"Sex\",\n",
    "    \"anatom_site_general\": \"General Anatomical Location\",\n",
    "    \"clin_size_long_diam_mm\": \"Clinical Size (Longest Diameter in mm)\",\n",
    "    \"image_type\": \"Image Type\",\n",
    "    \"tbp_tile_type\": \"TBP Tile Type\",\n",
    "    \"tbp_lv_A\": \"Color Channel A (Inside)\",\n",
    "    \"tbp_lv_Aext\": \"Color Channel A (Outside)\",\n",
    "    \"tbp_lv_B\": \"Color Channel B (Inside)\",\n",
    "    \"tbp_lv_Bext\": \"Color Channel B (Outside)\",\n",
    "    \"tbp_lv_C\": \"Chroma (Inside)\",\n",
    "    \"tbp_lv_Cext\": \"Chroma (Outside)\",\n",
    "    \"tbp_lv_H\": \"Hue (Inside)\",\n",
    "    \"tbp_lv_Hext\": \"Hue (Outside)\",\n",
    "    \"tbp_lv_L\": \"Luminance (Inside)\",\n",
    "    \"tbp_lv_Lext\": \"Luminance (Outside)\",\n",
    "    \"tbp_lv_areaMM2\": \"Lesion Area (mm²)\",\n",
    "    \"tbp_lv_area_perim_ratio\": \"Area-to-Perimeter Ratio\",\n",
    "    \"tbp_lv_color_std_mean\": \"Mean Color Irregularity\",\n",
    "    \"tbp_lv_deltaA\": \"Delta A\",\n",
    "    \"tbp_lv_deltaB\": \"Delta B\",\n",
    "    \"tbp_lv_deltaL\": \"Delta L\",\n",
    "    \"tbp_lv_deltaLB\": \"Delta LB\",\n",
    "    \"tbp_lv_deltaLBnorm\": \"Normalized Delta LB\",\n",
    "    \"tbp_lv_eccentricity\": \"Eccentricity\",\n",
    "    \"tbp_lv_location\": \"Detailed Location\",\n",
    "    \"tbp_lv_location_simple\": \"Simplified Location\",\n",
    "    \"tbp_lv_minorAxisMM\": \"Smallest Diameter (mm)\",\n",
    "    \"tbp_lv_nevi_confidence\": \"Nevus Confidence Score\",\n",
    "    \"tbp_lv_norm_border\": \"Normalized Border Irregularity\",\n",
    "    \"tbp_lv_norm_color\": \"Normalized Color Variation\",\n",
    "    \"tbp_lv_perimeterMM\": \"Lesion Perimeter (mm)\",\n",
    "    \"tbp_lv_radial_color_std_max\": \"Radial Color Deviation\",\n",
    "    \"tbp_lv_stdL\": \"Std. Dev. Luminance (Inside)\",\n",
    "    \"tbp_lv_stdLExt\": \"Std. Dev. Luminance (Outside)\",\n",
    "    \"tbp_lv_symm_2axis\": \"Symmetry (Second Axis)\",\n",
    "    \"tbp_lv_symm_2axis_angle\": \"Symmetry Angle (Second Axis)\",\n",
    "    \"tbp_lv_x\": \"X-Coordinate\",\n",
    "    \"tbp_lv_y\": \"Y-Coordinate\",\n",
    "    \"tbp_lv_z\": \"Z-Coordinate\",\n",
    "    \"attribution\": \"Image Source\",\n",
    "    \"copyright_license\": \"Copyright\",\n",
    "    \"lesion_id\": \"Unique Lesion ID\",\n",
    "    \"iddx_full\": \"Full Diagnosis\",\n",
    "    \"iddx_1\": \"Diagnosis Level 1\",\n",
    "    \"iddx_2\": \"Diagnosis Level 2\",\n",
    "    \"iddx_3\": \"Diagnosis Level 3\",\n",
    "    \"iddx_4\": \"Diagnosis Level 4\",\n",
    "    \"iddx_5\": \"Diagnosis Level 5\",\n",
    "    \"mel_mitotic_index\": \"Mitotic Index (Melanoma)\",\n",
    "    \"mel_thick_mm\": \"Melanoma Thickness (mm)\",\n",
    "    \"tbp_lv_dnn_lesion_confidence\": \"Lesion DNN Confidence\"\n",
    "}"
   ]
  },
  {
   "cell_type": "code",
   "execution_count": 310,
   "metadata": {},
   "outputs": [],
   "source": [
    "import os\n",
    "import h5py\n",
    "import cv2\n",
    "import numpy as np\n",
    "import pandas as pd\n",
    "import torch\n",
    "import torch.nn as nn\n",
    "import torch.nn.functional as F\n",
    "from torch.utils.data import Dataset, DataLoader, random_split\n",
    "import torchvision.transforms as T\n",
    "import matplotlib.pyplot as plt\n",
    "\n",
    "from torchvision import models\n",
    "from tqdm.auto import tqdm"
   ]
  },
  {
   "cell_type": "code",
   "execution_count": 311,
   "metadata": {},
   "outputs": [
    {
     "name": "stdout",
     "output_type": "stream",
     "text": [
      "Using device: mps\n"
     ]
    }
   ],
   "source": [
    "# If using GPU\n",
    "device = torch.device(\"mps\" if torch.backends.mps.is_available() else \"cpu\")\n",
    "print(\"Using device:\", device)"
   ]
  },
  {
   "cell_type": "markdown",
   "metadata": {},
   "source": [
    "## Custom Dataset for HDF5"
   ]
  },
  {
   "cell_type": "code",
   "execution_count": 312,
   "metadata": {},
   "outputs": [],
   "source": [
    "class ISIC_HDF5_Dataset(Dataset):\n",
    "    \"\"\"\n",
    "    A PyTorch Dataset that loads images from an HDF5 file given a DataFrame of IDs.\n",
    "    Applies image transforms suitable for ResNet50.\n",
    "    \"\"\"\n",
    "    def __init__(self, df: pd.DataFrame, hdf5_path: str, transform=None, is_labelled: bool = True):\n",
    "        \"\"\"\n",
    "        Args:\n",
    "            df (pd.DataFrame): DataFrame containing 'isic_id' and optionally 'target'.\n",
    "            hdf5_path (str): Path to the HDF5 file containing images.\n",
    "            transform (callable): Optional transforms to be applied on a sample.\n",
    "            is_labelled (bool): Whether the dataset includes labels (for train/val).\n",
    "        \"\"\"\n",
    "        self.df = df.reset_index(drop=True)\n",
    "        self.hdf5_path = hdf5_path\n",
    "        self.transform = transform\n",
    "        self.is_labelled = is_labelled\n",
    "\n",
    "    def __len__(self):\n",
    "        return len(self.df)\n",
    "\n",
    "    def __getitem__(self, idx):\n",
    "        row = self.df.iloc[idx]\n",
    "        isic_id = row[\"isic_id\"]\n",
    "        \n",
    "        # Load image from HDF5\n",
    "        image_rgb = self._load_image_from_hdf5(isic_id)\n",
    "        \n",
    "        # Apply transforms (PIL-style transforms require converting np array to PIL, or we can do tensor transforms)\n",
    "        if self.transform is not None:\n",
    "            # Convert NumPy array (H x W x C) to a PIL Image\n",
    "            import torchvision.transforms.functional as F_v\n",
    "            image_pil = F_v.to_pil_image(image_rgb)\n",
    "            image = self.transform(image_pil)\n",
    "        else:\n",
    "            # By default, convert it to a tensor (C x H x W)\n",
    "            image = torch.from_numpy(image_rgb).permute(2, 0, 1).float()\n",
    "\n",
    "        if self.is_labelled:\n",
    "            label = row[\"target\"]\n",
    "            label = torch.tensor(label).float()\n",
    "            return image, label, isic_id\n",
    "        else:\n",
    "            return image, isic_id\n",
    "\n",
    "    def _load_image_from_hdf5(self, isic_id: str):\n",
    "        \"\"\"\n",
    "        Loads and decodes an image from HDF5 by isic_id.\n",
    "        Returns a NumPy array in RGB format (H x W x 3).\n",
    "        \"\"\"\n",
    "        with h5py.File(self.hdf5_path, 'r') as hf:\n",
    "            encoded_bytes = hf[isic_id][()]  # uint8 array\n",
    "\n",
    "        # If it's bytes (not np.ndarray), convert it\n",
    "        if isinstance(encoded_bytes, bytes):\n",
    "            encoded_bytes = np.frombuffer(encoded_bytes, dtype=np.uint8)\n",
    "        elif isinstance(encoded_bytes, np.ndarray) and encoded_bytes.dtype != np.uint8:\n",
    "            encoded_bytes = encoded_bytes.astype(np.uint8)\n",
    "\n",
    "        # Decode the image bytes with OpenCV (returns BGR)\n",
    "        image_bgr = cv2.imdecode(encoded_bytes, cv2.IMREAD_COLOR)\n",
    "        # Convert to RGB\n",
    "        image_rgb = cv2.cvtColor(image_bgr, cv2.COLOR_BGR2RGB)\n",
    "        return image_rgb"
   ]
  },
  {
   "cell_type": "markdown",
   "metadata": {},
   "source": [
    "## Data Setup"
   ]
  },
  {
   "cell_type": "code",
   "execution_count": 313,
   "metadata": {},
   "outputs": [
    {
     "name": "stdout",
     "output_type": "stream",
     "text": [
      "train_df shape: (400959, 55)\n",
      "test_df shape:  (100, 44)\n"
     ]
    },
    {
     "name": "stderr",
     "output_type": "stream",
     "text": [
      "/var/folders/8g/6pyhwxxx6y147q2dm10zjk1w0000gn/T/ipykernel_77868/2683077871.py:6: DtypeWarning: Columns (51,52) have mixed types. Specify dtype option on import or set low_memory=False.\n",
      "  train_df = pd.read_csv(TRAIN_METADATA_CSV)\n"
     ]
    }
   ],
   "source": [
    "TRAIN_METADATA_CSV = \"/Users/jorgecamposmarti/Documents/Máster/4o Semicuatrimestre/3. ML (Machine Learning)/Project 2/data/new-train-metadata.csv\"\n",
    "TEST_METADATA_CSV  = \"/Users/jorgecamposmarti/Documents/Máster/4o Semicuatrimestre/3. ML (Machine Learning)/Project 2/data/students-test-metadata.csv\"\n",
    "TRAIN_HDF5         = \"/Users/jorgecamposmarti/Documents/Máster/4o Semicuatrimestre/3. ML (Machine Learning)/Project 2/data/train-image.hdf5\"\n",
    "TEST_HDF5          = \"/Users/jorgecamposmarti/Documents/Máster/4o Semicuatrimestre/3. ML (Machine Learning)/Project 2/data/test-image.hdf5\"\n",
    "\n",
    "train_df = pd.read_csv(TRAIN_METADATA_CSV)\n",
    "test_df  = pd.read_csv(TEST_METADATA_CSV)\n",
    "\n",
    "print(f\"train_df shape: {train_df.shape}\")\n",
    "print(f\"test_df shape:  {test_df.shape}\")"
   ]
  },
  {
   "cell_type": "code",
   "execution_count": 314,
   "metadata": {},
   "outputs": [
    {
     "name": "stdout",
     "output_type": "stream",
     "text": [
      "iddx_5\n",
      "mel_mitotic_index\n"
     ]
    }
   ],
   "source": [
    "print(train_df.columns[51])\n",
    "print(train_df.columns[52])"
   ]
  },
  {
   "cell_type": "markdown",
   "metadata": {},
   "source": [
    "Different columns between train and test:"
   ]
  },
  {
   "cell_type": "code",
   "execution_count": 315,
   "metadata": {},
   "outputs": [
    {
     "name": "stdout",
     "output_type": "stream",
     "text": [
      "Columns only in train_df: {'iddx_full', 'lesion_id', 'iddx_4', 'mel_mitotic_index', 'tbp_lv_dnn_lesion_confidence', 'mel_thick_mm', 'iddx_2', 'iddx_5', 'iddx_3', 'target', 'iddx_1'}\n",
      "Columns only in test_df: set()\n"
     ]
    }
   ],
   "source": [
    "train_columns = set(train_df.columns)\n",
    "test_columns = set(test_df.columns)\n",
    "\n",
    "only_in_train = train_columns - test_columns\n",
    "only_in_test  = test_columns - train_columns\n",
    "\n",
    "print(\"Columns only in train_df:\", only_in_train)\n",
    "print(\"Columns only in test_df:\", only_in_test)"
   ]
  },
  {
   "cell_type": "markdown",
   "metadata": {},
   "source": [
    "- \"target\": \"Binary class label (0 = benign, 1 = malignant).\",\n",
    "- \"lesion_id\": \"Unique ID for lesions of interest.\",\n",
    "- \"iddx_full\": \"Full diagnosis classification.\",\n",
    "- \"iddx_1\": \"First-level (broad) diagnosis.\",\n",
    "- \"iddx_2\": \"Second-level diagnosis.\",\n",
    "- \"iddx_3\": \"Third-level diagnosis.\",\n",
    "- \"iddx_4\": \"Fourth-level diagnosis.\",\n",
    "- \"iddx_5\": \"Fifth-level diagnosis.\",\n",
    "- \"mel_mitotic_index\": \"Mitotic index of invasive malignant melanomas.\",\n",
    "- \"mel_thick_mm\": \"Thickness of melanoma invasion in mm.\",\n",
    "- \"tbp_lv_dnn_lesion_confidence\": \"Lesion confidence score (0-100) from a DNN classifier.\""
   ]
  },
  {
   "cell_type": "markdown",
   "metadata": {},
   "source": [
    "Class imbalance: undersample class 0 so it has the same number of samples as class 1:"
   ]
  },
  {
   "cell_type": "code",
   "execution_count": 316,
   "metadata": {},
   "outputs": [
    {
     "name": "stdout",
     "output_type": "stream",
     "text": [
      "target\n",
      "0    400616\n",
      "1       343\n",
      "Name: count, dtype: int64\n"
     ]
    }
   ],
   "source": [
    "class_counts = train_df['target'].value_counts()\n",
    "print(class_counts)"
   ]
  },
  {
   "cell_type": "code",
   "execution_count": 317,
   "metadata": {},
   "outputs": [
    {
     "name": "stdout",
     "output_type": "stream",
     "text": [
      "target\n",
      "0    343\n",
      "1    343\n",
      "Name: count, dtype: int64\n"
     ]
    }
   ],
   "source": [
    "# Separate the two classes\n",
    "class_0_df = train_df[train_df['target'] == 0]\n",
    "class_1_df = train_df[train_df['target'] == 1]\n",
    "\n",
    "# Determine how many samples are in the minority class (class 1)\n",
    "n_class_1 = len(class_1_df)\n",
    "\n",
    "# Randomly undersample class 0\n",
    "class_0_undersampled = class_0_df.sample(n=n_class_1, random_state=42)\n",
    "\n",
    "# Concatenate both to get a balanced dataframe\n",
    "train_df = pd.concat([class_0_undersampled, class_1_df]).sample(frac=1, random_state=42).reset_index(drop=True)\n",
    "\n",
    "# Check result\n",
    "print(train_df['target'].value_counts())"
   ]
  },
  {
   "cell_type": "code",
   "execution_count": 318,
   "metadata": {},
   "outputs": [
    {
     "name": "stdout",
     "output_type": "stream",
     "text": [
      "Train samples: 548, Valid samples: 138\n"
     ]
    }
   ],
   "source": [
    "# Example: split train_df into 80% train / 20% valid\n",
    "train_size = int(0.8 * len(train_df))\n",
    "valid_size = len(train_df) - train_size\n",
    "train_subset, valid_subset = random_split(\n",
    "    train_df, \n",
    "    [train_size, valid_size],\n",
    "    generator=torch.Generator().manual_seed(42)\n",
    ")\n",
    "\n",
    "train_df_sub = train_df.iloc[train_subset.indices].reset_index(drop=True)\n",
    "valid_df_sub = train_df.iloc[valid_subset.indices].reset_index(drop=True)\n",
    "\n",
    "print(f\"Train samples: {len(train_df_sub)}, Valid samples: {len(valid_df_sub)}\")"
   ]
  },
  {
   "cell_type": "code",
   "execution_count": 319,
   "metadata": {},
   "outputs": [
    {
     "data": {
      "text/plain": [
       "\"# Separate validation set into class 0 and class 1\\nclass_0 = valid_df_sub[valid_df_sub['target'] == 0]\\nclass_1 = valid_df_sub[valid_df_sub['target'] == 1]\\n\\n# Define the number of samples you want from each class for a balanced subset\\nnum_samples = min(len(class_0), len(class_1))\\n\\n# Sample from both classes\\nclass_0_sample = class_0.sample(num_samples, random_state=42)\\nclass_1_sample = class_1.sample(num_samples, random_state=42)\\n\\n# Combine the balanced samples back into a single DataFrame\\nvalid_df_sub = pd.concat([class_0_sample, class_1_sample])\\n\\n# Now you can reset the index and use this smaller balanced validation set\\nvalid_df_sub = valid_df_sub.reset_index(drop=True)\""
      ]
     },
     "execution_count": 319,
     "metadata": {},
     "output_type": "execute_result"
    }
   ],
   "source": [
    "\"\"\"# Separate validation set into class 0 and class 1\n",
    "class_0 = valid_df_sub[valid_df_sub['target'] == 0]\n",
    "class_1 = valid_df_sub[valid_df_sub['target'] == 1]\n",
    "\n",
    "# Define the number of samples you want from each class for a balanced subset\n",
    "num_samples = min(len(class_0), len(class_1))\n",
    "\n",
    "# Sample from both classes\n",
    "class_0_sample = class_0.sample(num_samples, random_state=42)\n",
    "class_1_sample = class_1.sample(num_samples, random_state=42)\n",
    "\n",
    "# Combine the balanced samples back into a single DataFrame\n",
    "valid_df_sub = pd.concat([class_0_sample, class_1_sample])\n",
    "\n",
    "# Now you can reset the index and use this smaller balanced validation set\n",
    "valid_df_sub = valid_df_sub.reset_index(drop=True)\"\"\""
   ]
  },
  {
   "cell_type": "code",
   "execution_count": 320,
   "metadata": {},
   "outputs": [
    {
     "name": "stdout",
     "output_type": "stream",
     "text": [
      "Created train/valid/test datasets.\n"
     ]
    }
   ],
   "source": [
    "\"\"\"# Basic transforms for ResNet\n",
    "resnet_transforms = T.Compose([\n",
    "    T.Resize((224,224)),\n",
    "    T.ToTensor(),\n",
    "    T.Normalize(mean=[0.485, 0.456, 0.406],\n",
    "                std=[0.229, 0.224, 0.225]),\n",
    "])\"\"\"\n",
    "\n",
    "resnet_transforms = T.Compose([\n",
    "    T.RandomHorizontalFlip(),       # Random each call\n",
    "    T.RandomRotation(15),           # Random each call\n",
    "    T.Resize((224, 224)),\n",
    "    T.ToTensor(),\n",
    "    T.Normalize(mean=[0.485, 0.456, 0.406],\n",
    "                std=[0.229, 0.224, 0.225])\n",
    "])\n",
    "\n",
    "\n",
    "# Create Datasets\n",
    "train_dataset = ISIC_HDF5_Dataset(\n",
    "    df=train_df_sub, \n",
    "    hdf5_path=TRAIN_HDF5,\n",
    "    transform=resnet_transforms,\n",
    "    is_labelled=True\n",
    ")\n",
    "\n",
    "valid_dataset = ISIC_HDF5_Dataset(\n",
    "    df=valid_df_sub,\n",
    "    hdf5_path=TRAIN_HDF5,\n",
    "    transform=resnet_transforms,\n",
    "    is_labelled=True\n",
    ")\n",
    "\n",
    "test_dataset = ISIC_HDF5_Dataset(\n",
    "    df=test_df,\n",
    "    hdf5_path=TEST_HDF5,\n",
    "    transform=resnet_transforms,\n",
    "    is_labelled=False\n",
    ")\n",
    "\n",
    "print(\"Created train/valid/test datasets.\")"
   ]
  },
  {
   "cell_type": "code",
   "execution_count": 321,
   "metadata": {},
   "outputs": [
    {
     "data": {
      "text/plain": [
       "'# -----------------------------\\n# 4. RandomSampler for 1000 Samples per Epoch\\n# -----------------------------\\n# Instead of weighting for class imbalance, we simply draw 1000 random samples each epoch.\\n# Students can discover the imbalance issue themselves!\\n\\nfrom torch.utils.data import RandomSampler\\n\\n# A RandomSampler with replacement=True can pick num_samples=1000 each epoch\\nsampler = RandomSampler(\\n    data_source=train_dataset,\\n    replacement=True,\\n    num_samples=1000\\n)\\n\\nBATCH_SIZE = 8\\n\\ntrain_loader = DataLoader(\\n    train_dataset,\\n    batch_size=BATCH_SIZE,\\n    sampler=sampler,  # No shuffle needed, RandomSampler handles randomness\\n    #num_workers=2\\n)\\n\\nvalid_loader = DataLoader(\\n    valid_dataset,\\n    batch_size=BATCH_SIZE,\\n    shuffle=False,\\n    #num_workers=2\\n)\\n\\ntest_loader = DataLoader(\\n    test_dataset,\\n    batch_size=BATCH_SIZE,\\n    shuffle=False,\\n    #num_workers=2\\n)\\n\\nprint(f\"Train loader: {len(train_loader)} batches (total = 1000 samples / batch_size = {BATCH_SIZE})\")\\nprint(f\"Valid loader: {len(valid_loader)} batches\")\\nprint(f\"Test loader:  {len(test_loader)} batches\")'"
      ]
     },
     "execution_count": 321,
     "metadata": {},
     "output_type": "execute_result"
    }
   ],
   "source": [
    "\"\"\"# -----------------------------\n",
    "# 4. RandomSampler for 1000 Samples per Epoch\n",
    "# -----------------------------\n",
    "# Instead of weighting for class imbalance, we simply draw 1000 random samples each epoch.\n",
    "# Students can discover the imbalance issue themselves!\n",
    "\n",
    "from torch.utils.data import RandomSampler\n",
    "\n",
    "# A RandomSampler with replacement=True can pick num_samples=1000 each epoch\n",
    "sampler = RandomSampler(\n",
    "    data_source=train_dataset,\n",
    "    replacement=True,\n",
    "    num_samples=1000\n",
    ")\n",
    "\n",
    "BATCH_SIZE = 8\n",
    "\n",
    "train_loader = DataLoader(\n",
    "    train_dataset,\n",
    "    batch_size=BATCH_SIZE,\n",
    "    sampler=sampler,  # No shuffle needed, RandomSampler handles randomness\n",
    "    #num_workers=2\n",
    ")\n",
    "\n",
    "valid_loader = DataLoader(\n",
    "    valid_dataset,\n",
    "    batch_size=BATCH_SIZE,\n",
    "    shuffle=False,\n",
    "    #num_workers=2\n",
    ")\n",
    "\n",
    "test_loader = DataLoader(\n",
    "    test_dataset,\n",
    "    batch_size=BATCH_SIZE,\n",
    "    shuffle=False,\n",
    "    #num_workers=2\n",
    ")\n",
    "\n",
    "print(f\"Train loader: {len(train_loader)} batches (total = 1000 samples / batch_size = {BATCH_SIZE})\")\n",
    "print(f\"Valid loader: {len(valid_loader)} batches\")\n",
    "print(f\"Test loader:  {len(test_loader)} batches\")\"\"\""
   ]
  },
  {
   "cell_type": "code",
   "execution_count": 322,
   "metadata": {},
   "outputs": [
    {
     "name": "stdout",
     "output_type": "stream",
     "text": [
      "Train loader: 18 batches\n",
      "Valid loader: 5 batches\n",
      "Test loader:  4 batches\n"
     ]
    }
   ],
   "source": [
    "BATCH_SIZE = 32\n",
    "\n",
    "train_loader = DataLoader(\n",
    "    train_dataset,\n",
    "    batch_size=BATCH_SIZE,\n",
    "    shuffle=True\n",
    ")\n",
    "\n",
    "valid_loader = DataLoader(\n",
    "    valid_dataset,\n",
    "    batch_size=BATCH_SIZE,\n",
    "    shuffle=False\n",
    ")\n",
    "\n",
    "test_loader = DataLoader(\n",
    "    test_dataset,\n",
    "    batch_size=BATCH_SIZE,\n",
    "    shuffle=False\n",
    ")\n",
    "\n",
    "print(f\"Train loader: {len(train_loader)} batches\")\n",
    "print(f\"Valid loader: {len(valid_loader)} batches\")\n",
    "print(f\"Test loader:  {len(test_loader)} batches\")"
   ]
  },
  {
   "cell_type": "code",
   "execution_count": 323,
   "metadata": {},
   "outputs": [
    {
     "data": {
      "text/plain": [
       "\"from torch.utils.data import WeightedRandomSampler\\n\\nBATCH_SIZE = 8\\n\\n# Count classes\\nclass_counts = train_df['target'].value_counts().to_dict()\\nweights = [1.0 / class_counts[label] for label in train_df_sub['target']]\\n\\n# Create the sampler\\nsampler = WeightedRandomSampler(weights, num_samples=1000)\\n\\ntrain_loader = DataLoader(\\n    train_dataset,\\n    batch_size=BATCH_SIZE,\\n    sampler=sampler\\n)\\n\\nvalid_loader = DataLoader(\\n    valid_dataset,\\n    batch_size=BATCH_SIZE,\\n    shuffle=False\\n)\\n\\ntest_loader = DataLoader(\\n    test_dataset,\\n    batch_size=BATCH_SIZE,\\n    shuffle=False\\n)\""
      ]
     },
     "execution_count": 323,
     "metadata": {},
     "output_type": "execute_result"
    }
   ],
   "source": [
    "\"\"\"from torch.utils.data import WeightedRandomSampler\n",
    "\n",
    "BATCH_SIZE = 8\n",
    "\n",
    "# Count classes\n",
    "class_counts = train_df['target'].value_counts().to_dict()\n",
    "weights = [1.0 / class_counts[label] for label in train_df_sub['target']]\n",
    "\n",
    "# Create the sampler\n",
    "sampler = WeightedRandomSampler(weights, num_samples=1000)\n",
    "\n",
    "train_loader = DataLoader(\n",
    "    train_dataset,\n",
    "    batch_size=BATCH_SIZE,\n",
    "    sampler=sampler\n",
    ")\n",
    "\n",
    "valid_loader = DataLoader(\n",
    "    valid_dataset,\n",
    "    batch_size=BATCH_SIZE,\n",
    "    shuffle=False\n",
    ")\n",
    "\n",
    "test_loader = DataLoader(\n",
    "    test_dataset,\n",
    "    batch_size=BATCH_SIZE,\n",
    "    shuffle=False\n",
    ")\"\"\""
   ]
  },
  {
   "cell_type": "code",
   "execution_count": 324,
   "metadata": {},
   "outputs": [],
   "source": [
    "# -----------------------------\n",
    "# 5. Load & Modify ResNet50 for Binary Classification\n",
    "# -----------------------------\n",
    "import torch.optim as optim\n",
    "from torchvision import models\n",
    "\n",
    "model = models.resnet50(weights='ResNet50_Weights.DEFAULT')\n",
    "\n",
    "# Replace final layer for binary classification\n",
    "model.fc = nn.Linear(in_features=2048, out_features=1)\n",
    "\n",
    "model = model.to(device)\n",
    "\n",
    "criterion = nn.BCEWithLogitsLoss()\n",
    "optimizer = optim.Adam(model.parameters(), lr=1e-4)"
   ]
  },
  {
   "cell_type": "code",
   "execution_count": 325,
   "metadata": {},
   "outputs": [
    {
     "data": {
      "application/vnd.jupyter.widget-view+json": {
       "model_id": "02a93dad414f4ad28de7c4614e98a4ad",
       "version_major": 2,
       "version_minor": 0
      },
      "text/plain": [
       "Epoch 1:   0%|          | 0/18 [00:00<?, ?it/s]"
      ]
     },
     "metadata": {},
     "output_type": "display_data"
    },
    {
     "name": "stdout",
     "output_type": "stream",
     "text": [
      "Epoch 1/10 | Train Loss: 0.6520 | Val Loss: 0.5954\n",
      "Validation loss decreased (inf -> 0.5954). Saving model...\n"
     ]
    },
    {
     "data": {
      "application/vnd.jupyter.widget-view+json": {
       "model_id": "1ac62d05818d4d9e87e79b63c2d06c48",
       "version_major": 2,
       "version_minor": 0
      },
      "text/plain": [
       "Epoch 2:   0%|          | 0/18 [00:00<?, ?it/s]"
      ]
     },
     "metadata": {},
     "output_type": "display_data"
    },
    {
     "name": "stdout",
     "output_type": "stream",
     "text": [
      "Epoch 2/10 | Train Loss: 0.4889 | Val Loss: 0.4228\n",
      "Validation loss decreased (0.5954 -> 0.4228). Saving model...\n"
     ]
    },
    {
     "data": {
      "application/vnd.jupyter.widget-view+json": {
       "model_id": "fdb8f9b838244884a91b10b40453733a",
       "version_major": 2,
       "version_minor": 0
      },
      "text/plain": [
       "Epoch 3:   0%|          | 0/18 [00:00<?, ?it/s]"
      ]
     },
     "metadata": {},
     "output_type": "display_data"
    },
    {
     "name": "stdout",
     "output_type": "stream",
     "text": [
      "Epoch 3/10 | Train Loss: 0.3825 | Val Loss: 0.4479\n"
     ]
    },
    {
     "data": {
      "application/vnd.jupyter.widget-view+json": {
       "model_id": "562e0f7207784106b3ad60005e02a313",
       "version_major": 2,
       "version_minor": 0
      },
      "text/plain": [
       "Epoch 4:   0%|          | 0/18 [00:00<?, ?it/s]"
      ]
     },
     "metadata": {},
     "output_type": "display_data"
    },
    {
     "name": "stdout",
     "output_type": "stream",
     "text": [
      "Epoch 4/10 | Train Loss: 0.2934 | Val Loss: 0.3892\n",
      "Validation loss decreased (0.4228 -> 0.3892). Saving model...\n"
     ]
    },
    {
     "data": {
      "application/vnd.jupyter.widget-view+json": {
       "model_id": "9167b3b05a9643bab1c1268b12fafaff",
       "version_major": 2,
       "version_minor": 0
      },
      "text/plain": [
       "Epoch 5:   0%|          | 0/18 [00:00<?, ?it/s]"
      ]
     },
     "metadata": {},
     "output_type": "display_data"
    },
    {
     "name": "stdout",
     "output_type": "stream",
     "text": [
      "Epoch 5/10 | Train Loss: 0.2171 | Val Loss: 0.4763\n"
     ]
    },
    {
     "data": {
      "application/vnd.jupyter.widget-view+json": {
       "model_id": "36200c6334fa488b9a757ce9d0bdb308",
       "version_major": 2,
       "version_minor": 0
      },
      "text/plain": [
       "Epoch 6:   0%|          | 0/18 [00:00<?, ?it/s]"
      ]
     },
     "metadata": {},
     "output_type": "display_data"
    },
    {
     "name": "stdout",
     "output_type": "stream",
     "text": [
      "Epoch 6/10 | Train Loss: 0.1499 | Val Loss: 0.4450\n"
     ]
    },
    {
     "data": {
      "application/vnd.jupyter.widget-view+json": {
       "model_id": "6cc85c3c444b4b1eb3b9790227f7238b",
       "version_major": 2,
       "version_minor": 0
      },
      "text/plain": [
       "Epoch 7:   0%|          | 0/18 [00:00<?, ?it/s]"
      ]
     },
     "metadata": {},
     "output_type": "display_data"
    },
    {
     "name": "stdout",
     "output_type": "stream",
     "text": [
      "Epoch 7/10 | Train Loss: 0.2301 | Val Loss: 0.4670\n"
     ]
    },
    {
     "data": {
      "application/vnd.jupyter.widget-view+json": {
       "model_id": "69e36203aea7416f8ee48818f3c3ef10",
       "version_major": 2,
       "version_minor": 0
      },
      "text/plain": [
       "Epoch 8:   0%|          | 0/18 [00:00<?, ?it/s]"
      ]
     },
     "metadata": {},
     "output_type": "display_data"
    },
    {
     "name": "stdout",
     "output_type": "stream",
     "text": [
      "Epoch 8/10 | Train Loss: 0.2006 | Val Loss: 0.3748\n",
      "Validation loss decreased (0.3892 -> 0.3748). Saving model...\n"
     ]
    },
    {
     "data": {
      "application/vnd.jupyter.widget-view+json": {
       "model_id": "0d6b4f9980f94e7fb435e10ec3c586b8",
       "version_major": 2,
       "version_minor": 0
      },
      "text/plain": [
       "Epoch 9:   0%|          | 0/18 [00:00<?, ?it/s]"
      ]
     },
     "metadata": {},
     "output_type": "display_data"
    },
    {
     "name": "stdout",
     "output_type": "stream",
     "text": [
      "Epoch 9/10 | Train Loss: 0.1698 | Val Loss: 0.3499\n",
      "Validation loss decreased (0.3748 -> 0.3499). Saving model...\n"
     ]
    },
    {
     "data": {
      "application/vnd.jupyter.widget-view+json": {
       "model_id": "348a6813ab7d4557a0f1e2a97e9d81fa",
       "version_major": 2,
       "version_minor": 0
      },
      "text/plain": [
       "Epoch 10:   0%|          | 0/18 [00:00<?, ?it/s]"
      ]
     },
     "metadata": {},
     "output_type": "display_data"
    },
    {
     "name": "stdout",
     "output_type": "stream",
     "text": [
      "Epoch 10/10 | Train Loss: 0.1032 | Val Loss: 0.4347\n",
      "Best model loaded.\n"
     ]
    }
   ],
   "source": [
    "# -----------------------------\n",
    "# 6. Training Loop\n",
    "# -----------------------------\n",
    "\n",
    "EPOCHS = 10\n",
    "\n",
    "# Initialize variables to track the best model\n",
    "best_val_loss = float('inf')  # Start with a very large number\n",
    "train_losses = []  # To store training losses\n",
    "val_losses = []    # To store validation losses\n",
    "best_model = None  # Variable to store the best model\n",
    "\n",
    "for epoch in range(1, EPOCHS+1):\n",
    "\n",
    "    # -- TRAINING --\n",
    "    model.train()\n",
    "    running_loss = 0.0\n",
    "    \n",
    "    for images, labels, _ in tqdm(train_loader, desc=f\"Epoch {epoch}\", leave=False):\n",
    "        images, labels = images.to(device), labels.to(device)\n",
    "        \n",
    "        optimizer.zero_grad()\n",
    "        logits = model(images).view(-1)  # [batch_size]\n",
    "        \n",
    "        loss = criterion(logits, labels)\n",
    "        loss.backward()\n",
    "        optimizer.step()\n",
    "        \n",
    "        running_loss += loss.item()\n",
    "    \n",
    "    avg_train_loss = running_loss / len(train_loader)\n",
    "    train_losses.append(avg_train_loss)\n",
    "\n",
    "    \n",
    "    # -- VALIDATING --\n",
    "\n",
    "    model.eval()\n",
    "    val_loss = 0.0\n",
    "    \n",
    "    with torch.no_grad():\n",
    "        for images, labels, _ in valid_loader:\n",
    "            images, labels = images.to(device), labels.to(device)\n",
    "            logits = model(images).view(-1)\n",
    "            loss = criterion(logits, labels)\n",
    "            val_loss += loss.item()\n",
    "    \n",
    "    avg_val_loss = val_loss / len(valid_loader)\n",
    "    val_losses.append(avg_val_loss)\n",
    "    \n",
    "    print(f\"Epoch {epoch}/{EPOCHS} | Train Loss: {avg_train_loss:.4f} | Val Loss: {avg_val_loss:.4f}\")\n",
    "\n",
    "    # -- Check if this is the best model so far --\n",
    "    if avg_val_loss < best_val_loss:\n",
    "        #print(f\"Validation loss decreased ({best_val_loss:.4f} -> {avg_val_loss:.4f}). Saving model...\")\n",
    "        best_val_loss = avg_val_loss\n",
    "        best_model = model.state_dict()  # Save the model's state dict in the variable\n",
    "\n",
    "# If you want to load the best model from the variable:\n",
    "model.load_state_dict(best_model)\n",
    "model = model.to(device)\n",
    "#print(\"Best model loaded.\")"
   ]
  },
  {
   "cell_type": "code",
   "execution_count": 327,
   "metadata": {},
   "outputs": [
    {
     "data": {
      "image/png": "[encoded data removed]",
      "text/plain": [
       "<Figure size 1000x600 with 1 Axes>"
      ]
     },
     "metadata": {},
     "output_type": "display_data"
    }
   ],
   "source": [
    "plt.figure(figsize=(10, 6))\n",
    "plt.plot(range(1, EPOCHS + 1), train_losses, label='Train Loss', color='blue', marker='o')\n",
    "plt.plot(range(1, EPOCHS + 1), val_losses, label='Validation Loss', color='red', marker='o')\n",
    "plt.xlabel('Epochs')\n",
    "plt.ylabel('Loss')\n",
    "plt.title('Training and Validation Losses Over Epochs')\n",
    "plt.legend()\n",
    "plt.grid(True)\n",
    "plt.show()"
   ]
  },
  {
   "cell_type": "code",
   "execution_count": 328,
   "metadata": {},
   "outputs": [
    {
     "data": {
      "application/vnd.jupyter.widget-view+json": {
       "model_id": "abf647bd7d714355aca35a23568c11c9",
       "version_major": 2,
       "version_minor": 0
      },
      "text/plain": [
       "Inference on Test:   0%|          | 0/4 [00:00<?, ?it/s]"
      ]
     },
     "metadata": {},
     "output_type": "display_data"
    },
    {
     "name": "stdout",
     "output_type": "stream",
     "text": [
      "Saved submission with 100 rows to submission.csv\n"
     ]
    },
    {
     "data": {
      "text/html": [
       "<div>\n",
       "<style scoped>\n",
       "    .dataframe tbody tr th:only-of-type {\n",
       "        vertical-align: middle;\n",
       "    }\n",
       "\n",
       "    .dataframe tbody tr th {\n",
       "        vertical-align: top;\n",
       "    }\n",
       "\n",
       "    .dataframe thead th {\n",
       "        text-align: right;\n",
       "    }\n",
       "</style>\n",
       "<table border=\"1\" class=\"dataframe\">\n",
       "  <thead>\n",
       "    <tr style=\"text-align: right;\">\n",
       "      <th></th>\n",
       "      <th>isic_id</th>\n",
       "      <th>target</th>\n",
       "    </tr>\n",
       "  </thead>\n",
       "  <tbody>\n",
       "    <tr>\n",
       "      <th>0</th>\n",
       "      <td>ISIC_0082829</td>\n",
       "      <td>0.999643</td>\n",
       "    </tr>\n",
       "    <tr>\n",
       "      <th>1</th>\n",
       "      <td>ISIC_0114227</td>\n",
       "      <td>0.251072</td>\n",
       "    </tr>\n",
       "    <tr>\n",
       "      <th>2</th>\n",
       "      <td>ISIC_0157465</td>\n",
       "      <td>0.042413</td>\n",
       "    </tr>\n",
       "    <tr>\n",
       "      <th>3</th>\n",
       "      <td>ISIC_0197356</td>\n",
       "      <td>0.109820</td>\n",
       "    </tr>\n",
       "    <tr>\n",
       "      <th>4</th>\n",
       "      <td>ISIC_0275647</td>\n",
       "      <td>0.544834</td>\n",
       "    </tr>\n",
       "    <tr>\n",
       "      <th>5</th>\n",
       "      <td>ISIC_0332355</td>\n",
       "      <td>0.672832</td>\n",
       "    </tr>\n",
       "    <tr>\n",
       "      <th>6</th>\n",
       "      <td>ISIC_0528190</td>\n",
       "      <td>0.999145</td>\n",
       "    </tr>\n",
       "    <tr>\n",
       "      <th>7</th>\n",
       "      <td>ISIC_0576478</td>\n",
       "      <td>0.048772</td>\n",
       "    </tr>\n",
       "    <tr>\n",
       "      <th>8</th>\n",
       "      <td>ISIC_0719839</td>\n",
       "      <td>0.999496</td>\n",
       "    </tr>\n",
       "    <tr>\n",
       "      <th>9</th>\n",
       "      <td>ISIC_0968965</td>\n",
       "      <td>0.301340</td>\n",
       "    </tr>\n",
       "  </tbody>\n",
       "</table>\n",
       "</div>"
      ],
      "text/plain": [
       "        isic_id    target\n",
       "0  ISIC_0082829  0.999643\n",
       "1  ISIC_0114227  0.251072\n",
       "2  ISIC_0157465  0.042413\n",
       "3  ISIC_0197356  0.109820\n",
       "4  ISIC_0275647  0.544834\n",
       "5  ISIC_0332355  0.672832\n",
       "6  ISIC_0528190  0.999145\n",
       "7  ISIC_0576478  0.048772\n",
       "8  ISIC_0719839  0.999496\n",
       "9  ISIC_0968965  0.301340"
      ]
     },
     "metadata": {},
     "output_type": "display_data"
    }
   ],
   "source": [
    "# -----------------------------\n",
    "# 7. Inference on Test Set & Submission\n",
    "# -----------------------------\n",
    "model.eval()\n",
    "predictions = []\n",
    "\n",
    "with torch.no_grad():\n",
    "    for images, isic_ids in tqdm(test_loader, desc=\"Inference on Test\"):\n",
    "        images = images.to(device)\n",
    "        logits = model(images).view(-1)  # shape [batch_size]\n",
    "        probs = torch.sigmoid(logits)    # shape [batch_size], in [0,1]\n",
    "        \n",
    "        probs = probs.cpu().numpy()\n",
    "        \n",
    "        for isic_id, p in zip(isic_ids, probs):\n",
    "            predictions.append({\"isic_id\": isic_id, \"target\": float(p)})\n",
    "\n",
    "submission_df = pd.DataFrame(predictions)\n",
    "submission_df = submission_df.sort_values(by=\"isic_id\").reset_index(drop=True)\n",
    "\n",
    "submission_file = \"submission.csv\"\n",
    "submission_df.to_csv(submission_file, index=False)\n",
    "\n",
    "print(f\"Saved submission with {len(submission_df)} rows to {submission_file}\")\n",
    "display(submission_df.head(10))\n"
   ]
  }
 ],
 "metadata": {
  "kernelspec": {
   "display_name": "pytorch-env",
   "language": "python",
   "name": "python3"
  },
  "language_info": {
   "codemirror_mode": {
    "name": "ipython",
    "version": 3
   },
   "file_extension": ".py",
   "mimetype": "text/x-python",
   "name": "python",
   "nbconvert_exporter": "python",
   "pygments_lexer": "ipython3",
   "version": "3.12.2"
  }
 },
 "nbformat": 4,
 "nbformat_minor": 2
}
