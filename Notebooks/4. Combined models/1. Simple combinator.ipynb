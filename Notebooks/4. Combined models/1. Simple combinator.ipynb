{
 "cells": [
  {
   "cell_type": "markdown",
   "id": "8f329949",
   "metadata": {},
   "source": [
    "## 2 submissions"
   ]
  },
  {
   "cell_type": "code",
   "execution_count": 12,
   "id": "323bd2bb",
   "metadata": {},
   "outputs": [],
   "source": [
    "import pandas as pd\n",
    "\n",
    "path1 = '/Users/jorgecamposmarti/Documents/Máster/4o Semicuatrimestre/3. ML (Machine Learning)/Project 2/My Notebooks/1. Learning/submission.csv'\n",
    "path2 = '/Users/jorgecamposmarti/Documents/Máster/4o Semicuatrimestre/3. ML (Machine Learning)/Project 2/My Notebooks/4. Combined models/submission_M_XG_x10_woDNN.csv'\n",
    "\n",
    "df1 = pd.read_csv(path1)\n",
    "df2 = pd.read_csv(path2)\n",
    "\n",
    "# Merge the submissions on isic_id\n",
    "merged = pd.merge(df1, df2, on=\"isic_id\", suffixes=('_1', '_2'))"
   ]
  },
  {
   "cell_type": "markdown",
   "id": "be22bf4d",
   "metadata": {},
   "source": [
    "### Mean"
   ]
  },
  {
   "cell_type": "code",
   "execution_count": null,
   "id": "bdccaa33",
   "metadata": {},
   "outputs": [],
   "source": [
    "# Compute the mean of the two target columns\n",
    "merged['target'] = merged[['target_1', 'target_2']].mean(axis=1)\n",
    "\n",
    "# Keep only the required columns\n",
    "result = merged[['isic_id', 'target']]\n",
    "\n",
    "# Save to a new CSV\n",
    "result.to_csv(\"submission_I_submission_M_XG_x10_woDNN.csv\", index=False)"
   ]
  },
  {
   "cell_type": "markdown",
   "id": "d7c32f83",
   "metadata": {},
   "source": [
    "### Highest confidence"
   ]
  },
  {
   "cell_type": "code",
   "execution_count": 13,
   "id": "e65eeb19",
   "metadata": {},
   "outputs": [],
   "source": [
    "# Choose the prediction with stronger confidence (closer to 0 or 1)\n",
    "merged['target'] = merged.apply(\n",
    "    lambda row: row['target_1'] if abs(row['target_1'] - 0.5) > abs(row['target_2'] - 0.5) else row['target_2'],\n",
    "    axis=1\n",
    ")\n",
    "\n",
    "# Keep only required columns\n",
    "result = merged[['isic_id', 'target']]\n",
    "\n",
    "# Save the result\n",
    "result.to_csv(\"submission_I_submission_M_XG_x10_confselect.csv\", index=False)"
   ]
  },
  {
   "cell_type": "markdown",
   "id": "be4aa899",
   "metadata": {},
   "source": [
    "## 3 submissions"
   ]
  },
  {
   "cell_type": "code",
   "execution_count": 14,
   "id": "0b0f6472",
   "metadata": {},
   "outputs": [],
   "source": [
    "import pandas as pd\n",
    "\n",
    "# Load the three submissions\n",
    "path1 = '/Users/jorgecamposmarti/Documents/Máster/4o Semicuatrimestre/3. ML (Machine Learning)/Project 2/My Notebooks/1. Learning/submission.csv'\n",
    "path2 = '/Users/jorgecamposmarti/Documents/Máster/4o Semicuatrimestre/3. ML (Machine Learning)/Project 2/My Notebooks/4. Combined models/submission_M_XG_x10_woDNN.csv'\n",
    "path3 = '/Users/jorgecamposmarti/Documents/Máster/4o Semicuatrimestre/3. ML (Machine Learning)/Project 2/My Notebooks/4. Combined models/submission_M_RF_x10_woDNN.csv'\n",
    "\n",
    "df1 = pd.read_csv(path1)\n",
    "df2 = pd.read_csv(path2)\n",
    "df3 = pd.read_csv(path3)\n",
    "\n",
    "# Merge the three submissions on isic_id\n",
    "merged = df1.merge(df2, on=\"isic_id\", suffixes=('_1', '_2'))\n",
    "merged = merged.merge(df3, on=\"isic_id\")\n",
    "merged.rename(columns={\"target\": \"target_3\"}, inplace=True)"
   ]
  },
  {
   "cell_type": "code",
   "execution_count": 15,
   "id": "90797d25",
   "metadata": {},
   "outputs": [],
   "source": [
    "# Select the most confident prediction (closest to 0 or 1)\n",
    "def select_most_confident(row):\n",
    "    preds = [row['target_1'], row['target_2'], row['target_3']]\n",
    "    confidences = [abs(p - 0.5) for p in preds]\n",
    "    return preds[confidences.index(max(confidences))]\n",
    "\n",
    "merged['target'] = merged.apply(select_most_confident, axis=1)\n",
    "\n",
    "# Keep only required columns\n",
    "result = merged[['isic_id', 'target']]\n",
    "\n",
    "# Save the result\n",
    "result.to_csv(\"submission_I_submission_M_XG_x10_I_submission_M_RF_x10_woDNN_confselect.csv\", index=False)"
   ]
  },
  {
   "cell_type": "markdown",
   "id": "7831b213",
   "metadata": {},
   "source": [
    "## 4 submissions"
   ]
  },
  {
   "cell_type": "code",
   "execution_count": 16,
   "id": "cf17d447",
   "metadata": {},
   "outputs": [],
   "source": [
    "import pandas as pd\n",
    "\n",
    "# Load the three submissions\n",
    "path1 = '/Users/jorgecamposmarti/Documents/Máster/4o Semicuatrimestre/3. ML (Machine Learning)/Project 2/My Notebooks/1. Learning/submission.csv'\n",
    "path2 = '/Users/jorgecamposmarti/Documents/Máster/4o Semicuatrimestre/3. ML (Machine Learning)/Project 2/My Notebooks/4. Combined models/submission_M_XG_x10_woDNN.csv'\n",
    "path3 = '/Users/jorgecamposmarti/Documents/Máster/4o Semicuatrimestre/3. ML (Machine Learning)/Project 2/My Notebooks/4. Combined models/submission_M_RF_x10_woDNN.csv'\n",
    "path4 = '/Users/jorgecamposmarti/Documents/Máster/4o Semicuatrimestre/3. ML (Machine Learning)/Project 2/My Notebooks/2. Image models/submission_I_TunRN50_WRS1000.csv'\n",
    "\n",
    "df1 = pd.read_csv(path1)\n",
    "df2 = pd.read_csv(path2)\n",
    "df3 = pd.read_csv(path3)\n",
    "df4 = pd.read_csv(path4)\n",
    "\n",
    "# Merge all submissions on isic_id\n",
    "merged = df1.merge(df2, on=\"isic_id\", suffixes=('_1', '_2'))\n",
    "merged = merged.merge(df3, on=\"isic_id\")\n",
    "merged.rename(columns={\"target\": \"target_3\"}, inplace=True)\n",
    "merged = merged.merge(df4, on=\"isic_id\")\n",
    "merged.rename(columns={\"target\": \"target_4\"}, inplace=True)"
   ]
  },
  {
   "cell_type": "code",
   "execution_count": 17,
   "id": "cc0b6e9a",
   "metadata": {},
   "outputs": [],
   "source": [
    "# Select the most confident prediction (closest to 0 or 1)\n",
    "def select_most_confident(row):\n",
    "    preds = [row['target_1'], row['target_2'], row['target_3'], row['target_4']]\n",
    "    confidences = [abs(p - 0.5) for p in preds]\n",
    "    return preds[confidences.index(max(confidences))]\n",
    "\n",
    "merged['target'] = merged.apply(select_most_confident, axis=1)\n",
    "\n",
    "# Keep only required columns\n",
    "result = merged[['isic_id', 'target']]\n",
    "\n",
    "# Save the result\n",
    "result.to_csv(\"submission_comb4_1.csv\", index=False)"
   ]
  },
  {
   "cell_type": "markdown",
   "id": "4d96790f",
   "metadata": {},
   "source": [
    "## N submissions"
   ]
  },
  {
   "cell_type": "code",
   "execution_count": null,
   "id": "d946e669",
   "metadata": {},
   "outputs": [],
   "source": [
    "import pandas as pd\n",
    "\n",
    "def confidence_voting(paths, output_path=\"submission_confidence_voting.csv\"):\n",
    "    \"\"\"\n",
    "    Merges multiple prediction CSVs on 'isic_id' and selects the most confident prediction\n",
    "    (closest to 0 or 1) for each row.\n",
    "\n",
    "    Parameters:\n",
    "        paths (list of str): List of file paths to CSVs containing 'isic_id' and 'target' columns.\n",
    "        output_path (str): Path to save the final submission CSV.\n",
    "    \"\"\"\n",
    "    if len(paths) < 2:\n",
    "        raise ValueError(\"At least two file paths must be provided.\")\n",
    "\n",
    "    # Load and merge all dataframes on 'isic_id'\n",
    "    dfs = []\n",
    "    for i, path in enumerate(paths):\n",
    "        df = pd.read_csv(path).copy()\n",
    "        df.rename(columns={'target': f'target_{i+1}'}, inplace=True)\n",
    "        dfs.append(df)\n",
    "\n",
    "    # Merge all on 'isic_id'\n",
    "    merged = dfs[0]\n",
    "    for df in dfs[1:]:\n",
    "        merged = pd.merge(merged, df, on='isic_id')\n",
    "\n",
    "    # Select the most confident prediction per row\n",
    "    target_cols = [f'target_{i+1}' for i in range(len(paths))]\n",
    "    merged['target'] = merged[target_cols].apply(\n",
    "        lambda row: row.loc[row.sub(0.5).abs().idxmax()], axis=1\n",
    "    )\n",
    "\n",
    "    # Output result\n",
    "    result = merged[['isic_id', 'target']]\n",
    "    result.to_csv(output_path, index=False)\n",
    "    print(f\"Saved most confident prediction to: {output_path}\")\n"
   ]
  },
  {
   "cell_type": "code",
   "execution_count": 21,
   "id": "a73c2529",
   "metadata": {},
   "outputs": [
    {
     "name": "stdout",
     "output_type": "stream",
     "text": [
      "Saved most confident prediction to: submission_8_models_confident_2.csv\n"
     ]
    }
   ],
   "source": [
    "paths = [\n",
    "    '/Users/jorgecamposmarti/Documents/Máster/4o Semicuatrimestre/3. ML (Machine Learning)/Project 2/My Notebooks/1. Learning/submission.csv',\n",
    "    '/Users/jorgecamposmarti/Documents/Máster/4o Semicuatrimestre/3. ML (Machine Learning)/Project 2/My Notebooks/4. Combined models/submission_M_XG_x10_woDNN.csv',\n",
    "    '/Users/jorgecamposmarti/Documents/Máster/4o Semicuatrimestre/3. ML (Machine Learning)/Project 2/My Notebooks/4. Combined models/submission_M_XG_1.csv',\n",
    "    '/Users/jorgecamposmarti/Documents/Máster/4o Semicuatrimestre/3. ML (Machine Learning)/Project 2/My Notebooks/4. Combined models/submission_M_RF_x10_woDNN.csv',\n",
    "    '/Users/jorgecamposmarti/Documents/Máster/4o Semicuatrimestre/3. ML (Machine Learning)/Project 2/My Notebooks/4. Combined models/submission_M_RF_1.csv',\n",
    "    '/Users/jorgecamposmarti/Documents/Máster/4o Semicuatrimestre/3. ML (Machine Learning)/Project 2/My Notebooks/2. Image models/submission_I_TunRN50_WRS1000.csv',\n",
    "    '/Users/jorgecamposmarti/Documents/Máster/4o Semicuatrimestre/3. ML (Machine Learning)/Project 2/My Notebooks/2. Image models/submission_I_VGG16_2.csv',\n",
    "    '/Users/jorgecamposmarti/Documents/Máster/4o Semicuatrimestre/3. ML (Machine Learning)/Project 2/My Notebooks/2. Image models/submission_I_RN50_1.csv',\n",
    "    '/Users/jorgecamposmarti/Documents/Máster/4o Semicuatrimestre/3. ML (Machine Learning)/Project 2/My Notebooks/4. Combined models/submission_M_XG_x10_finetuned.csv'\n",
    "\n",
    "]\n",
    "\n",
    "confidence_voting(paths, output_path=\"submission_8_models_confident_2.csv\")"
   ]
  }
 ],
 "metadata": {
  "kernelspec": {
   "display_name": "base",
   "language": "python",
   "name": "python3"
  },
  "language_info": {
   "codemirror_mode": {
    "name": "ipython",
    "version": 3
   },
   "file_extension": ".py",
   "mimetype": "text/x-python",
   "name": "python",
   "nbconvert_exporter": "python",
   "pygments_lexer": "ipython3",
   "version": "3.12.3"
  }
 },
 "nbformat": 4,
 "nbformat_minor": 5
}
